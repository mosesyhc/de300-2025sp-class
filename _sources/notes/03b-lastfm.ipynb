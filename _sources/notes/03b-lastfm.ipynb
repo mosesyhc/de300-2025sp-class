{
 "cells": [
  {
   "cell_type": "markdown",
   "id": "c1df7dc9-119a-40f2-a88d-1a147dea5a62",
   "metadata": {},
   "source": [
    "# Matrix completion via recommendation system example\n",
    "\n",
    "This example demonstrates the use of matrix completion techniques on a recommendation system.  The recommendation system uses data from the [360K Last.fm dataset](http://ocelma.net/MusicRecommendationDataset/lastfm-360K.html)."
   ]
  },
  {
   "cell_type": "code",
   "execution_count": null,
   "id": "a38e65e4-5038-4eb2-bc09-4f1d23c99554",
   "metadata": {},
   "outputs": [],
   "source": [
    "#!pip install -U implicit h5py"
   ]
  },
  {
   "cell_type": "code",
   "execution_count": null,
   "id": "ef3cf11b-f15f-426a-b7bd-134eb9c71e05",
   "metadata": {},
   "outputs": [],
   "source": [
    "# retrieving last.fm dataset\n",
    "from implicit.datasets.lastfm import get_lastfm\n",
    "import numpy as np\n",
    "import pandas as pd\n",
    "from scipy import sparse\n",
    "import os\n",
    "from pathlib import Path"
   ]
  },
  {
   "cell_type": "markdown",
   "id": "a44218cc-4d47-47b3-898d-c0480edfadcd",
   "metadata": {},
   "source": [
    "## Downloading and saving the Last.fm dataset"
   ]
  },
  {
   "cell_type": "code",
   "execution_count": null,
   "id": "ea1409a3-3e72-412a-9303-3e85e3121279",
   "metadata": {},
   "outputs": [],
   "source": [
    "filepath = r'dataset/'\n",
    "Path(filepath).mkdir(exist_ok=True)\n",
    "\n",
    "if not os.path.exists(filepath + r'artist_user_plays.npz'):\n",
    "    # save our dataset in sparse format\n",
    "    artists, users, artist_user_plays = get_lastfm()\n",
    "\n",
    "    sparse.save_npz(filepath + r'artist_user_plays.npz', artist_user_plays)\n",
    "    np.save(filepath + 'artists.npy', artists)\n",
    "    np.save(filepath + 'users.npy', users)\n",
    "else:\n",
    "    # load our dataset into original format\n",
    "    artist_user_plays = sparse.load_npz(filepath + r'artist_user_plays.npz')\n",
    "    artists = np.load(filepath + 'artists.npy', allow_pickle=True)\n",
    "    users = np.load(filepath + 'users.npy', allow_pickle=True)"
   ]
  },
  {
   "cell_type": "code",
   "execution_count": null,
   "id": "e612aba0-6224-418a-b7b3-a42f6e848a1f",
   "metadata": {},
   "outputs": [],
   "source": [
    "# some samples of artists\n",
    "artists[np.random.randint(size=50, low=0, high=len(artists))]\n",
    "\n",
    "# some samples of users\n",
    "users[0]"
   ]
  },
  {
   "cell_type": "code",
   "execution_count": null,
   "id": "0c3dbb61-3e3d-4131-bbf8-7b5be628c4c5",
   "metadata": {},
   "outputs": [],
   "source": [
    "# return the dimensions of data\n",
    "artists.shape, users.shape, artist_user_plays.shape"
   ]
  },
  {
   "cell_type": "code",
   "execution_count": null,
   "id": "195629e5-3e5f-422f-bd71-b91aca3d04bd",
   "metadata": {},
   "outputs": [],
   "source": [
    "artist_user_plays"
   ]
  },
  {
   "cell_type": "code",
   "execution_count": null,
   "id": "02b9bd62-ab68-412d-955c-8513edce05bc",
   "metadata": {},
   "outputs": [],
   "source": []
  },
  {
   "cell_type": "code",
   "execution_count": null,
   "id": "c437181a-75e2-49b4-8f13-32dbefd7fa7f",
   "metadata": {},
   "outputs": [],
   "source": [
    "# return the number of entries \n",
    "artist_user_plays.count_nonzero() "
   ]
  },
  {
   "cell_type": "code",
   "execution_count": null,
   "id": "8074078d-8e08-4e68-ae69-409e9403a3d9",
   "metadata": {
    "scrolled": true
   },
   "outputs": [],
   "source": [
    "# investigate the proportion of non-zero entries\n",
    "artist_user_plays.count_nonzero()  / (292385 * 358868)"
   ]
  },
  {
   "cell_type": "markdown",
   "id": "e939db7d-c249-4cd6-afaf-895476d7c409",
   "metadata": {},
   "source": [
    "## Preparing the data\n",
    "Okapi BM25 (Best Matching) scoring is a ranking algorithm used by search engines to estimate the relevance of items to a given search query, based on the frequency of occurrences and the size of the reference pool.  The origin of the algorithm is used in search terms in a pool of documents.\n",
    "\n",
    "For completeness, the BM25 score of query $Q=\\{q_1, \\ldots, q_n\\}$ for a document $D$ is calculated as:\n",
    "\n",
    "$$\\text{BM25}(D, Q) = \\sum_{i=1}^{n} \\frac{IDF(q_i) \\cdot f(q_i, D) \\cdot (k_1 + 1)}{f(q_i, D) + k_1 \\cdot (1 - b + b \\cdot \\frac{|D|}{\\text{avgD}})},$$\n",
    "where\n",
    "- $IDF(q_i)$ is the inverse document frequency of term $q_i$.\n",
    "- $f(q_i, D)$ is the term frequency of $q_i$ in the document $D$.\n",
    "- $k_1$ and $b$ are parameters controlling term saturation and document length normalization.\n",
    "- $D$ is the length of the document.\n",
    "- $\\text{avgD}$ is the average document length in the corpus.\n"
   ]
  },
  {
   "cell_type": "code",
   "execution_count": null,
   "id": "5e08b444-8452-4fac-ba52-91d36051273b",
   "metadata": {},
   "outputs": [],
   "source": [
    "from implicit.nearest_neighbours import bm25_weight\n",
    "\n",
    "# weight the matrix, both to reduce impact of users that have played the same artist thousands of times\n",
    "# and to reduce the weight given to popular items\n",
    "artist_user_plays = bm25_weight(artist_user_plays, K1=100, B=0.8)\n",
    "\n",
    "# get the transpose since the most of the functions in implicit expect (user, item) sparse matrices instead of (item, user)\n",
    "user_plays = artist_user_plays.T.tocsr()"
   ]
  },
  {
   "cell_type": "markdown",
   "id": "431e1b77-065c-4e89-a8b7-dd646e5bd6d8",
   "metadata": {},
   "source": [
    "## Training the model with alternating least squares"
   ]
  },
  {
   "cell_type": "code",
   "execution_count": null,
   "id": "25bf9181-b1e2-4424-9eb4-6b1a227e27d8",
   "metadata": {},
   "outputs": [],
   "source": [
    "from implicit.als import AlternatingLeastSquares\n",
    "\n",
    "model = AlternatingLeastSquares(factors=16, regularization=0.05, alpha=2.0)\n",
    "model.fit(user_plays)"
   ]
  },
  {
   "cell_type": "markdown",
   "id": "c3005342-dd71-45ff-84a3-8b058f0e8407",
   "metadata": {},
   "source": [
    "## Similar artists recommendation"
   ]
  },
  {
   "cell_type": "code",
   "execution_count": null,
   "id": "02716747-80c7-4aca-882b-b491e48d5a0e",
   "metadata": {},
   "outputs": [],
   "source": [
    "list(artists).index('beethoven')"
   ]
  },
  {
   "cell_type": "code",
   "execution_count": null,
   "id": "41a82e78-4081-40b9-98c5-70a4208eb3b4",
   "metadata": {},
   "outputs": [],
   "source": [
    "artist_id = 42883\n",
    "ids, scores = model.similar_items(artist_id)"
   ]
  },
  {
   "cell_type": "code",
   "execution_count": null,
   "id": "cf2e8aac-b465-4125-84e4-d326ca52e7d4",
   "metadata": {},
   "outputs": [],
   "source": [
    "pd.DataFrame({\"artist\": artists[ids], \"score\": scores})"
   ]
  },
  {
   "cell_type": "markdown",
   "id": "420deb61-d5ad-403d-bf5e-7393adeabf11",
   "metadata": {},
   "source": [
    "## User-specific recommendation"
   ]
  },
  {
   "cell_type": "code",
   "execution_count": null,
   "id": "d783f652-87a2-4362-9dd2-c166e5bb8b9d",
   "metadata": {},
   "outputs": [],
   "source": [
    "userid = 10\n",
    "ids, scores = model.recommend(userid, user_plays[userid], N=10, filter_already_liked_items=False)"
   ]
  },
  {
   "cell_type": "code",
   "execution_count": null,
   "id": "c40a66e8-563b-4915-8957-d3ae5187405d",
   "metadata": {},
   "outputs": [],
   "source": [
    "pd.DataFrame({\"artist\": artists[ids], \"score\": scores, \"already_liked\": np.isin(ids, user_plays[userid].indices)})"
   ]
  }
 ],
 "metadata": {
  "kernelspec": {
   "display_name": "Python 3 (ipykernel)",
   "language": "python",
   "name": "python3"
  },
  "language_info": {
   "codemirror_mode": {
    "name": "ipython",
    "version": 3
   },
   "file_extension": ".py",
   "mimetype": "text/x-python",
   "name": "python",
   "nbconvert_exporter": "python",
   "pygments_lexer": "ipython3",
   "version": "3.11.9"
  }
 },
 "nbformat": 4,
 "nbformat_minor": 5
}
