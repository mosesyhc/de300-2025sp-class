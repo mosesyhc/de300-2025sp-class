{
 "cells": [
  {
   "cell_type": "markdown",
   "id": "56573cff-ed8c-49c9-bd7c-7352e60ec665",
   "metadata": {
    "editable": true,
    "slideshow": {
     "slide_type": "slide"
    },
    "tags": []
   },
   "source": [
    "# Introduction to Data Engineering\n",
    "\n",
    "This notebook summarizes the data engineering lifecycle, and emphasizes the components covered in DATA_ENG 300."
   ]
  },
  {
   "cell_type": "markdown",
   "id": "984e291c-b48c-4701-9ad1-7deae145e929",
   "metadata": {
    "editable": true,
    "slideshow": {
     "slide_type": "subslide"
    },
    "tags": []
   },
   "source": [
    "## Data Engineering Lifecycle\n",
    "\n",
    "Reis, J., & Housley, M. (2022) describes the data engineering lifecycle with five main stages:  \n",
    "- Generation\n",
    "- Storage\n",
    "- Ingestion\n",
    "- Transformation\n",
    "- Serving data "
   ]
  },
  {
   "cell_type": "markdown",
   "id": "babe85ec-9b46-4d85-9423-24b1cd95b581",
   "metadata": {
    "editable": true,
    "slideshow": {
     "slide_type": "fragment"
    },
    "tags": []
   },
   "source": [
    "|![data-eng-lifecycle](../img/fode_0201.png)|\n",
    "|:---:|\n",
    "|Data engineering lifecycle components (Reis, J., & Housley, M. (2022))|\n",
    "```\n"
   ]
  },
  {
   "cell_type": "markdown",
   "id": "4628a947-99fe-46b1-a322-140848c4b5bf",
   "metadata": {
    "editable": true,
    "slideshow": {
     "slide_type": "slide"
    },
    "tags": []
   },
   "source": [
    "## Preparation for next week\n",
    "- Labs are on Tuesdays 5 - 7PM\n",
    "- Familiarize with Github (if you have not, register for an account.)\n",
    "- Familiarize with colab / jupyter notebook"
   ]
  }
 ],
 "metadata": {
  "kernelspec": {
   "display_name": "Python 3 (ipykernel)",
   "language": "python",
   "name": "python3"
  },
  "language_info": {
   "codemirror_mode": {
    "name": "ipython",
    "version": 3
   },
   "file_extension": ".py",
   "mimetype": "text/x-python",
   "name": "python",
   "nbconvert_exporter": "python",
   "pygments_lexer": "ipython3",
   "version": "3.11.8"
  },
  "widgets": {
   "application/vnd.jupyter.widget-state+json": {
    "state": {},
    "version_major": 2,
    "version_minor": 0
   }
  }
 },
 "nbformat": 4,
 "nbformat_minor": 5
}
