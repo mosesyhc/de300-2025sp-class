{
 "cells": [
  {
   "cell_type": "markdown",
   "id": "e4cbf680-196d-4ff1-9af6-b1d9e424f0bc",
   "metadata": {
    "editable": true,
    "slideshow": {
     "slide_type": "slide"
    },
    "tags": []
   },
   "source": [
    "# Wide-column database system (Apache Cassandra)\n",
    "\n",
    "This document covers the wide-column database system, with Cassandra queries that are used via AWS Keyspaces."
   ]
  },
  {
   "cell_type": "markdown",
   "id": "8bcbde34-242d-430f-99b9-d43657b84c4b",
   "metadata": {
    "editable": true,
    "slideshow": {
     "slide_type": "subslide"
    },
    "tags": []
   },
   "source": [
    "## An abridged version of the Cassandra timeline"
   ]
  },
  {
   "cell_type": "markdown",
   "id": "e7d9a27c-6e9c-4f5d-b30f-253c450d1841",
   "metadata": {
    "editable": true,
    "slideshow": {
     "slide_type": "fragment"
    },
    "tags": []
   },
   "source": [
    "- **2008**: First developed to address Facebook scaling needs by improving search function.\n",
    "- **2008**: Released by Facebook as an open-source project."
   ]
  },
  {
   "cell_type": "markdown",
   "id": "8499e0fb-0ebb-4ebd-b4ab-365954e1e451",
   "metadata": {
    "editable": true,
    "slideshow": {
     "slide_type": "fragment"
    },
    "tags": []
   },
   "source": [
    "- **2009**: Apache picked up Cassandra as an Incubator project, and graduated in 2010."
   ]
  },
  {
   "cell_type": "markdown",
   "id": "b58d4a60-9f80-476f-8928-bda98464c843",
   "metadata": {
    "editable": true,
    "slideshow": {
     "slide_type": "fragment"
    },
    "tags": []
   },
   "source": [
    "- **2011**: Cassandra Query Language (CQL) is introduced (v0.8)."
   ]
  },
  {
   "cell_type": "markdown",
   "id": "0610125e-4718-4f26-9dd3-c8bcfc2270ba",
   "metadata": {
    "editable": true,
    "slideshow": {
     "slide_type": "fragment"
    },
    "tags": []
   },
   "source": [
    "- **2021**: Cassandra 4.0 was released.  In [Patrick McFadin's own words](https://datastax.medium.com/the-end-of-the-beginning-for-apache-cassandra-f58b5b4b7504),\n",
    "> This is an important milestone in the lifecycle of a database project that has come into its own as an important database used around the world."
   ]
  },
  {
   "cell_type": "markdown",
   "id": "be251499-b43c-4a4e-a299-9f962d1cac1d",
   "metadata": {
    "editable": true,
    "slideshow": {
     "slide_type": "subslide"
    },
    "tags": []
   },
   "source": [
    "## Architecture of Cassandra"
   ]
  },
  {
   "cell_type": "markdown",
   "id": "531fb387-ed62-46db-88fa-6eb039a403ac",
   "metadata": {
    "editable": true,
    "slideshow": {
     "slide_type": "fragment"
    },
    "tags": []
   },
   "source": [
    "|![apache-cassandra](../img/apache-cassandra-ring.jpg)|\n",
    "|:---:|\n",
    "|Apache Cassandra distributed database schema. |\n"
   ]
  },
  {
   "cell_type": "markdown",
   "id": "bf17eaf5-db50-447c-abc3-1f89874de6b2",
   "metadata": {
    "editable": true,
    "slideshow": {
     "slide_type": "subslide"
    },
    "tags": []
   },
   "source": [
    "### Decentralized multiple nodes"
   ]
  },
  {
   "cell_type": "markdown",
   "id": "fadf9bbe-448f-4844-9723-a0953a018cd3",
   "metadata": {
    "editable": true,
    "slideshow": {
     "slide_type": "fragment"
    },
    "tags": []
   },
   "source": [
    "Each node can receive request (query) and coordinates the request:"
   ]
  },
  {
   "cell_type": "markdown",
   "id": "e93cd54d-3038-42bf-8242-f6fb56fb1ee3",
   "metadata": {
    "editable": true,
    "slideshow": {
     "slide_type": "fragment"
    },
    "tags": []
   },
   "source": [
    "  - If the coordinator node contains the data, it may return the results."
   ]
  },
  {
   "cell_type": "markdown",
   "id": "f0fa565e-0ca0-4651-b0e0-77acb7bbeb46",
   "metadata": {
    "editable": true,
    "slideshow": {
     "slide_type": "fragment"
    },
    "tags": []
   },
   "source": [
    "  - If the coordinator node does not contain the data, it can calculate which other node does (via a *consistent hashing algorithm*)."
   ]
  },
  {
   "cell_type": "markdown",
   "id": "4f9b0000-817b-4abe-b0d7-d757939a6d12",
   "metadata": {
    "editable": true,
    "slideshow": {
     "slide_type": "fragment"
    },
    "tags": []
   },
   "source": [
    "  - If consistency level is requested, the coordinator node queries the data from replica nodes."
   ]
  },
  {
   "cell_type": "markdown",
   "id": "4794628c-c15a-418c-bc0f-5806c2c1a727",
   "metadata": {
    "editable": true,
    "slideshow": {
     "slide_type": "subslide"
    },
    "tags": []
   },
   "source": [
    "A note about the hashing algorithm:  "
   ]
  },
  {
   "cell_type": "markdown",
   "id": "c223d217-fe77-49fd-9c10-0969c2e28a18",
   "metadata": {
    "editable": true,
    "slideshow": {
     "slide_type": "fragment"
    },
    "tags": []
   },
   "source": [
    "- Data are assigned to nodes by a hash function to calculate a *token* for the partition key."
   ]
  },
  {
   "cell_type": "markdown",
   "id": "0f1c16df-dd3e-42dc-a81d-227640a62bdb",
   "metadata": {
    "editable": true,
    "slideshow": {
     "slide_type": "fragment"
    },
    "tags": []
   },
   "source": [
    "- Each node owns a range of the tokens."
   ]
  },
  {
   "cell_type": "markdown",
   "id": "7160abbd-b77b-4140-86e6-f876a5b15e0b",
   "metadata": {
    "editable": true,
    "slideshow": {
     "slide_type": "subslide"
    },
    "tags": []
   },
   "source": [
    "Example through the following query:"
   ]
  },
  {
   "cell_type": "markdown",
   "id": "c5585470-3cd0-4f7a-8ea6-504fd6e2bfae",
   "metadata": {
    "editable": true,
    "slideshow": {
     "slide_type": "fragment"
    },
    "tags": []
   },
   "source": [
    "```sql\n",
    "SELECT subject_id, token(subject_id) FROM de300_demo.patient_tbl;\n",
    "```"
   ]
  },
  {
   "cell_type": "markdown",
   "id": "068dc57a-ace8-48b5-8019-36a1d995bea0",
   "metadata": {
    "editable": true,
    "slideshow": {
     "slide_type": "fragment"
    },
    "tags": []
   },
   "source": [
    "|![token-ring](../img/token_ring.png)|\n",
    "|:---:|\n",
    "|Token ring (Fig 6.2 from Carpenter, 2022).|"
   ]
  },
  {
   "cell_type": "markdown",
   "id": "08326ff3-4192-4e1b-91fb-7610cfeed35d",
   "metadata": {
    "editable": true,
    "slideshow": {
     "slide_type": "subslide"
    },
    "tags": []
   },
   "source": [
    "### Partitions\n",
    "*Recall* what a primary key is in a relational database table."
   ]
  },
  {
   "cell_type": "markdown",
   "id": "6211e523-f256-48ad-8b61-eb50c7fc54de",
   "metadata": {
    "editable": true,
    "slideshow": {
     "slide_type": "fragment"
    },
    "tags": []
   },
   "source": [
    "Cassandra calls the main entity a *Keyspace*, as a group of tables with some relationships (*analogous to database in a relational database system*). "
   ]
  },
  {
   "cell_type": "markdown",
   "id": "83d36107-ae73-4513-9c58-5b5a91a90d57",
   "metadata": {
    "editable": true,
    "slideshow": {
     "slide_type": "fragment"
    },
    "tags": []
   },
   "source": [
    "The primary key in a Cassandra table consists of \n",
    "- a mandatory **partition key**, and\n",
    "- an optional set of **clustering columns**."
   ]
  },
  {
   "cell_type": "markdown",
   "id": "bfe0b535-e0cd-41d8-90ca-eba2b3dcdbb7",
   "metadata": {
    "editable": true,
    "slideshow": {
     "slide_type": "subslide"
    },
    "tags": []
   },
   "source": [
    "Example of partitioning:"
   ]
  },
  {
   "cell_type": "markdown",
   "id": "a20f5742-c502-4f8c-8cc2-e7b35604eac2",
   "metadata": {
    "editable": true,
    "slideshow": {
     "slide_type": "fragment"
    },
    "tags": []
   },
   "source": [
    "```sql\n",
    ">>> CREATE TABLE de300keyspaces.users_by_country (\n",
    "    country text,\n",
    "    user_email text,\n",
    "    first_name text,\n",
    "    last_name text,\n",
    "    age smallint,\n",
    "    PRIMARY KEY ((country), user_email)\n",
    ");\n",
    "```"
   ]
  },
  {
   "cell_type": "markdown",
   "id": "47bca3a0-7747-4e1a-9dcb-0fe0c368b0ea",
   "metadata": {
    "editable": true,
    "slideshow": {
     "slide_type": "fragment"
    },
    "tags": []
   },
   "source": [
    "```sql\n",
    "Table Users | Legend: p - Partition-Key, c - Clustering Column\n",
    "\n",
    "country (p) | user_email (c)  | first_name | last_name | age\n",
    "----------------------------------------------------------------\n",
    "US          | john@email.com  | John       | Wick      | 55  \n",
    "UK          | peter@email.com | Peter      | Clark     | 65  \n",
    "UK          | bob@email.com   | Bob        | Sandler   | 23 \n",
    "UK          | alice@email.com | Alice      | Brown     | 26\n",
    "```"
   ]
  },
  {
   "cell_type": "markdown",
   "id": "ff0891fb-f1ed-4d2f-aaed-52290d8ea261",
   "metadata": {
    "editable": true,
    "slideshow": {
     "slide_type": "fragment"
    },
    "tags": []
   },
   "source": [
    "**Why use country as the mandatory key?**\n",
    "- The most important bit to understanding is *scalability*.\n",
    "- *If* we often query the user database for specific countries, this may be a good idea.\n"
   ]
  },
  {
   "cell_type": "markdown",
   "id": "3b1456ff-1442-46ad-b319-b991eedb4687",
   "metadata": {
    "editable": true,
    "slideshow": {
     "slide_type": "fragment"
    },
    "tags": []
   },
   "source": [
    "|![partition-key](../img/partition-key.png)|\n",
    "|:---:|\n",
    "|Illstration for partition key.|\n"
   ]
  },
  {
   "cell_type": "markdown",
   "id": "86b31ecc-10dd-46d8-bbe8-a0896c847d16",
   "metadata": {
    "editable": true,
    "slideshow": {
     "slide_type": "subslide"
    },
    "tags": []
   },
   "source": [
    "The main role of the **partition key** is to distribute data evenly among nodes."
   ]
  },
  {
   "cell_type": "markdown",
   "id": "99287437-2da4-4857-873f-4e4f10a5a691",
   "metadata": {
    "editable": true,
    "slideshow": {
     "slide_type": "fragment"
    },
    "tags": []
   },
   "source": [
    "An example query that will work really efficiently is the following:  \n",
    "`>>> SELECT * FROM de300keyspaces.users_by_country WHERE country='US';`"
   ]
  },
  {
   "cell_type": "markdown",
   "id": "c3d65802-eddb-4ed8-9657-e0e979830e1d",
   "metadata": {
    "editable": true,
    "slideshow": {
     "slide_type": "fragment"
    },
    "tags": []
   },
   "source": [
    "An example query that will work poorly would be the following:  \n",
    "`>>> SELECT * FROM de300keyspaces.users_by_country WHERE age > 50;`"
   ]
  },
  {
   "cell_type": "markdown",
   "id": "1863fed5-7fff-488c-bc13-4b208e3674e6",
   "metadata": {
    "editable": true,
    "slideshow": {
     "slide_type": "fragment"
    },
    "tags": []
   },
   "source": [
    "In fact, the query above will not run.  Queries without conditions (`WHERE`) or use conditions that don't use the partition key should be avoided."
   ]
  },
  {
   "cell_type": "markdown",
   "id": "616348da-b4bd-4940-9a55-3211e8c033a6",
   "metadata": {
    "editable": true,
    "slideshow": {
     "slide_type": "fragment"
    },
    "tags": []
   },
   "source": [
    "*With caution:* You may force this kind of query to run with the following:  \n",
    "`>>> SELECT * FROM de300keyspaces.users_by_country WHERE age > 50 ALLOW FILTERING;`"
   ]
  },
  {
   "cell_type": "markdown",
   "id": "8ab69e3c-8959-4773-ac36-f41dfeabbe7e",
   "metadata": {
    "editable": true,
    "slideshow": {
     "slide_type": "subslide"
    },
    "tags": []
   },
   "source": [
    "### Replication\n",
    "Data are duplicated and stored in different nodes (replicas).  By default, a replication of three \"availability zones\" is supported in AWS Keyspace.\n",
    "\n",
    "When a keyspace is created, a query such as the following requires specifying a replication factor."
   ]
  },
  {
   "cell_type": "markdown",
   "id": "b112f394-5a37-428f-ae0d-6891c382458d",
   "metadata": {
    "editable": true,
    "slideshow": {
     "slide_type": "fragment"
    },
    "tags": []
   },
   "source": [
    "```sql\n",
    "# AWS Keyspace\n",
    ">>> CREATE KEYSPACE IF NOT EXISTS \"de300keyspaces\"\n",
    "  WITH REPLICATION = {'class': 'SingleRegionStrategy'};\n",
    "```"
   ]
  },
  {
   "cell_type": "markdown",
   "id": "c77c1011-4637-4d2f-a5b7-a1049adaca7e",
   "metadata": {
    "editable": true,
    "slideshow": {
     "slide_type": "fragment"
    },
    "tags": []
   },
   "source": [
    "```sql\n",
    "# General Cassandra\n",
    ">>> CREATE KEYSPACE de300keyspaces  \r\n",
    "  WITH REPLICATION = { \r\n",
    "   'class' : 'NetworkTopologyStrategy',\r\n",
    "   'datacenter1' : 3 \r\n",
    "  };\n",
    "```"
   ]
  },
  {
   "cell_type": "markdown",
   "id": "92f15aca-fe64-44d5-b06e-4a2bf0e5404d",
   "metadata": {
    "editable": true,
    "slideshow": {
     "slide_type": "fragment"
    },
    "tags": []
   },
   "source": [
    "A **replication factor** of 3 means that for each row of data, there are three copies stored on different nodes."
   ]
  },
  {
   "cell_type": "markdown",
   "id": "a85be9ad-821a-4159-a5a7-2715571568b4",
   "metadata": {
    "editable": true,
    "slideshow": {
     "slide_type": "fragment"
    },
    "tags": []
   },
   "source": [
    "```\n",
    ">>> CONSISTENCY ONE;\n",
    ">>> CONSISTENCY LOCAL_ONE;\n",
    ">>> CONSISTENCY LOCAL_QUORUM;\n",
    "```"
   ]
  },
  {
   "cell_type": "markdown",
   "id": "f74fd499-863d-4099-a625-c05b50a1d226",
   "metadata": {
    "editable": true,
    "slideshow": {
     "slide_type": "fragment"
    },
    "tags": []
   },
   "source": [
    "Note: Strong consistency means $$[\\textrm{read-consistency-level}] + [\\textrm{write-consistency-level}] > [\\textrm{replication-factor}].$$"
   ]
  },
  {
   "cell_type": "markdown",
   "id": "6d6ad14d-a0db-4c6a-b5fb-6c03810d6500",
   "metadata": {
    "editable": true,
    "slideshow": {
     "slide_type": "subslide"
    },
    "tags": []
   },
   "source": [
    "### Consistency\n",
    "Once we have replicates, the notion of consistency beceomes important.  As we have seen before, *strong consistency* means only one state of your data can be observed at any time in any location.\n",
    "Cassandra generally runs an *eventually consistent* model."
   ]
  },
  {
   "cell_type": "markdown",
   "id": "bd639744-6b63-46e1-b132-009fa9d64b38",
   "metadata": {
    "editable": true,
    "slideshow": {
     "slide_type": "fragment"
    },
    "tags": []
   },
   "source": [
    "*The biggest question is how important strong consistency in your use case.*"
   ]
  },
  {
   "cell_type": "markdown",
   "id": "37e0a2fb-bb91-4949-98cd-db38469b7021",
   "metadata": {
    "editable": true,
    "slideshow": {
     "slide_type": "fragment"
    },
    "tags": []
   },
   "source": [
    "**Read/Write consistency level** means how many of the read/write operations (replica) are completed."
   ]
  },
  {
   "cell_type": "markdown",
   "id": "20579662-5853-4f5c-a4bd-609995f12cdc",
   "metadata": {
    "editable": true,
    "slideshow": {
     "slide_type": "fragment"
    },
    "tags": []
   },
   "source": [
    "Consistency for all queries can be set by the following query examples:"
   ]
  },
  {
   "cell_type": "markdown",
   "id": "6e925a6b-bebd-4dc7-a9f5-37be3117024b",
   "metadata": {
    "editable": true,
    "slideshow": {
     "slide_type": "fragment"
    },
    "tags": []
   },
   "source": [
    "```sql\n",
    ">>> CONSISTENCY ONE;\n",
    ">>> CONSISTENCY LOCAL_QUORUM;\n",
    "```"
   ]
  },
  {
   "cell_type": "markdown",
   "id": "c67b88f0-8fad-4279-9158-ad889c83ca38",
   "metadata": {
    "editable": true,
    "slideshow": {
     "slide_type": "subslide"
    },
    "tags": []
   },
   "source": [
    "### Pre-sorting\n",
    "Recalling that the primary key consists of \n",
    "- a mandatory partition key (1+ columns), and\n",
    "- an optional set of clustering columns (0+ columns)."
   ]
  },
  {
   "cell_type": "markdown",
   "id": "171a820f-15bc-48da-a819-4c75d6317c6b",
   "metadata": {
    "editable": true,
    "slideshow": {
     "slide_type": "fragment"
    },
    "tags": []
   },
   "source": [
    "Cassandra sorts the data by default.  Using the same example from above:"
   ]
  },
  {
   "cell_type": "markdown",
   "id": "c2e9f30f-aa2c-4e47-a283-0df5ebacbdca",
   "metadata": {
    "editable": true,
    "slideshow": {
     "slide_type": "fragment"
    },
    "tags": []
   },
   "source": [
    "``` sql\n",
    ">>> CREATE TABLE de300keyspaces.users_by_country_sorted_by_age_asc (\n",
    "    country text,\n",
    "    user_email text,\n",
    "    first_name text,\n",
    "    last_name text,\n",
    "    age smallint,\n",
    "    PRIMARY KEY ((country), age, user_email)\n",
    ") WITH CLUSTERING ORDER BY (age ASC);\n",
    "```"
   ]
  },
  {
   "cell_type": "markdown",
   "id": "3e69b245-1256-469a-93b0-dfe4ac70db1d",
   "metadata": {
    "editable": true,
    "slideshow": {
     "slide_type": "fragment"
    },
    "tags": []
   },
   "source": [
    "```sql\n",
    ">>> SELECT * FROM de300keyspaces.users_by_country_sorted_by_age_asc WHERE country='UK';\r\n",
    "\r\n",
    " country | age | user_email       | first_name | last_name\r\n",
    "---------+-----+------------------+------------+-----------\r\n",
    "      UK |  20 | bob@email.com   |        Bob |   Sandler\r\n",
    "      UK |  30 | peter@email.com |      Peter |     Clark\r\n",
    "      UK |  40 | alice@email.com |      Alice |   Brown\r\n",
    "\n",
    "```"
   ]
  },
  {
   "cell_type": "markdown",
   "id": "c3342705-c028-4252-816f-ead021e5441d",
   "metadata": {
    "editable": true,
    "slideshow": {
     "slide_type": "fragment"
    },
    "tags": []
   },
   "source": [
    "Notice that age is included as a clustering column, and sorted.\n",
    "\n",
    "The **order** of your clustering columns matters!  "
   ]
  },
  {
   "cell_type": "markdown",
   "id": "7aa68124-f057-4671-b55e-96f52cdab27c",
   "metadata": {
    "editable": true,
    "slideshow": {
     "slide_type": "fragment"
    },
    "tags": []
   },
   "source": [
    "It is now possible to query the table by \n",
    "- `country`\n",
    "- `country`, `age`\n",
    "- `country`, `age`, `user_email`\n",
    "\n",
    "But querying by `country` and `user_email` becomes inefficient."
   ]
  },
  {
   "cell_type": "markdown",
   "id": "15202f71-9a76-4a43-90a2-e04c2e35894c",
   "metadata": {
    "editable": true,
    "slideshow": {
     "slide_type": "subslide"
    },
    "tags": []
   },
   "source": [
    "### Deletion of data\n",
    "When data are replicated, deletion of data becomes complicated.  "
   ]
  },
  {
   "cell_type": "markdown",
   "id": "16f87bf1-b0e3-4029-a285-2f68d9f01889",
   "metadata": {
    "editable": true,
    "slideshow": {
     "slide_type": "fragment"
    },
    "tags": []
   },
   "source": [
    "Cassandra sets up *tombstone* to prevent reintroducing any deleted data.\n",
    "\n",
    "- Typically a tombstone is placed on the values to be deleted (i.e., an *update*).\n",
    "- (In a relational database,) an update statement is issued to change values to *deleted* in a row.\n",
    "- The tombstones are kept for some length of time (`gc_grace_seconds = 864000` by default)."
   ]
  },
  {
   "cell_type": "markdown",
   "id": "24a4f104-4a74-4892-80df-cbd2080e06df",
   "metadata": {
    "editable": true,
    "slideshow": {
     "slide_type": "subslide"
    },
    "tags": []
   },
   "source": [
    "### Node failure detection\n",
    "Since a Cassandra ring (or cluster of nodes) contains potentially many nodes (which may fail), we need a mechanism to check if any individual node is failing."
   ]
  },
  {
   "cell_type": "markdown",
   "id": "89ff80a9-e3ce-48a7-b104-62a70d0383c0",
   "metadata": {
    "editable": true,
    "slideshow": {
     "slide_type": "fragment"
    },
    "tags": []
   },
   "source": [
    "A *gossip* protocol system is employed in Cassandra to detect failures in the ring.  When any node spins up, it registers itself with the gossiper to receive the state of the cluster."
   ]
  },
  {
   "cell_type": "markdown",
   "id": "99d8bfb9-7bc0-43ab-8bb5-9fd24943460e",
   "metadata": {
    "editable": true,
    "slideshow": {
     "slide_type": "fragment"
    },
    "tags": []
   },
   "source": [
    "The gossip protocol goes as follows:\n",
    "1. Once per second, the gossiper will choose a random node in the cluster and initialize a gossip session.  \n",
    "   (Each round of gossip requires three messages back-and-forth.)\n",
    "2. The gossip initiator sends a `GossipDigestSyn` message.\n",
    "3. When the friend receives the message, it returns a `GossipDigestAck` message.\n",
    "4. When the initiator receives the *ack* message, it sends a `GossipDigestAck2` message to complete the round of gossip.\n",
    "5. If there is no response, the initiator *convicts* the friend by marking it as dead in its local list and logging that fact."
   ]
  },
  {
   "cell_type": "markdown",
   "id": "5f3fd407-3373-424c-86a1-93f9dddef6d5",
   "metadata": {
    "editable": true,
    "slideshow": {
     "slide_type": "fragment"
    },
    "tags": []
   },
   "source": [
    "When is a failure detected?  Cassandra implements **the $\\phi$ accrual failure detector** (Hayashibara et al., 2004).\n",
    "- A *suspicion* level is maintained by the failure monitoring system.\n",
    "- Each node has a *Phi* suspicion level attached.\n",
    "- If the suspicion level (e.g., number of gossips missed) goes beyond Phi in the node, then failure is declared."
   ]
  },
  {
   "cell_type": "markdown",
   "id": "929f8e75-f7bd-4e50-bea8-470487a8fea1",
   "metadata": {
    "editable": true,
    "slideshow": {
     "slide_type": "subslide"
    },
    "tags": []
   },
   "source": [
    "### Main take-aways\n",
    "- The strength of Cassandra is in horizontal scalability, balancing consistency and availability.\n",
    "- Implication:\n",
    "  - No `JOIN` statements\n",
    "  - No nested query, subquery\n",
    "  - Tables are designed for queries, not the other way around."
   ]
  },
  {
   "cell_type": "markdown",
   "id": "a206c8fe-200f-42c4-aae8-09656d99aea0",
   "metadata": {
    "editable": true,
    "slideshow": {
     "slide_type": "skip"
    },
    "tags": []
   },
   "source": [
    "# References\n",
    "\n",
    "Carpenter, J., & Hewitt, E. (2022). *Cassandra*. \"O'Reilly Media, Inc.\".  \n",
    "Hayashibara, N., Defago, X., Yared, R., & Katayama, T. (2004, October). The/spl phi/accrual failure detector. *In Proceedings of the 23rd IEEE International Symposium on Reliable Distributed Systems*, 2004. (pp. 66-78). IEEE."
   ]
  }
 ],
 "metadata": {
  "kernelspec": {
   "display_name": "Python 3 (ipykernel)",
   "language": "python",
   "name": "python3"
  },
  "language_info": {
   "codemirror_mode": {
    "name": "ipython",
    "version": 3
   },
   "file_extension": ".py",
   "mimetype": "text/x-python",
   "name": "python",
   "nbconvert_exporter": "python",
   "pygments_lexer": "ipython3",
   "version": "3.11.8"
  },
  "widgets": {
   "application/vnd.jupyter.widget-state+json": {
    "state": {},
    "version_major": 2,
    "version_minor": 0
   }
  }
 },
 "nbformat": 4,
 "nbformat_minor": 5
}
