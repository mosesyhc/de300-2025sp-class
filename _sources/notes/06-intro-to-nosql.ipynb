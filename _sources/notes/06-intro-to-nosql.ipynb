{
 "cells": [
  {
   "cell_type": "markdown",
   "id": "c2afa085-f4de-46cf-8a9b-32ba170ffa21",
   "metadata": {
    "editable": true,
    "slideshow": {
     "slide_type": "slide"
    },
    "tags": []
   },
   "source": [
    "# Introduction to NoSQL databases\n",
    "\n",
    "This document introduces the concept and usage of NoSQL databases."
   ]
  },
  {
   "cell_type": "markdown",
   "id": "83f4b7e4-d39b-4025-aa7a-061205dc437a",
   "metadata": {
    "editable": true,
    "slideshow": {
     "slide_type": "fragment"
    },
    "tags": []
   },
   "source": [
    "|![nosql](../img/nosql-geek-and-poke.jpg)|\n",
    "|:---:|\n",
    "|NoSQL comic [Geek and Poke](https://geekandpoke.typepad.com/geekandpoke/2011/01/nosql.html)|"
   ]
  },
  {
   "cell_type": "markdown",
   "id": "527d2612-fe9b-4c79-be21-cf42eb41bc46",
   "metadata": {
    "editable": true,
    "slideshow": {
     "slide_type": "subslide"
    },
    "tags": []
   },
   "source": [
    "## What is NoSQL"
   ]
  },
  {
   "cell_type": "markdown",
   "id": "ac008735-4b2f-48ab-b4c3-cd8c484e5bc2",
   "metadata": {
    "editable": true,
    "slideshow": {
     "slide_type": "fragment"
    },
    "tags": []
   },
   "source": [
    "The term NoSQL refers to a variety of database systems that *do not* follow all the rules in a relational (SQL) database system."
   ]
  },
  {
   "cell_type": "markdown",
   "id": "e48c6b32-1f14-4e6f-8931-74886476e0e9",
   "metadata": {
    "editable": true,
    "slideshow": {
     "slide_type": "fragment"
    },
    "tags": []
   },
   "source": [
    "NoSQL typically stands for *not only SQL* or non-relational."
   ]
  },
  {
   "cell_type": "markdown",
   "id": "1a1db738-ce7d-4487-913d-3ecf64d3cb0f",
   "metadata": {
    "editable": true,
    "slideshow": {
     "slide_type": "fragment"
    },
    "tags": []
   },
   "source": [
    "Examples of NoSQL systems:\n",
    "- Apache Cassandra: commerce, recommandation systems\n",
    "- MongoDB: text-based content\n",
    "- Redis: queues, messaging\n",
    "\n",
    "*Note:* Many of these systems can handle most of the applications listed.  Their *main* use case is listed."
   ]
  },
  {
   "cell_type": "markdown",
   "id": "a2266dd1-3905-4465-b089-b49867c2cdfe",
   "metadata": {
    "editable": true,
    "slideshow": {
     "slide_type": "subslide"
    },
    "tags": []
   },
   "source": [
    "## Key features of NoSQL  "
   ]
  },
  {
   "cell_type": "markdown",
   "id": "7504b7fb-91b3-4920-9bc7-a78f86d6faec",
   "metadata": {
    "editable": true,
    "slideshow": {
     "slide_type": "fragment"
    },
    "tags": []
   },
   "source": [
    "1. (Horizontal) scalability: distribute operations over many nodes"
   ]
  },
  {
   "cell_type": "markdown",
   "id": "586efef3-2291-4b33-81ef-198a0dd45a05",
   "metadata": {
    "editable": true,
    "slideshow": {
     "slide_type": "fragment"
    },
    "tags": []
   },
   "source": [
    "2. Redundancy: replicate and distribute data over many nodes"
   ]
  },
  {
   "cell_type": "markdown",
   "id": "35226446-fe45-4fc2-a994-8a1af38216ad",
   "metadata": {
    "editable": true,
    "slideshow": {
     "slide_type": "fragment"
    },
    "tags": []
   },
   "source": [
    "3. Flexibility:\n",
    "   - looser restriction on concurrency than most relational database systems\n",
    "   - ability to add new features/attributes (columns) dynamically"
   ]
  },
  {
   "cell_type": "markdown",
   "id": "e84a97dc-be64-4f00-9896-687748d6c7df",
   "metadata": {
    "editable": true,
    "slideshow": {
     "slide_type": "subslide"
    },
    "tags": []
   },
   "source": [
    "## CAP Theorem \n",
    "The CAP theorem (Fox and Brewer, 1999, Brewer, 2012) describes the following performance properties of a system:  "
   ]
  },
  {
   "cell_type": "markdown",
   "id": "5a8f75a7-1a41-4fd1-95f1-d6660e45bf7a",
   "metadata": {
    "editable": true,
    "slideshow": {
     "slide_type": "fragment"
    },
    "tags": []
   },
   "source": [
    "- consistency (C) equivalent to having a single up-to-date\n",
    "copy of the data;"
   ]
  },
  {
   "cell_type": "markdown",
   "id": "c0215195-1156-4288-95f6-d448cc319219",
   "metadata": {
    "editable": true,
    "slideshow": {
     "slide_type": "fragment"
    },
    "tags": []
   },
   "source": [
    "- high availability (A) of that data (for updates); and"
   ]
  },
  {
   "cell_type": "markdown",
   "id": "04ac5a28-53f4-45ee-83e9-1a2dd1431bdc",
   "metadata": {
    "editable": true,
    "slideshow": {
     "slide_type": "fragment"
    },
    "tags": []
   },
   "source": [
    "- tolerance to network partitions (P)."
   ]
  },
  {
   "cell_type": "markdown",
   "id": "a978eedd-7395-499e-b1e6-8219026f27d6",
   "metadata": {
    "editable": true,
    "slideshow": {
     "slide_type": "fragment"
    },
    "tags": []
   },
   "source": [
    "On a high-level, a general system only satisfies **two** of the three properties.\n",
    "\n",
    "*Note:* Tension spectra among the three properties."
   ]
  },
  {
   "cell_type": "markdown",
   "id": "27fd136c-1226-482f-beba-e758fc4998dd",
   "metadata": {
    "editable": true,
    "slideshow": {
     "slide_type": "subslide"
    },
    "tags": []
   },
   "source": [
    "|![acid-vs-base](../img/acid-vs-base.png)|\n",
    "|:---:|\n",
    "|ACID and BASE example schema (luminousmen)|"
   ]
  },
  {
   "cell_type": "markdown",
   "id": "7cb3efc8-9fe9-4774-9fdf-3417c5ab77ff",
   "metadata": {
    "editable": true,
    "slideshow": {
     "slide_type": "subslide"
    },
    "tags": []
   },
   "source": [
    "## ACID and BASE properties"
   ]
  },
  {
   "cell_type": "markdown",
   "id": "5a58c717-9818-40ca-9b9c-588bd6392283",
   "metadata": {
    "editable": true,
    "slideshow": {
     "slide_type": "fragment"
    },
    "tags": []
   },
   "source": [
    "| **Property**       | **ACID** (Relational DBs)  (e.g. bank transactions)                    | **BASE** (NoSQL DBs)  (e.g. social media post edit)     |\n",
    "|--------------------|-----------------------------------------------|------------------------------------------------|\n",
    "| **Atomicity**      | Transactions are all-or-nothing.              | Not guaranteed; partial updates allowed.      |\n",
    "| **Consistency**    | Ensures data consistency at all times.        | Eventually consistent; temporary inconsistencies may occur. |\n",
    "| **Isolation**      | Transactions are executed independently.      | Operations may be interleaved for efficiency. |\n",
    "| **Durability**     | Data is permanently saved upon transaction commit. | Data availability is prioritized over strict durability. |\n",
    "| **Availability**   | Strict availability within transaction rules. | Highly available; no strict transaction requirements. |\n",
    "| **Scalability**    | Less scalable due to strict transaction rules. | Highly scalable, optimized for distributed computing. |"
   ]
  },
  {
   "cell_type": "markdown",
   "id": "b80ade37-88bd-4b35-8140-8930252c1eea",
   "metadata": {
    "editable": true,
    "slideshow": {
     "slide_type": "subslide"
    },
    "tags": []
   },
   "source": [
    "## Main forms of NoSQL database systems [ch.5, Reis, 2022]"
   ]
  },
  {
   "cell_type": "markdown",
   "id": "fc913c8c-b407-462f-9e80-164b7cfa2f32",
   "metadata": {
    "editable": true,
    "slideshow": {
     "slide_type": "fragment"
    },
    "tags": []
   },
   "source": [
    "1. Document databases\n",
    "   - Storing data in JSON-like documents.\n",
    "   - e.g., MongoDB and Couchbase."
   ]
  },
  {
   "cell_type": "markdown",
   "id": "2741e707-8697-4a63-b230-069194cea2f7",
   "metadata": {
    "editable": true,
    "slideshow": {
     "slide_type": "fragment"
    },
    "tags": []
   },
   "source": [
    "2. Key-value stores \n",
    "   - Storing data as a collection of key-value pairs.\n",
    "   - e.g., Redis and DynamoDB."
   ]
  },
  {
   "cell_type": "markdown",
   "id": "67f96a81-f3c7-4f56-8ebe-fab024bc3b7e",
   "metadata": {
    "editable": true,
    "slideshow": {
     "slide_type": "fragment"
    },
    "tags": []
   },
   "source": [
    "3. Graph databases\n",
    "   - Storing data as vertices and edges.\n",
    "   - e.g., Neo4j and Amazon Neptune."
   ]
  },
  {
   "cell_type": "markdown",
   "id": "ccada6c1-9dcc-4918-b4ae-60cd34754ed4",
   "metadata": {
    "editable": true,
    "slideshow": {
     "slide_type": "fragment"
    },
    "tags": []
   },
   "source": [
    "4. **Column-family (wide-column) stores**\n",
    "   - Storing data in columns rather than rows\n",
    "   - Scalable data storage.\n",
    "   - e.g., Apache Cassandra and ScyllaDB."
   ]
  },
  {
   "cell_type": "markdown",
   "id": "13f05f2a-05ee-432e-9b85-41400d1eb4c4",
   "metadata": {
    "editable": true,
    "slideshow": {
     "slide_type": "skip"
    },
    "tags": []
   },
   "source": [
    "# References\n",
    "Fox, A., & Brewer, E. A. (1999, March). Harvest, yield, and scalable tolerant systems. *In Proceedings of the seventh workshop on hot topics in operating systems* (pp. 174-178). IEEE.  \n",
    "Brewer, E. (2012). CAP twelve years later: How the\" rules\" have changed. *Computer*, 45(2), 23-29.  "
   ]
  }
 ],
 "metadata": {
  "kernelspec": {
   "display_name": "Python 3 (ipykernel)",
   "language": "python",
   "name": "python3"
  },
  "language_info": {
   "codemirror_mode": {
    "name": "ipython",
    "version": 3
   },
   "file_extension": ".py",
   "mimetype": "text/x-python",
   "name": "python",
   "nbconvert_exporter": "python",
   "pygments_lexer": "ipython3",
   "version": "3.11.8"
  },
  "widgets": {
   "application/vnd.jupyter.widget-state+json": {
    "state": {},
    "version_major": 2,
    "version_minor": 0
   }
  }
 },
 "nbformat": 4,
 "nbformat_minor": 5
}
