{
 "cells": [
  {
   "cell_type": "markdown",
   "id": "1eb13d5f-a5dd-49d6-9520-b0bd314fb407",
   "metadata": {},
   "source": [
    "# Project Specification\n",
    "\n"
   ]
  },
  {
   "cell_type": "markdown",
   "id": "e9d2c4e0-78d1-4406-ace1-410388d40748",
   "metadata": {
    "jp-MarkdownHeadingCollapsed": true
   },
   "source": [
    "## Group formation\n",
    "The project group may consist of 3 to 4 students."
   ]
  },
  {
   "cell_type": "markdown",
   "id": "14be4139-cf42-47c8-9463-3f0ce0181111",
   "metadata": {},
   "source": [
    "## Project grading \n",
    "The project is worth 35% of the class grade, with the following details:\n",
    "\n",
    "|                     |                        |                   |\n",
    "|---------------------|:----------------------:|:-----------------:|\n",
    "|                     |   **Due date**         | **Proportion (%)**|\n",
    "| Proposal            | May 13                 |       15          |\n",
    "| Check-up            | June 2                 |       20          |\n",
    "| Presentation recording | Jun 11              |       25          |\n",
    "| Report              | Jun 11                 |       35          |\n",
    "| Peer experience summary | Jun 11             |       10          |\n",
    "| **Total**           |                        |      100          |"
   ]
  },
  {
   "cell_type": "markdown",
   "id": "eb29e4bb-2fb6-4e5b-9fec-89fcd4ae20d5",
   "metadata": {},
   "source": [
    "## Project proposal\n",
    "\n",
    "Develop a proposal that includes your topic, the selection of relevant dataset(s), and a plan to answer questions of interests.  Keep in mind the timeline of the quarter and set achievable goals.\n"
   ]
  },
  {
   "cell_type": "markdown",
   "id": "ddd9a442-540f-40d4-964c-fe1586ef6ca4",
   "metadata": {},
   "source": [
    "### Guidelines for proposal\n",
    "\n",
    "Review the guidelines below carefully.\n",
    "\n",
    "The proposal should follow this format (5 points): \n",
    "\n",
    "- Include full names of all teammates.\n",
    "- Between 1 to 2 pages, single-spaced, 11-point type, 1-inch margins.\n",
    "- Do not include graphics.\n",
    "- Decide on the name of your group.  A pdf named `[GroupName]_proposal.pdf` should be submitted.  \n",
    "\n",
    "The proposal should cover the following components (but in a narrative format, not Q/A):\n",
    "\n",
    "- **Introduction** (12 points): Introduce your project and motivation, e.g.,\n",
    "  - What is the main issue you are interested in?\n",
    "  - Why is this topic important?\n",
    "  - In what way does this project provide a solution?\n",
    "- **Data source(s)** (10 points): Describe the data sources you have chosen, e.g.,\n",
    "  - How can the data be retrieved?\n",
    "  - How are the data related to the topic?\n",
    "  - State the amount of data you will be working with. \n",
    "- **Goal definitions** (18 points): State two to three goals you are interested in achieving with the selected data sources.  \n",
    "  As you tackle the goals, you should use **at least one** of the data engineering techniques covered in class:\n",
    "  - Missing data imputation\n",
    "  - Database system (relational or non-relational)\n",
    "  - Distributed computing framework (e.g., pyspark)  \n",
    "For each goal, answer the following:\n",
    "  - How do you intend to achieve your goal?\n",
    "  - How do you intend to use the above techniques?\n",
    "  - What can you answer (and not answer) with the proposed datasets?\n",
    "- **Reference** (5 points): Provide valid references for your data source(s). (Reference does not count toward the page limit.)\n",
    "  - For example, using APA guidelines, the MIMIC-III database can be cited as\n",
    "    > Johnson, A., Pollard, T., & Mark, R. (2016). MIMIC-III Clinical Database (version 1.4). *PhysioNet*. https://doi.org/10.13026/C2XW26.\n",
    "  - or the original article \n",
    "    > Johnson, A. E., Pollard, T. J., Shen, L., Lehman, L. W. H., Feng, M., Ghassemi, M., ... & Mark, R. G. (2016). MIMIC-III, a freely accessible critical care database. *Scientific data*, 3(1), 1-9.\n",
    "  "
   ]
  },
  {
   "cell_type": "markdown",
   "id": "b54baead-387e-42b1-b91d-99f07e42b1c7",
   "metadata": {},
   "source": [
    "## Potential data sources\n",
    "Below are some possible avenues for finding data sources:\n",
    "- [Google dataset search](https://datasetsearch.research.google.com/)\n",
    "- [Awesome public datasets](https://github.com/awesomedata/awesome-public-datasets)\n",
    "- [BuzzFeed news repository](https://github.com/BuzzFeedNews/everything)"
   ]
  },
  {
   "cell_type": "markdown",
   "id": "488b02c5-e510-47bd-b639-0ad50676c839",
   "metadata": {},
   "source": [
    "## Project check-up\n",
    "\n",
    "Two elements are required for the project check-up:  \n",
    "1. **Group, submitted on Canvas as a pdf.** (30 points)\n",
    "    - For each of your set goals in the proposal, provide a brief summary of progress. *If you have not worked on a particular goal yet, feel free to say that you have not made progress there.*\n",
    "    - Include any questions or roadblocks you are encountering and require assistance.\n",
    "    - If you find it helpful to set up a time to meet with Prof. Chan, indicate so, and provide some available times to meet between June 2 and 6.\n",
    "3. **Individual.** (20 points)\n",
    "    - Complete the following Google form: [DE300 Project check-up Google Form](https://forms.gle/inRfq9NKifQcGcfa8)\n",
    "  \n",
    "*Note:* While the check-up form would not necessarily change your individual project grades, adjustments will be considered combining the feedback from the check-up and the peer experience summary. "
   ]
  },
  {
   "cell_type": "markdown",
   "id": "7f608f12-cf7b-4ab5-8a7b-a6cd1d26c050",
   "metadata": {},
   "source": [
    "## Presentation recording\n",
    "Produce a presentation recording with Panopto. The presentation recording should follow these guidelines:\n",
    "\n",
    "- Between 8 to 12.5 minutes.\n",
    "- Include a side-by-side view with your presentation slides and your camera.\n",
    "- All of your teammates should be visible at all times during the recording.\n",
    "- *Tips:*\n",
    "    - If you decide to record using Zoom, you may upload the recorded video to Panopto for edits.\n",
    "    - Distribute your content and do a quick dry run in advance.  This will reduce your time of re-recording.\n",
    "\n",
    "The presentation should include *but not limited to the following*:\n",
    "\n",
    "- Motivation of your project.\n",
    "- Introduction to your dataset(s) and its relevance.\n",
    "- Goals, method of analyses, and findings.\n",
    "- Summary.\n",
    "\n",
    "The presentation is evaluated via the following criteria (20 each):\n",
    "\n",
    "- Organization of content\n",
    "- Appropriate use of language\n",
    "- Delivery\n",
    "- Use of supporting materials (visuals, statistics, etc.)\n",
    "- Clarity of central idea\n",
    "\n",
    "Note that while the evaluation is primarily for the entire group, evaluation may differ among students if significant discrepancy is observed. You may refer to the [sample reference rubric](a1-presentation-rubric) for details."
   ]
  },
  {
   "cell_type": "markdown",
   "id": "f4c4cf3f-17d9-4204-961b-be45cb1ee80d",
   "metadata": {},
   "source": [
    "## Report\n",
    "Prepare a project report to clearly outline your project choice and its importance, your approach to achieving the set of goals, your results, and a summary.\n",
    "\n",
    "The report should follow these guidlines:\n",
    "\n",
    "- Include full names of all teammates.\n",
    "    - This is a reminder that it is an academic violation to include your name on any work you have not contributed or performed.\n",
    "- Up to 15 pages (not including Appendix), single-spaced, 11-point type, 1-inch margins.\n",
    "\n",
    "**Submission:**\n",
    "A single pdf named `LastName1_LastName2_..._report.pdf` should be submitted.\n",
    "\n",
    "Include all of your code in a zipped folder in your submission.  Make sure your codes and code organization are understandable.\n",
    "\n",
    "---\n",
    "\n",
    "The report should include the following components in a narrative format:\n",
    "\n",
    "- **Introduction** (5 points): Introduce your project and motivation, e.g.,\n",
    "  - What is the main issue you are interested in?\n",
    "  - Why is this topic important?\n",
    "  - In what way does this project provide a solution?\n",
    "- **Data source(s)** (5 points): Describe the data sources you have chosen, e.g.,\n",
    "  - How can the data be retrieved?\n",
    "  - How are the data related to the topic?\n",
    "  - State the amount of data you will be working with. \n",
    "- **Goals and approaches** (60 points): State the *specific* goals you are attempting to achieve with the selected data sources.  For each goal, provide the approach in achieving said goal, its implementation, and your results.  Use any graph, table, or other visualization to support your narrative.\n",
    "- **Summary** (10 points): Provide a brief summary of your project, and describe any loose ends or future opportunities.\n",
    "- **Generative AI statement and reference** (10 points):\n",
    "  - Generative AI statement: If you have, in any way, employed the use of generative AI tools, report all usage according to the syllabus. This statement does not count toward the page limit.\n",
    "  - Reference: Provide valid references for your data source(s). (*Does not count toward the page limit.*)\n",
    "      - For example, using APA guidelines, the MIMIC-III database can be cited as\n",
    "        > Johnson, A., Pollard, T., & Mark, R. (2016). MIMIC-III Clinical Database (version 1.4). *PhysioNet*. https://doi.org/10.13026/C2XW26.\n",
    "      - or the original article \n",
    "        > Johnson, A. E., Pollard, T. J., Shen, L., Lehman, L. W. H., Feng, M., Ghassemi, M., ... & Mark, R. G. (2016). MIMIC-III, a freely accessible critical care database. *Scientific data*, 3(1), 1-9.\n",
    "- **Code legibility and organization** (10 points): Give a brief summary or provide a README to use and evaluate your code. (*Does not count toward the page limit.*)\n"
   ]
  },
  {
   "cell_type": "markdown",
   "id": "5797b3ce-1377-475c-9caa-e756f01a68b4",
   "metadata": {},
   "source": [
    "## Peer experience summary\n",
    "Complete the following Google form: [to be provided]"
   ]
  }
 ],
 "metadata": {
  "kernelspec": {
   "display_name": "Python 3 (ipykernel)",
   "language": "python",
   "name": "python3"
  },
  "language_info": {
   "codemirror_mode": {
    "name": "ipython",
    "version": 3
   },
   "file_extension": ".py",
   "mimetype": "text/x-python",
   "name": "python",
   "nbconvert_exporter": "python",
   "pygments_lexer": "ipython3",
   "version": "3.11.5"
  }
 },
 "nbformat": 4,
 "nbformat_minor": 5
}
