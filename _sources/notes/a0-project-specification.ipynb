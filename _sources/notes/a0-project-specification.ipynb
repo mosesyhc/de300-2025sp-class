{
 "cells": [
  {
   "cell_type": "markdown",
   "id": "1eb13d5f-a5dd-49d6-9520-b0bd314fb407",
   "metadata": {},
   "source": [
    "# Project Specification\n",
    "\n"
   ]
  },
  {
   "cell_type": "markdown",
   "id": "e9d2c4e0-78d1-4406-ace1-410388d40748",
   "metadata": {
    "jp-MarkdownHeadingCollapsed": true
   },
   "source": [
    "## Group formation\n",
    "The project group may consist of 3 to 4 students."
   ]
  },
  {
   "cell_type": "markdown",
   "id": "14be4139-cf42-47c8-9463-3f0ce0181111",
   "metadata": {},
   "source": [
    "## Project grading \n",
    "The project is worth 35% of the class grade, with the following details:\n",
    "\n",
    "|                     |                        |                   |\n",
    "|---------------------|:----------------------:|:-----------------:|\n",
    "|                     |   **Due date**         | **Proportion (%)**|\n",
    "| Proposal            | May 13                 |       15          |\n",
    "| Check-up            | May 30                 |       20          |\n",
    "| Presentation recording | Jun 11              |       25          |\n",
    "| Report              | Jun 11                 |       35          |\n",
    "| Peer experience summary | Jun 11             |       10          |\n",
    "| **Total**           |                        |      100          |"
   ]
  },
  {
   "cell_type": "markdown",
   "id": "eb29e4bb-2fb6-4e5b-9fec-89fcd4ae20d5",
   "metadata": {},
   "source": [
    "## Project proposal\n",
    "\n",
    "Develop a proposal that includes your topic, the selection of relevant dataset(s), and a plan to answer questions of interests.  Keep in mind the timeline of the quarter and set achievable goals.\n"
   ]
  },
  {
   "cell_type": "markdown",
   "id": "ddd9a442-540f-40d4-964c-fe1586ef6ca4",
   "metadata": {},
   "source": [
    "### Guidelines for proposal\n",
    "\n",
    "Review the guidelines below carefully.\n",
    "\n",
    "The proposal should follow this format (5 points): \n",
    "\n",
    "- Include full names of all teammates.\n",
    "- Between 1 to 2 pages, single-spaced, 11-point type, 1-inch margins.\n",
    "- Do not include graphics.\n",
    "- Decide on the name of your group.  A pdf named `[GroupName]_proposal.pdf` should be submitted.  \n",
    "\n",
    "The proposal should cover the following components (but in a narrative format, not Q/A):\n",
    "\n",
    "- **Introduction** (12 points): Introduce your project and motivation, e.g.,\n",
    "  - What is the main issue you are interested in?\n",
    "  - Why is this topic important?\n",
    "  - In what way does this project provide a solution?\n",
    "- **Data source(s)** (10 points): Describe the data sources you have chosen, e.g.,\n",
    "  - How can the data be retrieved?\n",
    "  - How are the data related to the topic?\n",
    "  - State the amount of data you will be working with. \n",
    "- **Goal definitions** (18 points): State two to three goals you are interested in achieving with the selected data sources.  \n",
    "  As you tackle the goals, you should use **at least one** of the data engineering techniques covered in class:\n",
    "  - Missing data imputation\n",
    "  - Database system (relational or non-relational)\n",
    "  - Distributed computing framework (e.g., pyspark)  \n",
    "For each goal, answer the following:\n",
    "  - How do you intend to achieve your goal?\n",
    "  - How do you intend to use the above techniques?\n",
    "  - What can you answer (and not answer) with the proposed datasets?\n",
    "- **Reference** (5 points): Provide valid references for your data source(s). (Reference does not count toward the page limit.)\n",
    "  - For example, using APA guidelines, the MIMIC-III database can be cited as\n",
    "    > Johnson, A., Pollard, T., & Mark, R. (2016). MIMIC-III Clinical Database (version 1.4). *PhysioNet*. https://doi.org/10.13026/C2XW26.\n",
    "  - or the original article \n",
    "    > Johnson, A. E., Pollard, T. J., Shen, L., Lehman, L. W. H., Feng, M., Ghassemi, M., ... & Mark, R. G. (2016). MIMIC-III, a freely accessible critical care database. *Scientific data*, 3(1), 1-9.\n",
    "  "
   ]
  },
  {
   "cell_type": "markdown",
   "id": "b54baead-387e-42b1-b91d-99f07e42b1c7",
   "metadata": {},
   "source": [
    "## Potential data sources\n",
    "Below are some possible avenues for finding data sources:\n",
    "- [Google dataset search](https://datasetsearch.research.google.com/)\n",
    "- [Awesome public datasets](https://github.com/awesomedata/awesome-public-datasets)\n",
    "- [BuzzFeed news repository](https://github.com/BuzzFeedNews/everything)"
   ]
  }
 ],
 "metadata": {
  "kernelspec": {
   "display_name": "Python 3 (ipykernel)",
   "language": "python",
   "name": "python3"
  },
  "language_info": {
   "codemirror_mode": {
    "name": "ipython",
    "version": 3
   },
   "file_extension": ".py",
   "mimetype": "text/x-python",
   "name": "python",
   "nbconvert_exporter": "python",
   "pygments_lexer": "ipython3",
   "version": "3.11.9"
  }
 },
 "nbformat": 4,
 "nbformat_minor": 5
}
