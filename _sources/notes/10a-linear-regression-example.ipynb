{
 "cells": [
  {
   "cell_type": "markdown",
   "id": "41b55f4f-29bc-49fc-aa47-0025b9452381",
   "metadata": {},
   "source": [
    "# PySpark example with linear regression model"
   ]
  },
  {
   "cell_type": "markdown",
   "id": "13a56216-446e-4dcb-9869-8127ce1b77b2",
   "metadata": {},
   "source": [
    "This set of notes covers the estimation and prediction with a linear regression model, and the use of PySpark in order to parallelize and scale in computation.  In addition, the notes provide a brief commentary on privacy preserving machine learning models."
   ]
  },
  {
   "cell_type": "markdown",
   "id": "74e1696f-62d0-4e46-a618-1a379981694a",
   "metadata": {},
   "source": [
    "## Linear regression refresher"
   ]
  },
  {
   "cell_type": "markdown",
   "id": "8d763ec6-36d8-46b5-8345-3b9a742d772b",
   "metadata": {},
   "source": [
    "To fit a linear regression (without any penalty or regularization) can be done via the least-squares estimation:\n",
    "\n",
    "$$\\min_\\beta~\\ell(\\beta) = \\|\\mathbf{y} - \\mathbf{X} \\beta \\|_2^2,$$\n",
    "\n",
    "The corresponding analytical solution can be found by setting the partial derivatives to zero:\n",
    "$$\\frac{\\partial \\ell(\\beta)}{\\partial \\beta} \\equiv 0 \\qquad \\Rightarrow \\qquad \\widehat{\\beta} = (\\mathbf{X}^\\mathsf{T}\\mathbf{X})^{-1} \\mathbf{X}^\\mathsf{T}\\mathbf{y}.$$"
   ]
  },
  {
   "cell_type": "markdown",
   "id": "11e15cb1-53b0-4b36-8ec5-81ea0531cd4d",
   "metadata": {},
   "source": [
    "*Why do we need to think about parallelization at all?*\n",
    "\n",
    "Say we have $n$ data points, i.e. $(\\mathbf{x}_i, y_i)_{i=1}^n$. Take a look at the dimension of the quantities of interest:\n",
    "$$\\mathbf{X} \\in \\mathbb{R}^{n \\times (d+1)}, \\mathbf{y} \\in \\mathbb{R}^n.$$\n",
    "\n",
    "The major computations involve three operations:  \n",
    "1. Multiplication: $\\mathbf{X}^\\mathsf{T}\\mathbf{X} = \\sum_{i=1}^n \\mathbf{x}_i \\mathbf{x}_i^\\mathsf{T},$\n",
    "2. Multiplication: $\\mathbf{X}^\\mathsf{T}\\mathbf{y} = \\sum_{i=1}^n \\mathbf{x_i} y_i,$\n",
    "3. Inversion of matrix: $(\\mathbf{X}^\\mathsf{T}\\mathbf{X})^{-1} \\mathbf{X}^\\mathsf{T}\\mathbf{y}.$\n",
    "\n",
    "*Rationale:*  \n",
    "- In the case where $n$ is extremely large, the multiplication and summation, steps (1) and (2), are slow.\n",
    "- Since the inversion of matrix is driven by the size of $\\mathbf{X}^\\mathsf{T}\\mathbf{X}$, which is typically a relatively small $(d+1) \\times (d+1)$ matrix.  Step (3) is relatively cheap in terms of computation."
   ]
  },
  {
   "cell_type": "code",
   "execution_count": 1,
   "id": "a389d933-9a4c-4854-8a11-67ee39d69bbb",
   "metadata": {},
   "outputs": [],
   "source": [
    "# You typically do not need this\n",
    "\n",
    "import os\n",
    "os.environ[\"JAVA_HOME\"] = r\"C:\\Program Files\\Java\\jdk-11.0.2\"\n",
    "os.environ[\"SPARK_HOME\"] = r\"C:\\Program Files\\Spark\\spark-3.5.5-bin-hadoop3\"\n",
    "\n",
    "import findspark\n",
    "findspark.init()"
   ]
  },
  {
   "cell_type": "markdown",
   "id": "7950b3f8-1701-436b-a878-a9f639daa8c5",
   "metadata": {},
   "source": [
    "## Diamonds dataset"
   ]
  },
  {
   "cell_type": "code",
   "execution_count": 2,
   "id": "5da7ade4-e0fb-42b9-89f6-8d6f05f820c4",
   "metadata": {},
   "outputs": [],
   "source": [
    "import seaborn as sns\n",
    "diam = sns.load_dataset('diamonds', cache=True, data_home='dataset/')"
   ]
  },
  {
   "cell_type": "code",
   "execution_count": 3,
   "id": "2ff62155-c708-4250-8e54-af55450f2465",
   "metadata": {},
   "outputs": [],
   "source": [
    "from pyspark.sql import SparkSession\n",
    "\n",
    "spark = SparkSession.builder.getOrCreate()\n",
    "sc = spark.sparkContext\n",
    "\n",
    "diamonds = (\n",
    "    spark.read.format('csv')\n",
    "    .options(header='true', inferSchema='true')\n",
    "    .load('dataset/diamonds.csv')\n",
    "    .cache()\n",
    ")"
   ]
  },
  {
   "cell_type": "code",
   "execution_count": 4,
   "id": "89a1d121-65a0-457d-a880-fbde46bfba31",
   "metadata": {},
   "outputs": [
    {
     "data": {
      "text/plain": [
       "[Row(carat=0.23, cut='Ideal', color='E', clarity='SI2', depth=61.5, table=55.0, price=326, x=3.95, y=3.98, z=2.43),\n",
       " Row(carat=0.21, cut='Premium', color='E', clarity='SI1', depth=59.8, table=61.0, price=326, x=3.89, y=3.84, z=2.31),\n",
       " Row(carat=0.23, cut='Good', color='E', clarity='VS1', depth=56.9, table=65.0, price=327, x=4.05, y=4.07, z=2.31),\n",
       " Row(carat=0.29, cut='Premium', color='I', clarity='VS2', depth=62.4, table=58.0, price=334, x=4.2, y=4.23, z=2.63),\n",
       " Row(carat=0.31, cut='Good', color='J', clarity='SI2', depth=63.3, table=58.0, price=335, x=4.34, y=4.35, z=2.75)]"
      ]
     },
     "execution_count": 4,
     "metadata": {},
     "output_type": "execute_result"
    }
   ],
   "source": [
    "diamonds.take(5)"
   ]
  },
  {
   "cell_type": "code",
   "execution_count": 5,
   "id": "d16f7655-e8a4-40bc-9837-b3eecb62f428",
   "metadata": {},
   "outputs": [],
   "source": [
    "df = (\n",
    "    diamonds\n",
    "    .where(diamonds['price'] > 1000)\n",
    "    .select(['cut', 'color', 'carat', 'clarity', 'price'])\n",
    ")"
   ]
  },
  {
   "cell_type": "code",
   "execution_count": 6,
   "id": "09688903-93a9-415b-8fd8-a004e8a0420a",
   "metadata": {},
   "outputs": [
    {
     "name": "stdout",
     "output_type": "stream",
     "text": [
      "+---------+-----+-----+-------+-----+\n",
      "|      cut|color|carat|clarity|price|\n",
      "+---------+-----+-----+-------+-----+\n",
      "|    Ideal|    E|  0.7|    SI1| 2757|\n",
      "|     Fair|    E| 0.86|    SI2| 2757|\n",
      "|    Ideal|    G|  0.7|    VS2| 2757|\n",
      "|Very Good|    E| 0.71|    VS2| 2759|\n",
      "|Very Good|    G| 0.78|    SI2| 2759|\n",
      "+---------+-----+-----+-------+-----+\n",
      "only showing top 5 rows\n",
      "\n"
     ]
    }
   ],
   "source": [
    "df.show(5)"
   ]
  },
  {
   "cell_type": "code",
   "execution_count": 9,
   "id": "ccae6668-ac81-45ef-abbd-7c2be820a198",
   "metadata": {},
   "outputs": [],
   "source": [
    "row = diamonds.take(1)"
   ]
  },
  {
   "cell_type": "code",
   "execution_count": 7,
   "id": "2ab35160-74f4-44ed-82e0-e79846589d81",
   "metadata": {},
   "outputs": [],
   "source": [
    "predictors = ['cut', 'color', 'carat', 'clarity']\n",
    "categorical = set(['cut', 'color', 'clarity'])"
   ]
  },
  {
   "cell_type": "code",
   "execution_count": 8,
   "id": "b03f4bcb-4db5-4449-b094-84871e48372f",
   "metadata": {},
   "outputs": [],
   "source": [
    "response = 'price'"
   ]
  },
  {
   "cell_type": "code",
   "execution_count": 15,
   "id": "dd67173d-d42c-49aa-a25a-26db92b51284",
   "metadata": {},
   "outputs": [],
   "source": [
    "def xtx_map(row):\n",
    "    row = row.asDict()\n",
    "    for i in predictors:\n",
    "        (ki, vi) = (i, row[i]) if i not in categorical else (i+\"_\"+row[i], 1.0)\n",
    "        for j in predictors:\n",
    "            (kj, vj) = (j, row[j]) if j not in categorical else (j+\"_\"+row[j], 1.0)\n",
    "            yield ((ki, kj), vi * vj)\n",
    "\n",
    "def xty_map(row):\n",
    "    row = row.asDict()\n",
    "    for j in predictors:\n",
    "        (kj, vj) = (j, row[j]) if j not in categorical else (j+\"_\"+row[j], 1.0)\n",
    "        yield (kj, vj * row[response])"
   ]
  },
  {
   "cell_type": "code",
   "execution_count": 13,
   "id": "a45274c6-0aff-4898-92be-8f06579f7fe3",
   "metadata": {},
   "outputs": [
    {
     "data": {
      "text/plain": [
       "Row(cut='Ideal', color='E', carat=0.7, clarity='SI1', price=2757)"
      ]
     },
     "execution_count": 13,
     "metadata": {},
     "output_type": "execute_result"
    }
   ],
   "source": [
    "row = df.take(1)\n",
    "row[0]"
   ]
  },
  {
   "cell_type": "code",
   "execution_count": 16,
   "id": "b6e4d868-2797-4c46-bdba-34c8b419fd55",
   "metadata": {},
   "outputs": [
    {
     "data": {
      "text/plain": [
       "[('cut_Ideal', 2757.0),\n",
       " ('color_E', 2757.0),\n",
       " ('carat', 1929.8999999999999),\n",
       " ('clarity_SI1', 2757.0)]"
      ]
     },
     "execution_count": 16,
     "metadata": {},
     "output_type": "execute_result"
    }
   ],
   "source": [
    "[a for a in xty_map(row[0])]"
   ]
  },
  {
   "cell_type": "code",
   "execution_count": 17,
   "id": "1054e3c4-48dc-4345-9044-b245fd9840c6",
   "metadata": {},
   "outputs": [
    {
     "data": {
      "text/plain": [
       "[(('cut_Ideal', 'cut_Ideal'), 1.0),\n",
       " (('cut_Ideal', 'color_E'), 1.0),\n",
       " (('cut_Ideal', 'carat'), 0.7),\n",
       " (('cut_Ideal', 'clarity_SI1'), 1.0),\n",
       " (('color_E', 'cut_Ideal'), 1.0),\n",
       " (('color_E', 'color_E'), 1.0),\n",
       " (('color_E', 'carat'), 0.7),\n",
       " (('color_E', 'clarity_SI1'), 1.0),\n",
       " (('carat', 'cut_Ideal'), 0.7),\n",
       " (('carat', 'color_E'), 0.7),\n",
       " (('carat', 'carat'), 0.48999999999999994),\n",
       " (('carat', 'clarity_SI1'), 0.7),\n",
       " (('clarity_SI1', 'cut_Ideal'), 1.0),\n",
       " (('clarity_SI1', 'color_E'), 1.0),\n",
       " (('clarity_SI1', 'carat'), 0.7),\n",
       " (('clarity_SI1', 'clarity_SI1'), 1.0)]"
      ]
     },
     "execution_count": 17,
     "metadata": {},
     "output_type": "execute_result"
    }
   ],
   "source": [
    "[a for a in xtx_map(row[0])]"
   ]
  },
  {
   "cell_type": "code",
   "execution_count": 18,
   "id": "39302f6d-24ff-4308-9700-7ea970673faf",
   "metadata": {},
   "outputs": [],
   "source": [
    "xtx_data = (df.rdd\n",
    "            .flatMap(xtx_map)\n",
    "            .reduceByKey(lambda a, b: a+b)\n",
    "            .collect()\n",
    "           )"
   ]
  },
  {
   "cell_type": "code",
   "execution_count": 23,
   "id": "0ce5ba18-697e-4738-affb-4b03fadd65af",
   "metadata": {},
   "outputs": [],
   "source": [
    "xty_data = (df.rdd\n",
    "            .flatMap(xty_map)\n",
    "            .reduceByKey(lambda a, b: a+b)\n",
    "            .collect()\n",
    "           )"
   ]
  },
  {
   "cell_type": "code",
   "execution_count": 24,
   "id": "9ddcf8de-939e-4a5e-b920-5a14e08d48ce",
   "metadata": {},
   "outputs": [
    {
     "data": {
      "text/plain": [
       "[('cut_Ideal', 69491685.0),\n",
       " ('color_E', 27913897.0),\n",
       " ('carat', 259765355.250002),\n",
       " ('clarity_SI1', 50141077.0),\n",
       " ('cut_Fair', 6931384.0),\n",
       " ('clarity_SI2', 45876510.0),\n",
       " ('color_G', 42841867.0),\n",
       " ('clarity_VS2', 45536589.0),\n",
       " ('cut_Very Good', 45996850.0),\n",
       " ('cut_Good', 18558296.0),\n",
       " ('color_F', 33724244.0),\n",
       " ('clarity_VS1', 29642262.0),\n",
       " ('cut_Premium', 60868420.0),\n",
       " ('color_H', 35873113.0),\n",
       " ('color_D', 19990260.0),\n",
       " ('color_I', 26838093.0),\n",
       " ('clarity_VVS2', 15250346.0),\n",
       " ('clarity_VVS1', 8043137.0),\n",
       " ('color_J', 14665161.0),\n",
       " ('clarity_I1', 2860076.0),\n",
       " ('clarity_IF', 4496638.0)]"
      ]
     },
     "execution_count": 24,
     "metadata": {},
     "output_type": "execute_result"
    }
   ],
   "source": [
    "xty_data"
   ]
  },
  {
   "cell_type": "code",
   "execution_count": 25,
   "id": "514dc582-af42-41ce-bada-4a89cafbe392",
   "metadata": {},
   "outputs": [
    {
     "data": {
      "text/plain": [
       "{'cut_Ideal': 0,\n",
       " 'color_E': 1,\n",
       " 'carat': 2,\n",
       " 'clarity_SI1': 3,\n",
       " 'cut_Fair': 4,\n",
       " 'clarity_SI2': 5,\n",
       " 'color_G': 6,\n",
       " 'clarity_VS2': 7,\n",
       " 'cut_Very Good': 8,\n",
       " 'cut_Good': 9,\n",
       " 'color_F': 10,\n",
       " 'clarity_VS1': 11,\n",
       " 'cut_Premium': 12,\n",
       " 'color_H': 13,\n",
       " 'color_D': 14,\n",
       " 'color_I': 15,\n",
       " 'clarity_VVS2': 16,\n",
       " 'clarity_VVS1': 17,\n",
       " 'color_J': 18,\n",
       " 'clarity_I1': 19,\n",
       " 'clarity_IF': 20}"
      ]
     },
     "execution_count": 25,
     "metadata": {},
     "output_type": "execute_result"
    }
   ],
   "source": [
    "index = dict(zip([r[0] for r in xty_data], range(len(xty_data))))\n",
    "p = len(index)\n",
    "\n",
    "index"
   ]
  },
  {
   "cell_type": "code",
   "execution_count": 26,
   "id": "37585267-15fd-4de7-8186-52a6fe78f3e2",
   "metadata": {},
   "outputs": [],
   "source": [
    "# arrange the individual elements back into matrices\n",
    "import numpy as np\n",
    "\n",
    "XTY = np.zeros((p, 1))\n",
    "for (k, v) in xty_data:\n",
    "  XTY[index[k]] = v\n",
    "\n",
    "XTX = np.zeros((p,p))\n",
    "for ((k1,k2),v) in xtx_data:\n",
    "  XTX[index[k1], index[k2]] = v"
   ]
  },
  {
   "cell_type": "code",
   "execution_count": 27,
   "id": "3d284f87-244c-4f83-94c0-1d785f8cddad",
   "metadata": {},
   "outputs": [
    {
     "data": {
      "text/plain": [
       "((21, 21), (21, 1))"
      ]
     },
     "execution_count": 27,
     "metadata": {},
     "output_type": "execute_result"
    }
   ],
   "source": [
    "XTX.shape, XTY.shape"
   ]
  },
  {
   "cell_type": "code",
   "execution_count": 28,
   "id": "0763f4d9-bd6b-41ab-bf46-4a0e56143074",
   "metadata": {},
   "outputs": [],
   "source": [
    "beta = np.linalg.solve(XTX, XTY)"
   ]
  },
  {
   "cell_type": "code",
   "execution_count": 29,
   "id": "7ead1d6a-d329-4f6d-883e-359225feabdb",
   "metadata": {},
   "outputs": [
    {
     "data": {
      "text/plain": [
       "array([[-3135410.6050034 ],\n",
       "       [ 4659378.08817701],\n",
       "       [    9805.68171107],\n",
       "       [-1527908.27694775],\n",
       "       [-3136368.13604856],\n",
       "       [-1528947.23087084],\n",
       "       [ 4658923.0870537 ],\n",
       "       [-1527130.54041287],\n",
       "       [-3135608.232303  ],\n",
       "       [-3135866.36037277],\n",
       "       [ 4659253.08401101],\n",
       "       [-1526746.38065197],\n",
       "       [-3135668.49669144],\n",
       "       [ 4658246.93221199],\n",
       "       [ 4659592.70335286],\n",
       "       [ 4657612.83283337],\n",
       "       [-1526110.26492251],\n",
       "       [-1525873.9198634 ],\n",
       "       [ 4656625.8293952 ],\n",
       "       [-1531846.19242137],\n",
       "       [-1525319.83283582]])"
      ]
     },
     "execution_count": 29,
     "metadata": {},
     "output_type": "execute_result"
    }
   ],
   "source": [
    "beta"
   ]
  },
  {
   "cell_type": "code",
   "execution_count": null,
   "id": "314bff01-337f-49df-b81b-8343e9115310",
   "metadata": {},
   "outputs": [],
   "source": []
  }
 ],
 "metadata": {
  "kernelspec": {
   "display_name": "Python 3 (ipykernel)",
   "language": "python",
   "name": "python3"
  },
  "language_info": {
   "codemirror_mode": {
    "name": "ipython",
    "version": 3
   },
   "file_extension": ".py",
   "mimetype": "text/x-python",
   "name": "python",
   "nbconvert_exporter": "python",
   "pygments_lexer": "ipython3",
   "version": "3.11.8"
  }
 },
 "nbformat": 4,
 "nbformat_minor": 5
}
