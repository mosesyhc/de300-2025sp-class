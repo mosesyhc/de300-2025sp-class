{
 "cells": [
  {
   "cell_type": "markdown",
   "id": "7c20d3a8-a3c7-4607-b109-c9f3f31d1896",
   "metadata": {},
   "source": [
    "# (EX) Electronic medical record (as a SQL refresher)\n",
    "This example utilizes a subset of the [MIMIC III demo](https://physionet.org/content/mimiciii-demo/1.4/) dataset in illustrating the use of database using DuckDB.\n",
    "\n",
    "*Quick notes about DuckDB:*  \n",
    "\n",
    "- DuckDB is a relational database for analytics processing (i.e., OLAP)\n",
    "- DuckDB is columnar-oriented\n",
    "- DuckDB scales reasonably for *relatively* large datasets and works well for local development\n",
    "\n",
    "For MIMIC-III, here is a [full summary](https://mit-lcp.github.io/mimic-schema-spy/) where you can understand the relationship between tables."
   ]
  },
  {
   "cell_type": "code",
   "execution_count": null,
   "id": "34d2d203-6568-4c5e-8215-756f8946507a",
   "metadata": {
    "scrolled": true
   },
   "outputs": [],
   "source": [
    "#!pip install duckdb==1.2.2\n",
    "import duckdb"
   ]
  },
  {
   "cell_type": "code",
   "execution_count": null,
   "id": "122c09a4-4197-4582-86e7-31556d0aae68",
   "metadata": {},
   "outputs": [],
   "source": [
    "# establish connection\n",
    "conn = duckdb.connect('dataset/mimic.db', read_only=True)\n",
    "\n",
    "conn.sql('SHOW TABLES;')"
   ]
  },
  {
   "cell_type": "code",
   "execution_count": null,
   "id": "f472eba1-ec9a-4ef0-a3f9-35779453c25a",
   "metadata": {},
   "outputs": [],
   "source": [
    "# metadata for a particular table\n",
    "conn.sql(\n",
    "    \"\"\"\n",
    "    SELECT column_name, data_type FROM information_schema.columns \n",
    "    WHERE table_name = 'ADMISSIONS';\n",
    "    \"\"\"\n",
    ")"
   ]
  },
  {
   "cell_type": "code",
   "execution_count": null,
   "id": "dccd4798-a5fa-438f-8040-bd01b729c97e",
   "metadata": {
    "scrolled": true
   },
   "outputs": [],
   "source": [
    "# admission table at a glance\n",
    "conn.sql(\n",
    "    \"\"\"\n",
    "    SELECT deathtime FROM ADMISSIONS;\n",
    "    \"\"\"\n",
    ")"
   ]
  },
  {
   "cell_type": "code",
   "execution_count": null,
   "id": "e1621349-194a-4dc9-8c42-c1cfdfa946dc",
   "metadata": {},
   "outputs": [],
   "source": [
    "# number of patients\n",
    "conn.sql(\n",
    "    \"\"\"\n",
    "    SELECT COUNT(*) FROM PATIENTS;\n",
    "    \"\"\"\n",
    ")"
   ]
  },
  {
   "cell_type": "markdown",
   "id": "c8b07317-c334-456a-8ff8-eb093387796b",
   "metadata": {},
   "source": [
    "## Refresher for simple queries\n",
    "\n",
    "1. How many records are in each of the available tables?\n",
    "2. How many patients are female?\n",
    "3. How many patients passed away during the hospital stay?\n",
    "4. How many different admission types are there? What are they?\n",
    "5. What is the earliest and the latest admission time in the database?"
   ]
  },
  {
   "cell_type": "code",
   "execution_count": null,
   "id": "cd8bcfd4-b221-4e59-8435-e94ba9e52657",
   "metadata": {},
   "outputs": [],
   "source": [
    "conn.sql(\n",
    "    \"\"\"\n",
    "    \n",
    "    \"\"\"\n",
    ")"
   ]
  },
  {
   "cell_type": "markdown",
   "id": "d2d5c3ed-b243-4463-a52d-1bc2da399f93",
   "metadata": {},
   "source": [
    "## Slightly more complicated queries\n",
    "1. Create a table with all ICU stays with their respective patient information.\n",
    "2. Create a table to show all unique DRG (diagnosis-related group) codes and the number of associated admissions."
   ]
  },
  {
   "cell_type": "code",
   "execution_count": null,
   "id": "ae475f0e-d1d7-4f66-bd41-4cdcefca6c2d",
   "metadata": {},
   "outputs": [],
   "source": [
    "conn.sql(\n",
    "    \"\"\"\n",
    "    \n",
    "    \"\"\"\n",
    ")"
   ]
  },
  {
   "cell_type": "markdown",
   "id": "36a89562-e90a-457e-9c3a-fa3db6a2910f",
   "metadata": {},
   "source": [
    "## Derivative queries"
   ]
  },
  {
   "cell_type": "markdown",
   "id": "45ef93ab-0cac-4622-b1eb-ed28d1601f7e",
   "metadata": {},
   "source": [
    "1. Calculate the age of each patient at the time of admission.  \n",
    "    *Hint:* `cast(patients.dob as date)` allows for addition and subtraction of dates (in days)\n",
    "2. Identify if a patient passes away when they are in the ICU.\n",
    "3. Calculate the average duration of admission."
   ]
  },
  {
   "cell_type": "code",
   "execution_count": null,
   "id": "3b7fc524-0863-43bd-9edc-933d07e3377d",
   "metadata": {},
   "outputs": [],
   "source": [
    "conn.sql(\n",
    "    \"\"\"\n",
    "    \n",
    "    \"\"\"\n",
    ")"
   ]
  }
 ],
 "metadata": {
  "kernelspec": {
   "display_name": "Python 3 (ipykernel)",
   "language": "python",
   "name": "python3"
  },
  "language_info": {
   "codemirror_mode": {
    "name": "ipython",
    "version": 3
   },
   "file_extension": ".py",
   "mimetype": "text/x-python",
   "name": "python",
   "nbconvert_exporter": "python",
   "pygments_lexer": "ipython3",
   "version": "3.11.9"
  },
  "widgets": {
   "application/vnd.jupyter.widget-state+json": {
    "state": {},
    "version_major": 2,
    "version_minor": 0
   }
  }
 },
 "nbformat": 4,
 "nbformat_minor": 5
}
