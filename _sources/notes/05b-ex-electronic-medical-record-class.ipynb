{
 "cells": [
  {
   "cell_type": "markdown",
   "id": "7c20d3a8-a3c7-4607-b109-c9f3f31d1896",
   "metadata": {},
   "source": [
    "# (EX) Electronic medical record (as a SQL refresher)\n",
    "This example utilizes a subset of the [MIMIC III demo](https://physionet.org/content/mimiciii-demo/1.4/) dataset in illustrating the use of database using DuckDB.\n",
    "\n",
    "*Quick notes about DuckDB:*  \n",
    "\n",
    "- DuckDB is a relational database for analytics processing (i.e., OLAP)\n",
    "- DuckDB is columnar-oriented\n",
    "- DuckDB scales reasonably for *relatively* large datasets and works well for local development\n",
    "\n",
    "For MIMIC-III, here is a [full summary](https://mit-lcp.github.io/mimic-schema-spy/) where you can understand the relationship between tables."
   ]
  },
  {
   "cell_type": "code",
   "execution_count": null,
   "id": "34d2d203-6568-4c5e-8215-756f8946507a",
   "metadata": {
    "scrolled": true
   },
   "outputs": [],
   "source": [
    "!pip install duckdb==1.2.2\n",
    "import duckdb"
   ]
  },
  {
   "cell_type": "code",
   "execution_count": null,
   "id": "122c09a4-4197-4582-86e7-31556d0aae68",
   "metadata": {},
   "outputs": [],
   "source": [
    "# establish connection\n",
    "conn = duckdb.connect('dataset/mimic.db', read_only=True)\n",
    "\n",
    "conn.sql('SHOW TABLES;')"
   ]
  },
  {
   "cell_type": "code",
   "execution_count": null,
   "id": "f472eba1-ec9a-4ef0-a3f9-35779453c25a",
   "metadata": {},
   "outputs": [],
   "source": [
    "# metadata for a particular table\n",
    "conn.sql(\n",
    "    \"\"\"\n",
    "    SELECT column_name, data_type FROM information_schema.columns \n",
    "    WHERE table_name = 'PATIENTS';\n",
    "    \"\"\"\n",
    ")"
   ]
  },
  {
   "cell_type": "code",
   "execution_count": null,
   "id": "dccd4798-a5fa-438f-8040-bd01b729c97e",
   "metadata": {
    "scrolled": true
   },
   "outputs": [],
   "source": [
    "# admission table at a glance\n",
    "conn.sql(\n",
    "    \"\"\"\n",
    "    SELECT sum(expire_flag) FROM PATIENTS;\n",
    "    \"\"\"\n",
    ")"
   ]
  },
  {
   "cell_type": "code",
   "execution_count": null,
   "id": "e1621349-194a-4dc9-8c42-c1cfdfa946dc",
   "metadata": {},
   "outputs": [],
   "source": [
    "# number of patients\n",
    "conn.sql(\n",
    "    \"\"\"\n",
    "    SELECT COUNT(*) FROM PATIENTS;\n",
    "    \"\"\"\n",
    ")"
   ]
  },
  {
   "cell_type": "markdown",
   "id": "c8b07317-c334-456a-8ff8-eb093387796b",
   "metadata": {},
   "source": [
    "## Refresher for simple queries\n",
    "\n",
    "1. How many records are in each of the available tables?\n",
    "2. How many patients are female?\n",
    "3. How many patients passed away during the hospital stay?\n",
    "4. How many different admission types are there? What are they?\n",
    "5. What is the earliest and the latest admission time in the database?"
   ]
  },
  {
   "cell_type": "code",
   "execution_count": null,
   "id": "cd8bcfd4-b221-4e59-8435-e94ba9e52657",
   "metadata": {},
   "outputs": [],
   "source": [
    "conn.sql(\n",
    "    \"\"\"\n",
    "    SELECT count(*) from PATIENTS\n",
    "    WHERE gender = 'F'\n",
    "    \"\"\"\n",
    ")"
   ]
  },
  {
   "cell_type": "code",
   "execution_count": null,
   "id": "791078d2-7e60-4a69-89bc-1cab130f7fc4",
   "metadata": {},
   "outputs": [],
   "source": [
    "conn.sql(\n",
    "    \"\"\"\n",
    "    SELECT COUNT(*) FROM PATIENTS\n",
    "    WHERE dod_hosp IS NOT NULL\n",
    "    \"\"\"\n",
    ")\n",
    "\n",
    "conn.sql(\n",
    "    \"\"\"\n",
    "    SELECT COUNT(*) FROM ADMISSIONS\n",
    "    WHERE deathtime IS NOT NULL\n",
    "    \"\"\"\n",
    ")"
   ]
  },
  {
   "cell_type": "code",
   "execution_count": null,
   "id": "332113d1-5d33-4288-9034-1e7adc0097ac",
   "metadata": {},
   "outputs": [],
   "source": [
    "conn.sql(\n",
    "    \"\"\"\n",
    "    SELECT DISTINCT admission_type FROM admissions\n",
    "    \"\"\"\n",
    ")"
   ]
  },
  {
   "cell_type": "code",
   "execution_count": null,
   "id": "8ef2781b-c1e2-429c-8e00-2627e4ecf089",
   "metadata": {},
   "outputs": [],
   "source": [
    "conn.sql(\n",
    "    \"\"\"\n",
    "    select min(admittime), max(admittime) FROM ADMISSIONS\n",
    "    \"\"\"\n",
    ")"
   ]
  },
  {
   "cell_type": "markdown",
   "id": "d2d5c3ed-b243-4463-a52d-1bc2da399f93",
   "metadata": {},
   "source": [
    "## Slightly more complicated queries\n",
    "1. Create a table with all ICU stays with their respective patient information.\n",
    "2. Create a table to show all unique DRG (diagnosis-related group) codes and the number of associated admissions."
   ]
  },
  {
   "cell_type": "code",
   "execution_count": null,
   "id": "ae475f0e-d1d7-4f66-bd41-4cdcefca6c2d",
   "metadata": {},
   "outputs": [],
   "source": [
    "conn.sql(\n",
    "    \"\"\"\n",
    "    SELECT * FROM ICUSTAYS \n",
    "    JOIN admissions \n",
    "    ON ICUSTAYS.subject_id = admissions.subject_id\n",
    "    \"\"\"\n",
    ")"
   ]
  },
  {
   "cell_type": "markdown",
   "id": "36a89562-e90a-457e-9c3a-fa3db6a2910f",
   "metadata": {},
   "source": [
    "## Derivative queries"
   ]
  },
  {
   "cell_type": "markdown",
   "id": "45ef93ab-0cac-4622-b1eb-ed28d1601f7e",
   "metadata": {},
   "source": [
    "1. Calculate the age of each patient at the time of admission.  \n",
    "    *Hint:* `cast(patients.dob as date)` allows for addition and subtraction of dates (in days)\n",
    "2. Identify if a patient passes away when they are in the ICU.\n",
    "3. Calculate the average duration of admission."
   ]
  },
  {
   "cell_type": "code",
   "execution_count": null,
   "id": "3b7fc524-0863-43bd-9edc-933d07e3377d",
   "metadata": {},
   "outputs": [],
   "source": [
    "conn.sql(\n",
    "    \"\"\"\n",
    "    \n",
    "    \"\"\"\n",
    ")"
   ]
  },
  {
   "cell_type": "markdown",
   "id": "a13d622e-4511-4299-88c1-d40d6b79e4f5",
   "metadata": {},
   "source": [
    "# Creating your own database\n",
    "\n",
    "The example below refers to creating your own database and loading data into tables."
   ]
  },
  {
   "cell_type": "code",
   "execution_count": 2,
   "id": "ad7f24cf-0824-437d-a571-38e638db7c35",
   "metadata": {},
   "outputs": [],
   "source": [
    "import duckdb"
   ]
  },
  {
   "cell_type": "code",
   "execution_count": 6,
   "id": "cf75990a-edd8-49c9-abc4-6492b5f7c26f",
   "metadata": {},
   "outputs": [
    {
     "data": {
      "text/plain": [
       "┌──────────┐\n",
       "│   name   │\n",
       "│ varchar  │\n",
       "├──────────┤\n",
       "│ PENGUINS │\n",
       "└──────────┘"
      ]
     },
     "execution_count": 6,
     "metadata": {},
     "output_type": "execute_result"
    }
   ],
   "source": [
    "# establish connection\n",
    "conn = duckdb.connect('dataset/mimic_new.db', read_only=False)\n",
    "\n",
    "conn.sql('SHOW TABLES;')"
   ]
  },
  {
   "cell_type": "code",
   "execution_count": 4,
   "id": "74cd8097-4441-4038-bd63-c12e17488c86",
   "metadata": {},
   "outputs": [
    {
     "name": "stderr",
     "output_type": "stream",
     "text": [
      "C:\\Users\\moses\\AppData\\Local\\Temp\\ipykernel_11824\\342381945.py:5: UserWarning: pandas only supports SQLAlchemy connectable (engine/connection) or database string URI or sqlite3 DBAPI2 connection. Other DBAPI2 objects are not tested. Please consider using SQLAlchemy.\n",
      "  df.to_sql(\"PENGUINS\", conn, index=False)\n"
     ]
    },
    {
     "data": {
      "text/plain": [
       "-1"
      ]
     },
     "execution_count": 4,
     "metadata": {},
     "output_type": "execute_result"
    }
   ],
   "source": [
    "import pandas as pd\n",
    "\n",
    "df = pd.read_csv('dataset/penguins.csv')\n",
    "\n",
    "df.to_sql(\"PENGUINS\", conn, index=False)"
   ]
  },
  {
   "cell_type": "code",
   "execution_count": 5,
   "id": "df84dbfd-d916-46e3-916d-3301bfd395ad",
   "metadata": {},
   "outputs": [],
   "source": [
    "conn.close()"
   ]
  },
  {
   "cell_type": "code",
   "execution_count": 7,
   "id": "fdb2d2b5-8be3-4a70-afda-73d2b009d504",
   "metadata": {},
   "outputs": [
    {
     "data": {
      "text/plain": [
       "┌─────────┬───────────┬────────────────┬───────────────┬───────────────────┬─────────────┬─────────┐\n",
       "│ species │  island   │ bill_length_mm │ bill_depth_mm │ flipper_length_mm │ body_mass_g │   sex   │\n",
       "│ varchar │  varchar  │     float      │     float     │       float       │    float    │ varchar │\n",
       "├─────────┼───────────┼────────────────┼───────────────┼───────────────────┼─────────────┼─────────┤\n",
       "│ Adelie  │ Torgersen │           39.1 │          18.7 │             181.0 │      3750.0 │ MALE    │\n",
       "│ Adelie  │ Torgersen │           39.5 │          17.4 │             186.0 │      3800.0 │ FEMALE  │\n",
       "│ Adelie  │ Torgersen │           40.3 │          18.0 │             195.0 │      3250.0 │ FEMALE  │\n",
       "│ Adelie  │ Torgersen │           NULL │          NULL │              NULL │        NULL │ NULL    │\n",
       "│ Adelie  │ Torgersen │           36.7 │          19.3 │             193.0 │      3450.0 │ FEMALE  │\n",
       "│ Adelie  │ Torgersen │           39.3 │          20.6 │             190.0 │      3650.0 │ MALE    │\n",
       "│ Adelie  │ Torgersen │           38.9 │          17.8 │             181.0 │      3625.0 │ FEMALE  │\n",
       "│ Adelie  │ Torgersen │           39.2 │          19.6 │             195.0 │      4675.0 │ MALE    │\n",
       "│ Adelie  │ Torgersen │           34.1 │          18.1 │             193.0 │      3475.0 │ NULL    │\n",
       "│ Adelie  │ Torgersen │           42.0 │          20.2 │             190.0 │      4250.0 │ NULL    │\n",
       "│   ·     │   ·       │             ·  │            ·  │               ·   │         ·   │  ·      │\n",
       "│   ·     │   ·       │             ·  │            ·  │               ·   │         ·   │  ·      │\n",
       "│   ·     │   ·       │             ·  │            ·  │               ·   │         ·   │  ·      │\n",
       "│ Gentoo  │ Biscoe    │           46.2 │          14.1 │             217.0 │      4375.0 │ FEMALE  │\n",
       "│ Gentoo  │ Biscoe    │           55.1 │          16.0 │             230.0 │      5850.0 │ MALE    │\n",
       "│ Gentoo  │ Biscoe    │           44.5 │          15.7 │             217.0 │      4875.0 │ NULL    │\n",
       "│ Gentoo  │ Biscoe    │           48.8 │          16.2 │             222.0 │      6000.0 │ MALE    │\n",
       "│ Gentoo  │ Biscoe    │           47.2 │          13.7 │             214.0 │      4925.0 │ FEMALE  │\n",
       "│ Gentoo  │ Biscoe    │           NULL │          NULL │              NULL │        NULL │ NULL    │\n",
       "│ Gentoo  │ Biscoe    │           46.8 │          14.3 │             215.0 │      4850.0 │ FEMALE  │\n",
       "│ Gentoo  │ Biscoe    │           50.4 │          15.7 │             222.0 │      5750.0 │ MALE    │\n",
       "│ Gentoo  │ Biscoe    │           45.2 │          14.8 │             212.0 │      5200.0 │ FEMALE  │\n",
       "│ Gentoo  │ Biscoe    │           49.9 │          16.1 │             213.0 │      5400.0 │ MALE    │\n",
       "├─────────┴───────────┴────────────────┴───────────────┴───────────────────┴─────────────┴─────────┤\n",
       "│ 344 rows (20 shown)                                                                    7 columns │\n",
       "└──────────────────────────────────────────────────────────────────────────────────────────────────┘"
      ]
     },
     "execution_count": 7,
     "metadata": {},
     "output_type": "execute_result"
    }
   ],
   "source": [
    "conn.sql(\n",
    "    \"\"\"\n",
    "    SELECT * FROM PENGUINS;\n",
    "    \"\"\"\n",
    ")"
   ]
  },
  {
   "cell_type": "code",
   "execution_count": null,
   "id": "509c5b2f-3670-45bf-9827-5de99cc13791",
   "metadata": {},
   "outputs": [],
   "source": []
  }
 ],
 "metadata": {
  "kernelspec": {
   "display_name": "Python 3 (ipykernel)",
   "language": "python",
   "name": "python3"
  },
  "language_info": {
   "codemirror_mode": {
    "name": "ipython",
    "version": 3
   },
   "file_extension": ".py",
   "mimetype": "text/x-python",
   "name": "python",
   "nbconvert_exporter": "python",
   "pygments_lexer": "ipython3",
   "version": "3.11.8"
  },
  "widgets": {
   "application/vnd.jupyter.widget-state+json": {
    "state": {},
    "version_major": 2,
    "version_minor": 0
   }
  }
 },
 "nbformat": 4,
 "nbformat_minor": 5
}
