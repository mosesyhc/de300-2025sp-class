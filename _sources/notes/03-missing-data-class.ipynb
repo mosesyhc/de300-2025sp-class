{
 "cells": [
  {
   "cell_type": "markdown",
   "id": "4ea922bc-1f8d-4c10-ad73-46e17c08c25c",
   "metadata": {
    "editable": true,
    "slideshow": {
     "slide_type": "slide"
    },
    "tags": []
   },
   "source": [
    "# Handling missing data\n",
    "This document (briefly) introduces the concept, categorization, and treatment of missing data."
   ]
  },
  {
   "cell_type": "markdown",
   "id": "631edc90-e8d0-49ec-988d-367b599df10b",
   "metadata": {
    "editable": true,
    "slideshow": {
     "slide_type": "fragment"
    },
    "tags": []
   },
   "source": [
    "## Classical categories of missing data\n",
    "If we know how the missing data are generated, so-called missing data mechanisms, we can take into account why data are missing in data analysis. \n",
    "\n",
    "A particularly useful (and wide-known) framework for missingness categorizes missingness into the following three categories (Little and Rudin, 2019):"
   ]
  },
  {
   "cell_type": "markdown",
   "id": "2ab86227-f38a-42bc-9201-ec3009b18e25",
   "metadata": {
    "editable": true,
    "slideshow": {
     "slide_type": "fragment"
    },
    "tags": []
   },
   "source": [
    "*Caveat... the category namings are... confusing*"
   ]
  },
  {
   "cell_type": "markdown",
   "id": "113ca6ff-a694-4f56-8b06-27e903fe86ea",
   "metadata": {
    "editable": true,
    "slideshow": {
     "slide_type": "subslide"
    },
    "tags": []
   },
   "source": [
    "**MCAR (missing completely at random):** how data are missing is independent with any aspect of the data"
   ]
  },
  {
   "cell_type": "markdown",
   "id": "8c53ccc1-a637-4600-8349-705b69c99b29",
   "metadata": {
    "editable": true,
    "slideshow": {
     "slide_type": "fragment"
    },
    "tags": []
   },
   "source": [
    "**MAR (missing at random):** how data are missing depends on **observed** quantities, so-called *predictors, or independent variables*\n",
    "- e.g., a person with certain characteristics (known) may not answer certain questions on a survey, *imagine reporting salary for different socio-economic classes*\n",
    "- e.g., for certain inputs, a simulation model may crash or produce nonsensical outputs"
   ]
  },
  {
   "cell_type": "markdown",
   "id": "1e1b69cf-7202-4dd3-ba52-c2a54689d64c",
   "metadata": {
    "editable": true,
    "slideshow": {
     "slide_type": "fragment"
    },
    "tags": []
   },
   "source": [
    "**MNAR (missing not at random):** how data are missing depends on the **unobserved** quantities\n",
    "- e.g., a pollutant sensor can only detect particles that are $> 0.1\\mu\\mathrm{m}$  \n",
    "- e.g., storm surges only occur in areas that get below the water level"
   ]
  },
  {
   "cell_type": "markdown",
   "id": "88d6bdf0-4175-4eea-9646-e3b855d1fc75",
   "metadata": {
    "editable": true,
    "slideshow": {
     "slide_type": "subslide"
    },
    "tags": []
   },
   "source": [
    "Understanding the causes of missing data helps designing algorithms to handle missing data.  *However*, in reality, we often do not know the causes, or multiple causes exist in producing a data set."
   ]
  },
  {
   "cell_type": "markdown",
   "id": "70e1f04b-8980-4052-a6d3-19bfdf8728ff",
   "metadata": {
    "editable": true,
    "slideshow": {
     "slide_type": "subslide"
    },
    "tags": []
   },
   "source": [
    "**Cautionary note:** Where the data are missing matters, i.e., is a response value missing, is a predictor value missing, or do we not know what our analysis questions are yet?"
   ]
  },
  {
   "cell_type": "markdown",
   "id": "8afeff65-1c51-44a3-9e84-763cfcd63b9f",
   "metadata": {
    "editable": true,
    "slideshow": {
     "slide_type": "slide"
    },
    "tags": []
   },
   "source": [
    "## Treatment of missing data"
   ]
  },
  {
   "cell_type": "markdown",
   "id": "a8597d11-a5fe-4d48-9783-4377ab825786",
   "metadata": {
    "editable": true,
    "slideshow": {
     "slide_type": "subslide"
    },
    "tags": []
   },
   "source": [
    "**Starting with an example of \"completing the data\"**  \n",
    "\n",
    "|                            |\n",
    "|:--------------------------:|\n",
    "|![gas-a](../img/gas-a.png)  |"
   ]
  },
  {
   "cell_type": "markdown",
   "id": "88d07537-bc38-45c5-b571-e0b6526fd773",
   "metadata": {
    "editable": true,
    "slideshow": {
     "slide_type": "subslide"
    },
    "tags": []
   },
   "source": [
    "|                            |Replace with the mean       |\n",
    "|:--------------------------:|:--------------------------:|\n",
    "|![gas-a](../img/gas-a.png)  |![gas-b](../img/gas-b.png)  |"
   ]
  },
  {
   "cell_type": "markdown",
   "id": "b7bc5444-a124-47d4-85a2-166f3eefb11d",
   "metadata": {
    "editable": true,
    "slideshow": {
     "slide_type": "subslide"
    },
    "tags": []
   },
   "source": [
    "|                            |Replace with the mean + noise|\n",
    "|:--------------------------:|:--------------------------:|\n",
    "|![gas-a](../img/gas-a.png)  |![gas-c](../img/gas-c.png)  |"
   ]
  },
  {
   "cell_type": "markdown",
   "id": "20c001f0-f8e1-4e79-8ded-c7236fe70e10",
   "metadata": {
    "editable": true,
    "slideshow": {
     "slide_type": "subslide"
    },
    "tags": []
   },
   "source": [
    "|                            |Replace with the mean + noise + parameter uncertainty|\n",
    "|:--------------------------:|:--------------------------:|\n",
    "|![gas-a](../img/gas-a.png)  |![gas-d](../img/gas-d.png)  |"
   ]
  },
  {
   "cell_type": "markdown",
   "id": "2e9894d0-82e6-482d-8947-f1db9c437329",
   "metadata": {
    "editable": true,
    "slideshow": {
     "slide_type": "subslide"
    },
    "tags": []
   },
   "source": [
    "|                            |More information + replace with mean + noise|\n",
    "|:--------------------------:|:--------------------------:|\n",
    "|![gas-a](../img/gas-a.png)  |![gas-e](../img/gas-e.png)  |"
   ]
  },
  {
   "cell_type": "markdown",
   "id": "6d15a48a-bda3-4336-a7a5-3bd391c752e9",
   "metadata": {
    "editable": true,
    "slideshow": {
     "slide_type": "subslide"
    },
    "tags": []
   },
   "source": [
    "|                            |Predictive mean matching|\n",
    "|:--------------------------:|:--------------------------:|\n",
    "|![gas-a](../img/gas-a.png)  |![gas-f](../img/gas-f.png)  |"
   ]
  },
  {
   "cell_type": "markdown",
   "id": "30545eb4-1cfb-4fc1-9f2b-e153e651db56",
   "metadata": {
    "editable": true,
    "slideshow": {
     "slide_type": "subslide"
    },
    "tags": []
   },
   "source": [
    "**Example of missingness impacting analysis** from Daniel et al. (2012), reproducing Figure 4 in the paper:"
   ]
  },
  {
   "cell_type": "markdown",
   "id": "0d3e67fc-074b-4e57-b1e9-2c4a73b3578a",
   "metadata": {
    "editable": true,
    "slideshow": {
     "slide_type": "fragment"
    },
    "tags": []
   },
   "source": [
    "|![mar-mnar](../img/mar-mnar.png)|\n",
    "|:---:|\n",
    "|Effect of missingness mechanism on data analysis.|\n"
   ]
  },
  {
   "cell_type": "markdown",
   "id": "5018a6ef-ed60-4451-a97d-7325d18c1db9",
   "metadata": {
    "editable": true,
    "slideshow": {
     "slide_type": "subslide"
    },
    "tags": []
   },
   "source": [
    "### General rules for treating missing data:  \n",
    "- Under MCAR, focusing on complete cases or employing imputation methods tend to be sufficient.\n",
    "- Under MAR, some methods are valid choices:\n",
    "  - If the missingness is independent of the response *conditional* on the predictor, linear regression is still \"valid\".\n",
    "  - Imputation methods tend to introduce biases, depending on the data analysis methods.\n",
    "- Under MNAR, the missingness should be explicitly modeled.\n",
    "  - e.g., censored observations in survival analysis."
   ]
  },
  {
   "cell_type": "markdown",
   "id": "33a91ab9-64b4-4277-beea-8690ac23257f",
   "metadata": {
    "editable": true,
    "slideshow": {
     "slide_type": "slide"
    },
    "tags": []
   },
   "source": [
    "## Imputation methods\n",
    "We introduce a (limited) list of imputation methods in this section, using the `titanic` dataset as an example:"
   ]
  },
  {
   "cell_type": "code",
   "execution_count": null,
   "id": "829464cb-88cb-43ec-92d7-10fb799edc5a",
   "metadata": {
    "editable": true,
    "slideshow": {
     "slide_type": "fragment"
    },
    "tags": []
   },
   "outputs": [],
   "source": [
    "import pandas as pd\n",
    "import seaborn as sns\n",
    "import matplotlib.pyplot as plt\n",
    "pd.set_option('display.precision', 3)\n",
    "\n",
    "titanic = sns.load_dataset('titanic', cache=True, data_home='dataset/')"
   ]
  },
  {
   "attachments": {},
   "cell_type": "markdown",
   "id": "2fa4db21-2682-477d-a2ea-2fa7c81eb182",
   "metadata": {
    "editable": true,
    "slideshow": {
     "slide_type": "fragment"
    },
    "tags": []
   },
   "source": [
    "### Identifying missingness\n",
    "We have covered some basic ways how to identify missingness in the EDA module.  Here is one other option with the help of `missingno`."
   ]
  },
  {
   "cell_type": "code",
   "execution_count": null,
   "id": "d7c2ebbb-421a-41ab-913b-ee77825aaf53",
   "metadata": {
    "editable": true,
    "slideshow": {
     "slide_type": "fragment"
    },
    "tags": []
   },
   "outputs": [],
   "source": [
    "# !pip install missingno  # in case you need to install the package\n",
    "\n",
    "# visualization of available/missing data\n"
   ]
  },
  {
   "cell_type": "markdown",
   "id": "c2b69401-602d-4b62-b224-4fded44b623a",
   "metadata": {
    "editable": true,
    "slideshow": {
     "slide_type": "subslide"
    },
    "tags": []
   },
   "source": [
    "### Removing data\n",
    "We have discussed that removing data is typically not ideal, but nothing stops us from doing that..."
   ]
  },
  {
   "cell_type": "code",
   "execution_count": null,
   "id": "78b172b3-d141-4b75-bfc1-a3be6fc88e82",
   "metadata": {
    "editable": true,
    "slideshow": {
     "slide_type": "fragment"
    },
    "tags": []
   },
   "outputs": [],
   "source": [
    "# retaining titanic dataset with complete data\n",
    "titanic_agecomp = ..."
   ]
  },
  {
   "cell_type": "code",
   "execution_count": null,
   "id": "d2cedce1-09aa-4f3f-bfd9-2620fd8e2767",
   "metadata": {
    "editable": true,
    "slideshow": {
     "slide_type": "fragment"
    },
    "tags": []
   },
   "outputs": [],
   "source": [
    "# comparing the correlation with / without missing data\n",
    "corr = titanic.corr()\n",
    "corr_agecomp = titanic_agecomp.corr()\n",
    "\n",
    "# changes in correlation matrix with / without age missingness\n",
    "corr - corr_agecomp"
   ]
  },
  {
   "cell_type": "markdown",
   "id": "04729ad8-3c79-46a3-a2ac-1cc1e367591a",
   "metadata": {
    "editable": true,
    "slideshow": {
     "slide_type": "subslide"
    },
    "tags": []
   },
   "source": [
    "### Simple imputation with a constant"
   ]
  },
  {
   "cell_type": "code",
   "execution_count": null,
   "id": "66dbe10f-3ea1-4813-9046-bf1d36aea39b",
   "metadata": {
    "editable": true,
    "slideshow": {
     "slide_type": "fragment"
    },
    "tags": []
   },
   "outputs": [],
   "source": [
    "# !pip install scikit-learn\n",
    "constant_imputer = "
   ]
  },
  {
   "cell_type": "code",
   "execution_count": null,
   "id": "58633454-eed1-4f4f-b28c-13d44c143953",
   "metadata": {
    "editable": true,
    "scrolled": true,
    "slideshow": {
     "slide_type": "fragment"
    },
    "tags": []
   },
   "outputs": [],
   "source": [
    "titanic_constant = titanic.copy()\n",
    "\n",
    "# set constant, completing data\n",
    "\n",
    "# visualize completed data\n"
   ]
  },
  {
   "cell_type": "code",
   "execution_count": null,
   "id": "03f712e4-1562-4634-bd05-70f37f8e8aa6",
   "metadata": {
    "editable": true,
    "slideshow": {
     "slide_type": "fragment"
    },
    "tags": []
   },
   "outputs": [],
   "source": [
    "titanic_median = titanic.copy()\n",
    "\n",
    "# example with median, admitting only numeric columns\n",
    "\n",
    "# another equivalent option \n",
    "\n",
    "# visualize completed data\n",
    "fig, ax = plt.subplots(1, 1)\n",
    "sns.histplot(titanic_median['age'], binwidth=5, alpha=0.3, color='k', label='imputed w/ median')\n",
    "sns.histplot(titanic['age'], binwidth=5, alpha=0.3, color='purple', label='unimputed')\n",
    "ax.legend()"
   ]
  },
  {
   "cell_type": "markdown",
   "id": "4cc55f5e-4e8b-4a3b-82b1-b66f997955b2",
   "metadata": {
    "editable": true,
    "slideshow": {
     "slide_type": "subslide"
    },
    "tags": []
   },
   "source": [
    "### Multiple imputation\n",
    "Multiple imputation is a technique to generate multiple realizations of imputation values, often modeled by a probability distribution.\n",
    "\n",
    "One method is the multiple imputation by chained equations, or MICE. `miceforest` uses LightBGM as its training algorithm for MICE."
   ]
  },
  {
   "cell_type": "code",
   "execution_count": null,
   "id": "9e860b28-3822-4555-af5e-8ff57b5433e3",
   "metadata": {
    "editable": true,
    "slideshow": {
     "slide_type": "fragment"
    },
    "tags": []
   },
   "outputs": [],
   "source": [
    "# !pip install miceforest\n",
    "import miceforest as mf\n",
    "\n",
    "# miceforest requires a real matrix. \n",
    "# For illustrative purposes, we only use the numerical columns.\n",
    "\n",
    "# set up a kernel to produce `num_datasets` imputed datasets\n",
    "num_datasets = 4\n",
    "kernel = mf.ImputationKernel(\n",
    "    \n",
    ")"
   ]
  },
  {
   "cell_type": "code",
   "execution_count": null,
   "id": "071a940e-4b18-437f-96fc-65e27b08359c",
   "metadata": {
    "editable": true,
    "slideshow": {
     "slide_type": "fragment"
    },
    "tags": []
   },
   "outputs": [],
   "source": [
    "# run the MICE algorithm\n"
   ]
  },
  {
   "cell_type": "code",
   "execution_count": null,
   "id": "e4ec6b92-7fd5-4465-8ed0-7f131d59a0d4",
   "metadata": {
    "editable": true,
    "slideshow": {
     "slide_type": "fragment"
    },
    "tags": []
   },
   "outputs": [],
   "source": [
    "# retrieve completed data\n",
    "titanic_mf = "
   ]
  },
  {
   "cell_type": "code",
   "execution_count": null,
   "id": "f31feecd-fb5f-4aa5-8768-d738166a03a6",
   "metadata": {
    "editable": true,
    "slideshow": {
     "slide_type": "subslide"
    },
    "tags": []
   },
   "outputs": [],
   "source": [
    "# retrieving each imputed dataset (recall that M in MICE means multiple)\n",
    "\n",
    "for k in range(num_datasets):\n",
    "    sns.histplot(titanic_mf(dataset=k)['age'], binwidth=5, stat='probability', color='k', alpha=0.3)\n",
    "\n",
    "sns.histplot(titanic['age'], binwidth=5, stat='probability', color='purple', alpha=0.8)\n",
    "\n",
    "plt.title('{:d} realizations of imputed age'.format(num_datasets))\n",
    "plt.tight_layout()"
   ]
  },
  {
   "cell_type": "code",
   "execution_count": null,
   "id": "e1b1c373-dc9a-4de9-bb65-ac0407c0eeab",
   "metadata": {
    "editable": true,
    "slideshow": {
     "slide_type": "subslide"
    },
    "tags": []
   },
   "outputs": [],
   "source": [
    "# comparing the original and imputed dataset\n",
    "fig, ax = plt.subplots(ncols=5)\n",
    "\n",
    "for k, axi in enumerate(ax.flatten()):\n",
    "    if k < num_datasets:\n",
    "        sns.boxplot(titanic_mf(dataset=k)['age'], ax=axi)\n",
    "    else:\n",
    "        sns.boxplot(titanic['age'], ax=axi, color='purple')\n",
    "\n",
    "plt.tight_layout()"
   ]
  },
  {
   "cell_type": "markdown",
   "id": "692d8bb0-fc38-49bf-88d0-a46aac56b41c",
   "metadata": {
    "editable": true,
    "slideshow": {
     "slide_type": "subslide"
    },
    "tags": []
   },
   "source": [
    "### $k$ Nearest Neighbor"
   ]
  },
  {
   "cell_type": "code",
   "execution_count": null,
   "id": "c6aa3e1e-54ea-43d9-a70d-dd5f19ba6581",
   "metadata": {
    "editable": true,
    "slideshow": {
     "slide_type": "fragment"
    },
    "tags": []
   },
   "outputs": [],
   "source": [
    "titanic_knn = titanic.select_dtypes('number').copy()\n",
    "\n",
    "# set up imputing for KNN\n",
    "knn_imputer = \n",
    "\n",
    "# visualize completed data\n",
    "fig, ax = plt.subplots(1, 1)\n",
    "sns.histplot(titanic_knn_df['age'], binwidth=5, stat='probability', alpha=0.3, color='k', label='knn imputation')\n",
    "sns.histplot(titanic['age'], binwidth=5, stat='probability', alpha=0.3, color='purple', label='unimputed')\n",
    "ax.legend()"
   ]
  },
  {
   "cell_type": "markdown",
   "id": "3b87079a-4d69-4d54-84b6-5f88884974ce",
   "metadata": {
    "editable": true,
    "slideshow": {
     "slide_type": "subslide"
    },
    "tags": []
   },
   "source": [
    "### Matrix completion\n",
    "Matrix completion typically assumes some low-rank structure within the dataset.  \n",
    "\n",
    "Examples of usage:\n",
    "- recommendation system (*optional* example).\n",
    "- image restoration"
   ]
  },
  {
   "cell_type": "markdown",
   "id": "0c74c20c-e4c3-4431-8f7c-9cca8befe7d2",
   "metadata": {
    "editable": true,
    "jp-MarkdownHeadingCollapsed": true,
    "slideshow": {
     "slide_type": "fragment"
    },
    "tags": []
   },
   "source": [
    "**Alternating Least Squares**  \n",
    "One particular algorithm that has garnered considerable interest is the Alternating Least Squares algorithm (Hastie et al., 2015).\n",
    "\n",
    "Suppose we have a matrix $R \\in \\mathbb{R}^{n\\times p}$ that contains user ratings for items.  The matrix completion or factorziation problem typically solves for some matrices $X \\in \\mathbb{R}^{k\\times n}, Y \\in \\mathbb{R}^{k\\times p}$ such that $R \\approx X^\\mathsf{T} Y$, "
   ]
  },
  {
   "cell_type": "markdown",
   "id": "e7a41aca-493e-48a5-8888-4fbdcce3dd2f",
   "metadata": {
    "editable": true,
    "jp-MarkdownHeadingCollapsed": true,
    "slideshow": {
     "slide_type": "fragment"
    },
    "tags": []
   },
   "source": [
    "through the optimization problem\n",
    "\n",
    "$$ \\min_{X, Y} \\ell(X, Y) := \\underbrace{\\frac{1}{2} \\|P_\\Omega(R - X^\\mathsf{T} Y)\\|^2_F}_\\text{recovery} + \\underbrace{\\frac{\\lambda}{2} (\\|X\\|^2_F + \\|Y\\|^2_F)}_\\text{regularization}, $$\n",
    "\n",
    "where $P_\\Omega$ is a projection that fills in (or discards) missing locations."
   ]
  },
  {
   "cell_type": "markdown",
   "id": "eaa4a7c2-bee2-4e61-b77d-a8e1ad1927c2",
   "metadata": {
    "editable": true,
    "jp-MarkdownHeadingCollapsed": true,
    "slideshow": {
     "slide_type": "fragment"
    },
    "tags": []
   },
   "source": [
    "**Observation**:  \n",
    "- $\\ell(X, Y)$ is non-convex.\n",
    "- $\\ell(X, Y)$ is bi-convex, meaning that fixing either $X$, or $Y$ leads to a convex function.\n",
    "\n",
    "The bi-convexity leads to an alternating algorithm (for a full $R$).  But the missing locations do introduce nuances to the algorithm.  See details in Theorem 3.1 of Hastie et al. (2015)."
   ]
  },
  {
   "cell_type": "markdown",
   "id": "7fc9e3c0-4ba1-4c5b-bbc7-159e92256c1b",
   "metadata": {
    "editable": true,
    "slideshow": {
     "slide_type": "slide"
    },
    "tags": []
   },
   "source": [
    "# References\n",
    "\n",
    "- Daniel, R. M., Kenward, M. G., Cousens, S. N., & De Stavola, B. L. (2012). Using causal diagrams to guide analysis in missing data problems. Statistical methods in medical research, 21(3), 243-256.  \n",
    "- Hastie, T., Mazumder, R., Lee, J. D., & Zadeh, R. (2015). Matrix completion and low-rank SVD via fast alternating least squares. The Journal of Machine Learning Research, 16(1), 3367-3402.  \n",
    "- Little, R. J., & Rubin, D. B. (2019). Statistical analysis with missing data. John Wiley & Sons.  \n",
    "- [Van Buuren, S. (2012). Flexible imputation of missing data. Boca Raton, FL: CRC press.](https://stefvanbuuren.name/fimd)"
   ]
  },
  {
   "cell_type": "markdown",
   "id": "65b0ba23-4706-4b0d-8a80-172289eab329",
   "metadata": {
    "editable": true,
    "slideshow": {
     "slide_type": ""
    },
    "tags": []
   },
   "source": [
    "# Some useful additional resources\n",
    "\n",
    "- [Gary King: Analyzing Incomplete Political Science Data](https://gking.harvard.edu/files/evil.pdf)\n",
    "- Zangerle, E., & Bauer, C. (2022). Evaluating recommender systems: survey and framework. ACM Computing Surveys, 55(8), 1-38."
   ]
  }
 ],
 "metadata": {
  "kernelspec": {
   "display_name": "Python 3 (ipykernel)",
   "language": "python",
   "name": "python3"
  },
  "language_info": {
   "codemirror_mode": {
    "name": "ipython",
    "version": 3
   },
   "file_extension": ".py",
   "mimetype": "text/x-python",
   "name": "python",
   "nbconvert_exporter": "python",
   "pygments_lexer": "ipython3",
   "version": "3.11.9"
  },
  "widgets": {
   "application/vnd.jupyter.widget-state+json": {
    "state": {},
    "version_major": 2,
    "version_minor": 0
   }
  }
 },
 "nbformat": 4,
 "nbformat_minor": 5
}
