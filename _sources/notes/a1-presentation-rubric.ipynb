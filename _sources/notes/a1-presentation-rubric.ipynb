{
 "cells": [
  {
   "cell_type": "markdown",
   "id": "d0cf6187-acb5-461e-83ad-cfb9256531f3",
   "metadata": {},
   "source": [
    "# Presentation reference rubric"
   ]
  },
  {
   "cell_type": "markdown",
   "id": "07e31302-8ed9-4796-bfc8-af78248e4bad",
   "metadata": {},
   "source": [
    "|                       | Thorough Understanding                                                                                                                                                                                                                                             | Good Understanding                                                                                                                                                                                                                     | Basic Understanding                                                                                                                                                                                                                  | Poor/No Understanding                                                                                                                                                                                                                   |\r\n",
    "|-----------------------|--------------------------------------------------------------------------------------------------------------------------------------------------------------------------------------------------------------------------------------------------------------------|----------------------------------------------------------------------------------------------------------------------------------------------------------------------------------------------------------------------------------------|----------------------------------------------------------------------------------------------------------------------------------------------------------------------------------------------------------------------------------------|-----------------------------------------------------------------------------------------------------------------------------------------------------------------------------------------------------------------------------------------|\r\n",
    "| Organization          | Organizational pattern (specific   introduction and conclusion, sequenced material within the body, and   transitions) is clearly and consistently observable and is skillful and makes   the content of the presentation cohesive.                                | Organizational pattern (specific   introduction and conclusion, sequenced material within the body, and   transitions) is clearly and consistently observable within the presentation.                                                 | Organizational pattern (specific   introduction and conclusion, sequenced material within the body, and   transitions) is intermittently observable within the presentation.                                                           | Organizational pattern (specific   introduction and conclusion, sequenced material within the body, and   transitions) is not observable within the presentation.                                                                       |\r\n",
    "| Language              | Language choices are memorable,   compelling, and enhance the effectiveness of the presentation. Language in   presentation is appropriate to audience.                                                                                                            | Language choices are thoughtful   and generally support the effectiveness of the presentation. Language in   presentation is appropriate to audience.                                                                                  | Language choices are mundane and   commonplace and partially support the effectiveness of the presentation.   Language in presentation is appropriate to audience.                                                                     | Language choices are unclear and   minimally support the effectiveness of the presentation. Language in   presentation is not appropriate to audience.                                                                                  |\r\n",
    "| Delivery              | Delivery techniques (posture,   gesture, eye contact, and vocal expressiveness) make the presentation   compelling, and speaker appears polished and confident.                                                                                                    | Delivery techniques (posture,   gesture, eye contact, and vocal expressiveness) make the presentation   interesting, and speaker appears comfortable.                                                                                  | Delivery techniques (posture,   gesture, eye contact, and vocal expressiveness) make the presentation   understandable, and speaker appears tentative.                                                                                 | Delivery techniques (posture,   gesture, eye contact, and vocal expressiveness) detract from the   understandability of the presentation, and speaker appears uncomfortable.                                                            |\r\n",
    "| Supporting   Material | A variety of types of supporting   materials (explanations, illustrations, statistics) make appropriate   reference to information or analysis that significantly supports the   presentation or establishes the presenter's credibility/authority on the   topic. | Supporting materials   (explanations, illustrations, statistics) make appropriate reference to   information or analysis that generally supports the presentation or   establishes the presenter's credibility/authority on the topic. | Supporting materials   (explanations, illustrations, statistics) make appropriate reference to   information or analysis that partially supports the presentation or   establishes the presenter's credibility/authority on the topic. | Insufficient supporting   materials (explanations, illustrations, statistics) make reference to   information or analysis that minimally supports the presentation or   establishes the presenter's credibility/authority on the topic. |\r\n",
    "| Central   Message     | Central message is precisely   stated and strongly supported.                                                                                                                                                                                                      | Central message is clear and   consistent with the supporting material.                                                                                                                                                                | Central message is basically   understandable but is not memorable.                                                                                                                                                                    | Central message can be deduced,   but is not explicitly stated in the presentation.                                                                                                                                                     |"
   ]
  }
 ],
 "metadata": {
  "kernelspec": {
   "display_name": "Python 3 (ipykernel)",
   "language": "python",
   "name": "python3"
  },
  "language_info": {
   "codemirror_mode": {
    "name": "ipython",
    "version": 3
   },
   "file_extension": ".py",
   "mimetype": "text/x-python",
   "name": "python",
   "nbconvert_exporter": "python",
   "pygments_lexer": "ipython3",
   "version": "3.11.5"
  }
 },
 "nbformat": 4,
 "nbformat_minor": 5
}
