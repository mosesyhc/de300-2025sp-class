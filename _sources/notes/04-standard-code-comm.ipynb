{
 "cells": [
  {
   "cell_type": "markdown",
   "id": "bf20b60c-0849-4412-aeac-4eaf3279f25f",
   "metadata": {
    "editable": true,
    "slideshow": {
     "slide_type": "slide"
    },
    "tags": []
   },
   "source": [
    "# Standard code communications"
   ]
  },
  {
   "cell_type": "markdown",
   "id": "bfef3faa-6890-46d1-8f40-b043c4eb0e40",
   "metadata": {
    "editable": true,
    "slideshow": {
     "slide_type": "fragment"
    },
    "tags": []
   },
   "source": [
    "In our class, we introduce the usage of several communication tools regarding code and script development."
   ]
  },
  {
   "cell_type": "markdown",
   "id": "ca6f8975-a26a-4d2f-81da-0e038352283b",
   "metadata": {
    "editable": true,
    "slideshow": {
     "slide_type": "fragment"
    },
    "tags": []
   },
   "source": [
    "This document covers an introduction of \n",
    "- Version control tools (git/Github)\n",
    "- Containerization (Docker)"
   ]
  },
  {
   "cell_type": "markdown",
   "id": "2334560e-9afd-407d-825d-5b45cbd65592",
   "metadata": {
    "editable": true,
    "slideshow": {
     "slide_type": "slide"
    },
    "tags": []
   },
   "source": [
    "## Version control\n"
   ]
  },
  {
   "cell_type": "markdown",
   "id": "b585a119-41c0-446f-b841-723fd6206750",
   "metadata": {
    "editable": true,
    "slideshow": {
     "slide_type": "fragment"
    },
    "tags": []
   },
   "source": [
    "|![final-doc](http://www.phdcomics.com/comics/archive/phd101212s.gif)|\n",
    "|:---:|\n",
    "|\"Final\".doc (www.phdcomics.com)|"
   ]
  },
  {
   "cell_type": "markdown",
   "id": "212b0650-3889-4f48-a7fe-3ad223d1b452",
   "metadata": {
    "editable": true,
    "slideshow": {
     "slide_type": "subslide"
    },
    "tags": []
   },
   "source": [
    "**What is version control?**  \n",
    "> The whole idea behind any version control system is to  \n",
    "store “safe” copies of a project so that you never have to  \n",
    "worry about irreparably breaking your code base.  (bitbucket.org)"
   ]
  },
  {
   "cell_type": "markdown",
   "id": "227e3ccf-30fc-4060-87f4-db78f678f526",
   "metadata": {
    "editable": true,
    "slideshow": {
     "slide_type": "fragment"
    },
    "tags": []
   },
   "source": [
    "Main reasons for version control:  \n",
    "- Track changes in any text documents (e.g., source code, documentation, LaTeX-based writing)\n",
    "- Auto backups of your work\n",
    "- Coding safety net"
   ]
  },
  {
   "cell_type": "markdown",
   "id": "6b7c010a-4901-4bca-8595-cd875ed2b005",
   "metadata": {
    "editable": true,
    "slideshow": {
     "slide_type": "subslide"
    },
    "tags": []
   },
   "source": [
    "**What functionality makes a good version control system?**"
   ]
  },
  {
   "cell_type": "markdown",
   "id": "e96c9952-57b9-444a-9d24-b024d19799af",
   "metadata": {
    "editable": true,
    "slideshow": {
     "slide_type": "fragment"
    },
    "tags": []
   },
   "source": [
    "A *good* version control system:  \n",
    "- Will store many versions of your files\n",
    "- Will let you \"revert\" a file (or a part of a file) to an older version\n",
    "- Will track the order of different versions\n",
    "- Will ensure each \"version\" is neither too big nor too small"
   ]
  },
  {
   "cell_type": "markdown",
   "id": "d18a9ff7-c56b-4b7d-8865-c7ef766a9afd",
   "metadata": {
    "editable": true,
    "slideshow": {
     "slide_type": "fragment"
    },
    "tags": []
   },
   "source": [
    "A *great* version control system:  \n",
    "- Will let you collaborate on files with other people\n",
    "- Will help you combine different (branched) versions of the files produced by different people working independently"
   ]
  },
  {
   "cell_type": "markdown",
   "id": "60cd6c4a-c815-4a95-b7f1-858ff11ccde6",
   "metadata": {
    "editable": true,
    "slideshow": {
     "slide_type": "subslide"
    },
    "tags": []
   },
   "source": [
    "**Analogue (Google docs)**  \n",
    "\n",
    "|![vcs-google-doc](../img/vcs-google-doc.png)|\n",
    "|:----:|\n",
    "|Google doc as version control example|"
   ]
  },
  {
   "cell_type": "markdown",
   "id": "9e523772-135a-402a-9b5f-787e98c7fd41",
   "metadata": {
    "editable": true,
    "slideshow": {
     "slide_type": "subslide"
    },
    "tags": []
   },
   "source": [
    "## Git\n",
    "Git is a piece of software that enables the functionality we speak of above."
   ]
  },
  {
   "cell_type": "markdown",
   "id": "14ff3da8-bdba-42ad-8c41-1e4b9036c687",
   "metadata": {
    "editable": true,
    "slideshow": {
     "slide_type": "fragment"
    },
    "tags": []
   },
   "source": [
    "### How git works?"
   ]
  },
  {
   "cell_type": "markdown",
   "id": "8d7feb91-d218-474b-8986-a98c3fb9a414",
   "metadata": {
    "editable": true,
    "slideshow": {
     "slide_type": "fragment"
    },
    "tags": []
   },
   "source": [
    "|![git-changes](../img/git-changes.png)|\n",
    "|:---:|\n",
    "|How git tracks changes in a file|"
   ]
  },
  {
   "cell_type": "markdown",
   "id": "1ad43eb0-4c09-4ed5-a2af-0c422a4d4da8",
   "metadata": {
    "editable": true,
    "slideshow": {
     "slide_type": "fragment"
    },
    "tags": []
   },
   "source": [
    "Git tracks changes to a file (or multiple files) through **snapshots**, or **commits**, or **revisions**.  \n",
    "All snapshots are stored in a **repository** which contains a history of all changes to the files."
   ]
  },
  {
   "cell_type": "markdown",
   "id": "e9e0f234-0f9d-451c-a2d2-26a29cdf389c",
   "metadata": {
    "editable": true,
    "slideshow": {
     "slide_type": "fragment"
    },
    "tags": []
   },
   "source": [
    "|![git-add-commit](../img/git-add-commit.png)|\n",
    "|:---:|\n",
    "|Putting code into git|"
   ]
  },
  {
   "cell_type": "markdown",
   "id": "9a5e15f9-d5f7-4f1c-b9b7-15f429e6c186",
   "metadata": {
    "editable": true,
    "slideshow": {
     "slide_type": "subslide"
    },
    "tags": []
   },
   "source": [
    "### Adding files for tracking (`git add`)\n",
    "\n",
    "|![git-add-files](../img/git-add-files.png)|\n",
    "|:---:|\n",
    "|Adding files to git|"
   ]
  },
  {
   "cell_type": "markdown",
   "id": "316b865d-11bc-45ec-acd0-8fd2d1a93eec",
   "metadata": {
    "editable": true,
    "slideshow": {
     "slide_type": "subslide"
    },
    "tags": []
   },
   "source": [
    "### Ignoring files from being tracked (`.gitignore`)  \n",
    "Not all files in your local directory are needed for reproduction of results.  \n",
    "One rule of thumb is to exclude files that are a product of your code, for examples:  "
   ]
  },
  {
   "cell_type": "markdown",
   "id": "117ae948-09a4-44c6-ad1c-9887b6550451",
   "metadata": {
    "editable": true,
    "slideshow": {
     "slide_type": "fragment"
    },
    "tags": []
   },
   "source": [
    "- PDFs\n",
    "- graphs produced by executing code\n",
    "- compiled code\n",
    "- system files (e.g., `.DS_Store`)"
   ]
  },
  {
   "cell_type": "markdown",
   "id": "e6de5908-ea4b-4bcf-9f63-c595e242e70c",
   "metadata": {
    "editable": true,
    "slideshow": {
     "slide_type": "fragment"
    },
    "tags": []
   },
   "source": [
    "We can add a file called `.gitignore` to the repository and let Git do the rest.\n",
    "\n",
    "The `.gitignore` file looks like:\n",
    "```\n",
    ".DS_Store\n",
    "*.pdf\n",
    "*.png\n",
    "*.jpg\n",
    "\n",
    ".\n",
    ".\n",
    ".\n",
    "```"
   ]
  },
  {
   "cell_type": "markdown",
   "id": "f7d3eede-9910-4ad6-9cab-5cabdef8bdc8",
   "metadata": {
    "editable": true,
    "slideshow": {
     "slide_type": "subslide"
    },
    "tags": []
   },
   "source": [
    "### Confirming changes (`git commit`)\n",
    "`git commit -m 'your commit message'` sends all the \"staged\" changes to make a snapshot.  \n",
    "\n",
    "Always write meaningful commits, so that the future you will not struggle and succumb into frustrations."
   ]
  },
  {
   "cell_type": "markdown",
   "id": "3b334ca0-d081-48df-8bab-d8fa3d0f59d3",
   "metadata": {
    "editable": true,
    "slideshow": {
     "slide_type": "fragment"
    },
    "tags": []
   },
   "source": [
    "### Sending changes to repository (`git push`)\n",
    "`git push` will send all committed changes to the repository.  \n",
    "**At this point, your local directory and your repository are in sync.**"
   ]
  },
  {
   "cell_type": "markdown",
   "id": "9ebc4173-ed2c-4b0f-a323-62beaebece21",
   "metadata": {
    "editable": true,
    "slideshow": {
     "slide_type": "fragment"
    },
    "tags": []
   },
   "source": [
    "### Retrieving changes from repository (`git pull`)\n",
    "`git pull` will attempt to retrieve all changes from your last \"local\" version to the most current repository version.  \n",
    "This is especially useful when you collaborate with other developers (and/or yourself across machines.)"
   ]
  },
  {
   "cell_type": "markdown",
   "id": "c9fe6656-8933-4ccf-a9b4-7e148368b4b4",
   "metadata": {
    "editable": true,
    "slideshow": {
     "slide_type": "subslide"
    },
    "tags": []
   },
   "source": [
    "### Collaborating using `git`\n",
    "|![collaborating](https://hpc-wiki.info/mediawiki/hpc_images/6/6d/Git_tutorial_-_branching.png)|\n",
    "|:---:|\n",
    "|Schema for collaborating with git|"
   ]
  },
  {
   "cell_type": "markdown",
   "id": "ed99527c-3a03-43c3-bc0d-637c9b7d6c4c",
   "metadata": {
    "editable": true,
    "slideshow": {
     "slide_type": "slide"
    },
    "tags": []
   },
   "source": [
    "## Containerization\n",
    "Containerization is one way to develop, train, and deploy software without having to worry (too much) about compatibility."
   ]
  },
  {
   "cell_type": "markdown",
   "id": "504d6eca-7279-4970-b159-70c9fc01a1f6",
   "metadata": {
    "editable": true,
    "slideshow": {
     "slide_type": "fragment"
    },
    "tags": []
   },
   "source": [
    "**Why do we need containerization?**"
   ]
  },
  {
   "cell_type": "markdown",
   "id": "a1fba8a9-e7c3-4ca4-905e-9c404bc32de5",
   "metadata": {
    "editable": true,
    "slideshow": {
     "slide_type": "fragment"
    },
    "tags": []
   },
   "source": [
    "|![vm-container](../img/vm-container.png)|\n",
    "|:---:|\n",
    "|Comparison of virtual machines and containers|"
   ]
  },
  {
   "cell_type": "markdown",
   "id": "56d18db7-70ed-469b-a60a-7e4a0224d6bd",
   "metadata": {
    "editable": true,
    "slideshow": {
     "slide_type": "subslide"
    },
    "tags": []
   },
   "source": [
    "**What functionality makes a good container?**"
   ]
  },
  {
   "cell_type": "markdown",
   "id": "f679f5c1-71a2-49de-b03c-7a50e018458a",
   "metadata": {
    "editable": true,
    "slideshow": {
     "slide_type": "fragment"
    },
    "tags": []
   },
   "source": [
    "A **container** is:  \n",
    "- Portable and lightweight\n",
    "- Fully packaged software with all dependencies included\n",
    "- Can be used for development, training, and deployment\n",
    "- Development teams can easily share containers"
   ]
  },
  {
   "cell_type": "markdown",
   "id": "8043a819-42da-4d97-a596-dd0a89df2909",
   "metadata": {
    "editable": true,
    "slideshow": {
     "slide_type": "subslide"
    },
    "tags": []
   },
   "source": [
    "### How does a Docker container run?\n",
    "\n",
    "The **Dockerfile** contains all instructions to build a **Docker image**.  \n",
    "Running the Docker Image returns a **Docker container**."
   ]
  },
  {
   "cell_type": "markdown",
   "id": "e3cc5438-8e84-4552-809c-77da50aecee1",
   "metadata": {
    "editable": true,
    "slideshow": {
     "slide_type": "fragment"
    },
    "tags": []
   },
   "source": [
    "|![dockerfile](../img/dockerfile.png)|\n",
    "|:---:|\n",
    "|Constructing a Docker container|"
   ]
  },
  {
   "cell_type": "markdown",
   "id": "d2a9f249-bfaf-4a95-b6d1-3a1bcbcd54aa",
   "metadata": {
    "editable": true,
    "slideshow": {
     "slide_type": "fragment"
    },
    "tags": []
   },
   "source": [
    "**Analogue:**  \n",
    "1. An image is like a recipe, following the recipe gives you a dish (the container).\n",
    "2. An image is like a Python class, and the container is an instance of that class."
   ]
  },
  {
   "cell_type": "markdown",
   "id": "5530970b-34e3-415e-b1fe-e2fd85a5c9d3",
   "metadata": {
    "editable": true,
    "slideshow": {
     "slide_type": "subslide"
    },
    "tags": []
   },
   "source": [
    "### Dockerfile (The instructions)\n",
    "```\n",
    "FROM python:3.12                                                            ## FROM specifies the base image (where to start building)\n",
    "WORKDIR /usr/local/app                                                      ## WORKDIR specifies where to execute any commands\n",
    "\n",
    "# Install the application dependencies\n",
    "COPY requirements.txt ./                                                    ## COPY files into image\n",
    "RUN pip install --no-cache-dir -r requirements.txt                          ## RUN command, installs the dependencites from requirements.txt\n",
    "\n",
    "# Copy in the source code\n",
    "COPY src ./src                                                              ## COPY app source codes into image\n",
    "EXPOSE 5000                                                                 ## EXPOSE specifies which channel to communicate from local to image\n",
    "\n",
    "# Setup an app user so the container doesn't run as the root user\n",
    "RUN useradd app                                                             ## RUN command to add user \"app\"\n",
    "USER app                                                                    ## USER switches user to \"app\" instead of running code from root\n",
    "\n",
    "# Open a web server for Python\n",
    "CMD [\"uvicorn\", \"app.main:app\", \"--host\", \"0.0.0.0\", \"--port\", \"8080\"]}     ## CMD specifies the default command to be run by a container\n",
    "```"
   ]
  },
  {
   "cell_type": "markdown",
   "id": "b047d807-c11b-4ed5-9c6b-519fb91660ec",
   "metadata": {
    "editable": true,
    "slideshow": {
     "slide_type": "subslide"
    },
    "tags": []
   },
   "source": [
    "### Docker Image (Layering of instructions)\n",
    "|![docker-image](../img/docker-layer.png)|\n",
    "|:---:|\n",
    "|Layering of instructions in Docker image|"
   ]
  },
  {
   "cell_type": "markdown",
   "id": "3c143fc0-2ac7-491c-bb49-ad12cc0f9401",
   "metadata": {
    "editable": true,
    "slideshow": {
     "slide_type": "subslide"
    },
    "tags": []
   },
   "source": [
    "### Docker container **in** AWS EC2 instance\n",
    "|![aws-container](../img/aws-docker-container.png)|\n",
    "|:---:|\n",
    "|Container usage examples in AWS EC2 instances|"
   ]
  },
  {
   "cell_type": "code",
   "execution_count": null,
   "id": "e308ec10-6c22-4b38-9249-b7bc1a14abcb",
   "metadata": {},
   "outputs": [],
   "source": []
  }
 ],
 "metadata": {
  "kernelspec": {
   "display_name": "Python 3 (ipykernel)",
   "language": "python",
   "name": "python3"
  },
  "language_info": {
   "codemirror_mode": {
    "name": "ipython",
    "version": 3
   },
   "file_extension": ".py",
   "mimetype": "text/x-python",
   "name": "python",
   "nbconvert_exporter": "python",
   "pygments_lexer": "ipython3",
   "version": "3.11.8"
  }
 },
 "nbformat": 4,
 "nbformat_minor": 5
}
