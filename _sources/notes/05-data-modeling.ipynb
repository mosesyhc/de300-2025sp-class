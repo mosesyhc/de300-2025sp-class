{
 "cells": [
  {
   "cell_type": "markdown",
   "id": "49b5f60b-6d10-461a-8917-ad952d1d5a90",
   "metadata": {
    "editable": true,
    "slideshow": {
     "slide_type": "slide"
    },
    "tags": []
   },
   "source": [
    "# Data Modeling\n",
    "This set of notes introduces concepts of data modeling and the associated tools."
   ]
  },
  {
   "cell_type": "markdown",
   "id": "992cbd2b-6716-4abf-b65a-913e9b470a67",
   "metadata": {
    "editable": true,
    "slideshow": {
     "slide_type": "fragment"
    },
    "tags": []
   },
   "source": [
    "> *Data modeling* is about how you model the data, or how you perceive the data structure as presented in the real world."
   ]
  },
  {
   "cell_type": "markdown",
   "id": "1bdc2c23-62fa-4d91-8541-595d3e77aec3",
   "metadata": {
    "editable": true,
    "slideshow": {
     "slide_type": "subslide"
    },
    "tags": []
   },
   "source": [
    "## Examples of data engineering scenarios"
   ]
  },
  {
   "cell_type": "markdown",
   "id": "ceb824fd-226a-4e1a-8c49-6154a8a862e7",
   "metadata": {
    "editable": true,
    "slideshow": {
     "slide_type": "fragment"
    },
    "tags": []
   },
   "source": [
    "*Online transaction processing (OLTP)*"
   ]
  },
  {
   "cell_type": "markdown",
   "id": "86d7c93c-b7f4-4019-8b2d-61592a7a1064",
   "metadata": {
    "editable": true,
    "slideshow": {
     "slide_type": "fragment"
    },
    "tags": []
   },
   "source": [
    "- Any transactions, literally\n",
    "- e.g., retail, banking, texting"
   ]
  },
  {
   "cell_type": "markdown",
   "id": "2a08a0ca-8835-462a-a46d-a6fb74ed17ee",
   "metadata": {
    "editable": true,
    "slideshow": {
     "slide_type": "fragment"
    },
    "tags": []
   },
   "source": [
    "*Online analytics processing (OLAP)*"
   ]
  },
  {
   "cell_type": "markdown",
   "id": "6fc1d4ae-03c4-4093-be1c-157bffab1b00",
   "metadata": {
    "editable": true,
    "slideshow": {
     "slide_type": "fragment"
    },
    "tags": []
   },
   "source": [
    "- Interactive analytics *queries*\n",
    "- i.e., retrieve and aggregate data for information (or insight)\n",
    "- e.g., aircraft inventory analysis"
   ]
  },
  {
   "cell_type": "markdown",
   "id": "a28e3dd3-f259-4df3-b14f-78a9cf201024",
   "metadata": {
    "editable": true,
    "slideshow": {
     "slide_type": "fragment"
    },
    "tags": []
   },
   "source": [
    "*Change data capture*"
   ]
  },
  {
   "cell_type": "markdown",
   "id": "90a17627-37a0-43fc-b2fd-3fc08967ee61",
   "metadata": {
    "editable": true,
    "slideshow": {
     "slide_type": "fragment"
    },
    "tags": []
   },
   "source": [
    "- Snapshots, differential updates\n",
    "- e.g., appointment scheduling"
   ]
  },
  {
   "cell_type": "markdown",
   "id": "6a24727a-6d5a-47e9-b868-cd95e2d6274b",
   "metadata": {
    "editable": true,
    "slideshow": {
     "slide_type": "fragment"
    },
    "tags": []
   },
   "source": [
    "|![mend-cheps](../img/mend-cheps.png)|\n",
    "|:---:|\n",
    "|Example of average provider availability into the future.|"
   ]
  },
  {
   "cell_type": "markdown",
   "id": "1c85f5cd-ee43-4c1d-aff4-3174ae2db863",
   "metadata": {
    "editable": true,
    "slideshow": {
     "slide_type": "fragment"
    },
    "tags": []
   },
   "source": [
    "*Logs*"
   ]
  },
  {
   "cell_type": "markdown",
   "id": "d6cdaead-d97b-42b6-a996-b1d12f3b6a28",
   "metadata": {
    "editable": true,
    "slideshow": {
     "slide_type": "fragment"
    },
    "tags": []
   },
   "source": [
    "- binary logs\n",
    "- JSON\n",
    "- Plain-text"
   ]
  },
  {
   "cell_type": "markdown",
   "id": "e344d499-91eb-43ba-9721-a9181f40bccb",
   "metadata": {
    "editable": true,
    "slideshow": {
     "slide_type": "subslide"
    },
    "tags": []
   },
   "source": [
    "## Database and query"
   ]
  },
  {
   "cell_type": "markdown",
   "id": "c20be027-75ff-4d49-9483-7ef00485e85d",
   "metadata": {
    "editable": true,
    "slideshow": {
     "slide_type": "fragment"
    },
    "tags": []
   },
   "source": [
    "*Database* refers to a data storage system and a query engine.  \n",
    "\n",
    "*Query* refers to the avenue to retrieve and act on data.  "
   ]
  },
  {
   "cell_type": "markdown",
   "id": "5994088d-67c4-41f9-a2cd-a8d0d86f538c",
   "metadata": {
    "editable": true,
    "slideshow": {
     "slide_type": "fragment"
    },
    "tags": []
   },
   "source": [
    "Query commands generally include:"
   ]
  },
  {
   "cell_type": "markdown",
   "id": "2bf3c3bb-5b7f-4b1e-b63e-85d8e17d4240",
   "metadata": {
    "editable": true,
    "slideshow": {
     "slide_type": "fragment"
    },
    "tags": []
   },
   "source": [
    "- Data Definition Language, e.g., `CREATE`, `UPDATE`, `DROP`"
   ]
  },
  {
   "cell_type": "markdown",
   "id": "44723e6b-936e-4e46-8a31-b6eadc23d267",
   "metadata": {
    "editable": true,
    "slideshow": {
     "slide_type": "fragment"
    },
    "tags": []
   },
   "source": [
    "- Data Manipulation Language, e.g., `SELECT`, `INSERT`, `UPDATE`, `DELETE`, `COPY`, `MERGE`"
   ]
  },
  {
   "cell_type": "markdown",
   "id": "e69829d5-901e-4ea3-82fe-985ae6bf7906",
   "metadata": {
    "editable": true,
    "slideshow": {
     "slide_type": "fragment"
    },
    "tags": []
   },
   "source": [
    "- Data Control Language, e.g., `GRANT`, `DENY`, `REVOKE`"
   ]
  },
  {
   "cell_type": "markdown",
   "id": "2a503238-b441-408f-9146-7c341d45533a",
   "metadata": {
    "editable": true,
    "slideshow": {
     "slide_type": "fragment"
    },
    "tags": []
   },
   "source": [
    "- Transaction Control Language, e.g., `COMMIT`, `ROLLBACK`"
   ]
  },
  {
   "cell_type": "markdown",
   "id": "b7b8ded6-0485-4ac1-9710-a7bef11d38a2",
   "metadata": {
    "editable": true,
    "slideshow": {
     "slide_type": "fragment"
    },
    "tags": []
   },
   "source": [
    "Several notes about queries:"
   ]
  },
  {
   "cell_type": "markdown",
   "id": "2eaa12f0-48bf-4bb5-af5d-7fe271fc11bd",
   "metadata": {
    "editable": true,
    "slideshow": {
     "slide_type": "fragment"
    },
    "tags": []
   },
   "source": [
    "- Complex queries incur higher computations."
   ]
  },
  {
   "cell_type": "markdown",
   "id": "6cc7df5a-75a8-4be7-a1f8-48a08508f1e5",
   "metadata": {
    "editable": true,
    "slideshow": {
     "slide_type": "fragment"
    },
    "tags": []
   },
   "source": [
    "> *What is the goal?* Are we looking for a particular flight? or are we finding the number of flights that are delayed due to weather within date A and date B?"
   ]
  },
  {
   "cell_type": "markdown",
   "id": "27b123b8-9ccb-46c6-9f23-6ebd6ca5b8e5",
   "metadata": {
    "editable": true,
    "slideshow": {
     "slide_type": "fragment"
    },
    "tags": []
   },
   "source": [
    "- Avoid large number of scans when possible.  Prepartitioning or pruning may be beneficial."
   ]
  },
  {
   "cell_type": "markdown",
   "id": "6683ef62-18c7-46d7-a56a-6e06dd3720bc",
   "metadata": {
    "editable": true,
    "slideshow": {
     "slide_type": "fragment"
    },
    "tags": []
   },
   "source": [
    "- Use `EXPLAIN` on a query for analysis."
   ]
  },
  {
   "cell_type": "markdown",
   "id": "4e6cd021-dca7-46f2-82eb-ba8fb0b0ff66",
   "metadata": {
    "editable": true,
    "slideshow": {
     "slide_type": ""
    },
    "tags": []
   },
   "source": [
    "- Use common table expressions, e.g.,"
   ]
  },
  {
   "cell_type": "markdown",
   "id": "70a1aa6c-4e47-40ec-831e-826daa178540",
   "metadata": {
    "editable": true,
    "slideshow": {
     "slide_type": "fragment"
    },
    "tags": []
   },
   "source": [
    "```\n",
    "WITH\n",
    "  cte1 AS (SELECT a, b FROM table1),\n",
    "  cte2 AS (SELECT c, d FROM table2)\n",
    "SELECT b, d FROM cte1 JOIN cte2\n",
    "WHERE cte1.a = cte2.c;\n",
    "```"
   ]
  },
  {
   "cell_type": "markdown",
   "id": "35d9d8da-ac48-46ac-9288-8967508e324d",
   "metadata": {
    "editable": true,
    "slideshow": {
     "slide_type": "fragment"
    },
    "tags": []
   },
   "source": [
    "|![cte-express](../img/cte-expression.jpg)|\n",
    "|:---:|\n",
    "|Example of a CTE usage|"
   ]
  },
  {
   "cell_type": "markdown",
   "id": "30808fa1-b194-443c-8947-894ba8331b28",
   "metadata": {
    "editable": true,
    "slideshow": {
     "slide_type": "subslide"
    },
    "tags": []
   },
   "source": [
    "## Reference \n",
    "Chapters 5 and 8 of Fundamentals of Data Engineering (Reis, 2022) are excellent resources on this topic."
   ]
  }
 ],
 "metadata": {
  "kernelspec": {
   "display_name": "Python 3 (ipykernel)",
   "language": "python",
   "name": "python3"
  },
  "language_info": {
   "codemirror_mode": {
    "name": "ipython",
    "version": 3
   },
   "file_extension": ".py",
   "mimetype": "text/x-python",
   "name": "python",
   "nbconvert_exporter": "python",
   "pygments_lexer": "ipython3",
   "version": "3.11.9"
  },
  "widgets": {
   "application/vnd.jupyter.widget-state+json": {
    "state": {},
    "version_major": 2,
    "version_minor": 0
   }
  }
 },
 "nbformat": 4,
 "nbformat_minor": 5
}
