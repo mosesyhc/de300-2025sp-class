{
 "cells": [
  {
   "cell_type": "markdown",
   "id": "21f84f97-c80f-4a16-990d-f2cfb0588c97",
   "metadata": {},
   "source": [
    "# (EX) Analyzing an article through PySpark"
   ]
  },
  {
   "cell_type": "code",
   "execution_count": 1,
   "id": "8b8da009-1f21-4886-a3bf-2d0620867461",
   "metadata": {},
   "outputs": [],
   "source": [
    "import os\n",
    "os.environ[\"JAVA_HOME\"] = r\"C:\\Program Files\\Java\\jdk-11.0.2\"\n",
    "os.environ[\"SPARK_HOME\"] = r\"C:\\Program Files\\Spark\\spark-3.5.5-bin-hadoop3\""
   ]
  },
  {
   "cell_type": "code",
   "execution_count": 2,
   "id": "57eb0de5-4ad5-4cbe-aa76-457c2d284436",
   "metadata": {},
   "outputs": [],
   "source": [
    "import findspark\n",
    "findspark.init()"
   ]
  },
  {
   "cell_type": "code",
   "execution_count": 3,
   "id": "5b0650a7-9b80-4598-ad65-53ba7bd1077b",
   "metadata": {},
   "outputs": [],
   "source": [
    "from pyspark.sql import SparkSession\n",
    "\n",
    "spark = (SparkSession.builder\n",
    "                     .appName(\"Analyzing an unknown article.\")\n",
    "                     .getOrCreate())\n"
   ]
  },
  {
   "cell_type": "code",
   "execution_count": 4,
   "id": "e9160caf-b6a1-41a5-a3e8-787caac45a46",
   "metadata": {},
   "outputs": [
    {
     "data": {
      "text/html": [
       "\n",
       "            <div>\n",
       "                <p><b>SparkSession - in-memory</b></p>\n",
       "                \n",
       "        <div>\n",
       "            <p><b>SparkContext</b></p>\n",
       "\n",
       "            <p><a href=\"http://10.105.27.148:4041\">Spark UI</a></p>\n",
       "\n",
       "            <dl>\n",
       "              <dt>Version</dt>\n",
       "                <dd><code>v3.5.5</code></dd>\n",
       "              <dt>Master</dt>\n",
       "                <dd><code>local[*]</code></dd>\n",
       "              <dt>AppName</dt>\n",
       "                <dd><code>Analyzing an unknown article.</code></dd>\n",
       "            </dl>\n",
       "        </div>\n",
       "        \n",
       "            </div>\n",
       "        "
      ],
      "text/plain": [
       "<pyspark.sql.session.SparkSession at 0x1ff71450>"
      ]
     },
     "execution_count": 4,
     "metadata": {},
     "output_type": "execute_result"
    }
   ],
   "source": [
    "spark"
   ]
  },
  {
   "cell_type": "code",
   "execution_count": 5,
   "id": "89a04847-7803-4e32-8677-e18b2b030c18",
   "metadata": {},
   "outputs": [],
   "source": [
    "sc = spark.sparkContext"
   ]
  },
  {
   "cell_type": "code",
   "execution_count": 6,
   "id": "8e0a6626-facf-4c20-9124-d7ab97882631",
   "metadata": {
    "scrolled": true
   },
   "outputs": [
    {
     "data": {
      "text/plain": [
       "\u001b[1;31mType:\u001b[0m        property\n",
       "\u001b[1;31mString form:\u001b[0m <property object at 0x00000000204B7600>\n",
       "\u001b[1;31mSource:\u001b[0m     \n",
       "\u001b[1;31m# spark.read.fget\u001b[0m\u001b[1;33m\n",
       "\u001b[0m\u001b[1;33m@\u001b[0m\u001b[0mproperty\u001b[0m\u001b[1;33m\n",
       "\u001b[0m\u001b[1;32mdef\u001b[0m \u001b[0mread\u001b[0m\u001b[1;33m(\u001b[0m\u001b[0mself\u001b[0m\u001b[1;33m)\u001b[0m \u001b[1;33m->\u001b[0m \u001b[0mDataFrameReader\u001b[0m\u001b[1;33m:\u001b[0m\u001b[1;33m\n",
       "\u001b[0m    \u001b[1;34m\"\"\"\n",
       "    Returns a :class:`DataFrameReader` that can be used to read data\n",
       "    in as a :class:`DataFrame`.\n",
       "\n",
       "    .. versionadded:: 2.0.0\n",
       "\n",
       "    .. versionchanged:: 3.4.0\n",
       "        Supports Spark Connect.\n",
       "\n",
       "    Returns\n",
       "    -------\n",
       "    :class:`DataFrameReader`\n",
       "\n",
       "    Examples\n",
       "    --------\n",
       "    >>> spark.read\n",
       "    <...DataFrameReader object ...>\n",
       "\n",
       "    Write a DataFrame into a JSON file and read it back.\n",
       "\n",
       "    >>> import tempfile\n",
       "    >>> with tempfile.TemporaryDirectory() as d:\n",
       "    ...     # Write a DataFrame into a JSON file\n",
       "    ...     spark.createDataFrame(\n",
       "    ...         [{\"age\": 100, \"name\": \"Hyukjin Kwon\"}]\n",
       "    ...     ).write.mode(\"overwrite\").format(\"json\").save(d)\n",
       "    ...\n",
       "    ...     # Read the JSON file as a DataFrame.\n",
       "    ...     spark.read.format('json').load(d).show()\n",
       "    +---+------------+\n",
       "    |age|        name|\n",
       "    +---+------------+\n",
       "    |100|Hyukjin Kwon|\n",
       "    +---+------------+\n",
       "    \"\"\"\u001b[0m\u001b[1;33m\n",
       "\u001b[0m    \u001b[1;32mreturn\u001b[0m \u001b[0mDataFrameReader\u001b[0m\u001b[1;33m(\u001b[0m\u001b[0mself\u001b[0m\u001b[1;33m)\u001b[0m\u001b[1;33m\u001b[0m\u001b[1;33m\u001b[0m\u001b[0m"
      ]
     },
     "metadata": {},
     "output_type": "display_data"
    }
   ],
   "source": [
    "## documentation\n",
    "spark.read??"
   ]
  },
  {
   "cell_type": "code",
   "execution_count": 7,
   "id": "ab79b6a7-a03b-4579-b068-13a706e5399f",
   "metadata": {},
   "outputs": [],
   "source": [
    "file_path = r'C:\\Users\\moses\\OneDrive - Northwestern University\\classes\\active\\dataeng-300-2025sp\\de300-2025sp-notes\\notes\\dataset\\pope.txt'"
   ]
  },
  {
   "cell_type": "code",
   "execution_count": 8,
   "id": "489084fc-30cd-4b6d-babe-941f75ef0908",
   "metadata": {},
   "outputs": [],
   "source": [
    "article = spark.read.text(file_path)"
   ]
  },
  {
   "cell_type": "code",
   "execution_count": 9,
   "id": "75aa13f5-f0f8-4b21-b3be-71b6e8d0f726",
   "metadata": {},
   "outputs": [
    {
     "data": {
      "text/plain": [
       "DataFrame[value: string]"
      ]
     },
     "execution_count": 9,
     "metadata": {},
     "output_type": "execute_result"
    }
   ],
   "source": [
    "article"
   ]
  },
  {
   "cell_type": "code",
   "execution_count": 10,
   "id": "1a20e1d1-793a-4d59-800c-590b2e4b43be",
   "metadata": {},
   "outputs": [
    {
     "name": "stdout",
     "output_type": "stream",
     "text": [
      "root\n",
      " |-- value: string (nullable = true)\n",
      "\n"
     ]
    }
   ],
   "source": [
    "article.printSchema()"
   ]
  },
  {
   "cell_type": "code",
   "execution_count": 11,
   "id": "939fe350-1c14-4e08-88c7-55a1d986d5b5",
   "metadata": {},
   "outputs": [
    {
     "data": {
      "text/plain": [
       "DataFrame[value: string]"
      ]
     },
     "execution_count": 11,
     "metadata": {},
     "output_type": "execute_result"
    }
   ],
   "source": [
    "article.select(article.value)"
   ]
  },
  {
   "cell_type": "code",
   "execution_count": 13,
   "id": "2d3cb328-b790-4ffe-a33a-eee904400c8b",
   "metadata": {},
   "outputs": [
    {
     "name": "stdout",
     "output_type": "stream",
     "text": [
      "+-------------------------------------------------------------------------------------------------------------------------------------------------------------------------------------------------------------------------------------------------------------------------------------------------------------------------------------------------------------------------------------------------------------+\n",
      "|value                                                                                                                                                                                                                                                                                                                                                                                                        |\n",
      "+-------------------------------------------------------------------------------------------------------------------------------------------------------------------------------------------------------------------------------------------------------------------------------------------------------------------------------------------------------------------------------------------------------------+\n",
      "|Pope Leo XIV lays out vision of papacy and identifies AI as a main challenge for humanity                                                                                                                                                                                                                                                                                                                    |\n",
      "|By  NICOLE WINFIELD                                                                                                                                                                                                                                                                                                                                                                                          |\n",
      "|Updated 6:31 PM CDT, May 10, 2025                                                                                                                                                                                                                                                                                                                                                                            |\n",
      "|                                                                                                                                                                                                                                                                                                                                                                                                             |\n",
      "|VATICAN CITY (AP) — Pope Leo XIV laid out the vision of his papacy Saturday, identifying artificial intelligence as one of the most critical matters facing humanity and vowing to continue with some of the core priorities of Pope Francis.                                                                                                                                                                |\n",
      "|                                                                                                                                                                                                                                                                                                                                                                                                             |\n",
      "|But in a sign he was making the papacy very much his own, Leo made his first outing since his election, traveling to a sanctuary south of Rome that is dedicated to the Madonna and is of particular significance to his Augustinian order and his namesake, Pope Leo XIII.                                                                                                                                  |\n",
      "|                                                                                                                                                                                                                                                                                                                                                                                                             |\n",
      "|Townspeople of Genazzano gathered in the square outside the main church housing the Madre del Buon Consiglio (Mother of Good Counsel) sanctuary as Leo arrived and greeted them. The sanctuary, which is managed by Augustinian friars, has been a place of pilgrimage since the 15th century and the previous Pope Leo elevated it to a minor basilica and expanded the adjacent convent in the early 1900s.|\n",
      "|Pope Leo XIV, left, is flanked by Monsignor Leonardo Sapienza, second from left, after his meeting with the College of Cardinals in the New Synod Hall at the Vatican, Saturday, May 10, 2025. (Vatican Media via AP)                                                                                                                                                                                        |\n",
      "|                                                                                                                                                                                                                                                                                                                                                                                                             |\n",
      "|Pope Leo XIV, left, is flanked by Monsignor Leonardo Sapienza, second from left, after his meeting with the College of Cardinals in the New Synod Hall at the Vatican, Saturday, May 10, 2025. (Vatican Media via AP)                                                                                                                                                                                        |\n",
      "|Pope Leo XIV meets the College of Cardinals in the New Synod Hall at the Vatican, Saturday, May 10, 2025. (Vatican Media via AP)                                                                                                                                                                                                                                                                             |\n",
      "|                                                                                                                                                                                                                                                                                                                                                                                                             |\n",
      "|Pope Leo XIV meets the College of Cardinals in the New Synod Hall at the Vatican, Saturday, May 10, 2025. (Vatican Media via AP)                                                                                                                                                                                                                                                                             |\n",
      "|                                                                                                                                                                                                                                                                                                                                                                                                             |\n",
      "|After praying in the church, Leo greeted the townspeople and told them they had both a gift and a responsibility in having the Madonna in their midst. He offered a blessing and then got back into the passenger seat of the car, a black Volkswagen. En route back to the Vatican, he stopped to pray at Francis’ tomb at St. Mary Major Basilica.                                                         |\n",
      "|Related Stories                                                                                                                                                                                                                                                                                                                                                                                              |\n",
      "|Conclave elects Robert Prevost to be Pope, the first American pontiff                                                                                                                                                                                                                                                                                                                                        |\n",
      "|Conclave elects Robert Prevost to be Pope, the first American pontiff                                                                                                                                                                                                                                                                                                                                        |\n",
      "|Pope Leo XIV celebrates first Mass as Francis' successor                                                                                                                                                                                                                                                                                                                                                     |\n",
      "|Pope Leo XIV celebrates first Mass as Francis' successor                                                                                                                                                                                                                                                                                                                                                     |\n",
      "|Pope Leo XIV calls for end of war in Ukraine and Gaza                                                                                                                                                                                                                                                                                                                                                        |\n",
      "|Pope Leo XIV calls for end of war in Ukraine and Gaza                                                                                                                                                                                                                                                                                                                                                        |\n",
      "|                                                                                                                                                                                                                                                                                                                                                                                                             |\n",
      "|The after-lunch outing came after Leo presided over his first formal audience, with the cardinals who elected him pope. In it Leo repeatedly cited Francis and the Argentine pope’s own 2013 mission statement, making clear a commitment to making the Catholic Church more inclusive and attentive to the faithful and a church that looks out for the “least and rejected.”                               |\n",
      "|                                                                                                                                                                                                                                                                                                                                                                                                             |\n",
      "|Leo, the first American pope, told the cardinals that he was fully committed to the reforms of the Second Vatican Council, the 1960s meetings that modernized the church. He identified AI as one of the main issues facing humanity, saying it poses challenges to defending human dignity, justice and labor.                                                                                              |\n",
      "|Some signs about the future emerge                                                                                                                                                                                                                                                                                                                                                                           |\n",
      "|                                                                                                                                                                                                                                                                                                                                                                                                             |\n",
      "+-------------------------------------------------------------------------------------------------------------------------------------------------------------------------------------------------------------------------------------------------------------------------------------------------------------------------------------------------------------------------------------------------------------+\n",
      "only showing top 30 rows\n",
      "\n"
     ]
    }
   ],
   "source": [
    "article.show(5, truncate=False)"
   ]
  },
  {
   "cell_type": "code",
   "execution_count": 37,
   "id": "440529f0-2af5-4641-b551-8229b3b1ddfb",
   "metadata": {},
   "outputs": [],
   "source": [
    "from pyspark.sql.functions import col"
   ]
  },
  {
   "cell_type": "code",
   "execution_count": null,
   "id": "1f851025-42ea-4cac-a856-54bfa7a54183",
   "metadata": {},
   "outputs": [],
   "source": [
    "\n",
    "article.select(article.value)\n",
    "article.select(article['value'])\n",
    "article.select(col('value'))\n",
    "article.select('value')"
   ]
  },
  {
   "cell_type": "code",
   "execution_count": 14,
   "id": "91cd967a-7df8-41fd-8de1-2e064558030f",
   "metadata": {},
   "outputs": [],
   "source": [
    "from pyspark.sql.functions import col, split\n",
    "\n",
    "lines = article.select(\n",
    "    split(col('value'), \" \").alias('line')\n",
    ")"
   ]
  },
  {
   "cell_type": "code",
   "execution_count": 16,
   "id": "243760c9-5a06-4472-99ca-32eb91b9dc43",
   "metadata": {},
   "outputs": [
    {
     "name": "stdout",
     "output_type": "stream",
     "text": [
      "root\n",
      " |-- line: array (nullable = true)\n",
      " |    |-- element: string (containsNull = false)\n",
      "\n"
     ]
    }
   ],
   "source": [
    "lines.printSchema()"
   ]
  },
  {
   "cell_type": "code",
   "execution_count": 15,
   "id": "25297b62-fec9-4c70-8fc4-f922292581b2",
   "metadata": {},
   "outputs": [
    {
     "name": "stdout",
     "output_type": "stream",
     "text": [
      "+--------------------------------------------------------------------------------------------------------------------------------------------------------------------------------------------------------------------------------------------------------------------------------------------------------------------------------------------------------------------------------------------------------------------------------------------------------------------------------+\n",
      "|line                                                                                                                                                                                                                                                                                                                                                                                                                                                                            |\n",
      "+--------------------------------------------------------------------------------------------------------------------------------------------------------------------------------------------------------------------------------------------------------------------------------------------------------------------------------------------------------------------------------------------------------------------------------------------------------------------------------+\n",
      "|[Pope, Leo, XIV, lays, out, vision, of, papacy, and, identifies, AI, as, a, main, challenge, for, humanity]                                                                                                                                                                                                                                                                                                                                                                     |\n",
      "|[By, , NICOLE, WINFIELD]                                                                                                                                                                                                                                                                                                                                                                                                                                                        |\n",
      "|[Updated, 6:31, PM, CDT,, May, 10,, 2025]                                                                                                                                                                                                                                                                                                                                                                                                                                       |\n",
      "|[]                                                                                                                                                                                                                                                                                                                                                                                                                                                                              |\n",
      "|[VATICAN, CITY, (AP), —, Pope, Leo, XIV, laid, out, the, vision, of, his, papacy, Saturday,, identifying, artificial, intelligence, as, one, of, the, most, critical, matters, facing, humanity, and, vowing, to, continue, with, some, of, the, core, priorities, of, Pope, Francis.]                                                                                                                                                                                          |\n",
      "|[]                                                                                                                                                                                                                                                                                                                                                                                                                                                                              |\n",
      "|[But, in, a, sign, he, was, making, the, papacy, very, much, his, own,, Leo, made, his, first, outing, since, his, election,, traveling, to, a, sanctuary, south, of, Rome, that, is, dedicated, to, the, Madonna, and, is, of, particular, significance, to, his, Augustinian, order, and, his, namesake,, Pope, Leo, XIII.]                                                                                                                                                   |\n",
      "|[]                                                                                                                                                                                                                                                                                                                                                                                                                                                                              |\n",
      "|[Townspeople, of, Genazzano, gathered, in, the, square, outside, the, main, church, housing, the, Madre, del, Buon, Consiglio, (Mother, of, Good, Counsel), sanctuary, as, Leo, arrived, and, greeted, them., The, sanctuary,, which, is, managed, by, Augustinian, friars,, has, been, a, place, of, pilgrimage, since, the, 15th, century, and, the, previous, Pope, Leo, elevated, it, to, a, minor, basilica, and, expanded, the, adjacent, convent, in, the, early, 1900s.]|\n",
      "|[Pope, Leo, XIV,, left,, is, flanked, by, Monsignor, Leonardo, Sapienza,, second, from, left,, after, his, meeting, with, the, College, of, Cardinals, in, the, New, Synod, Hall, at, the, Vatican,, Saturday,, May, 10,, 2025., (Vatican, Media, via, AP)]                                                                                                                                                                                                                     |\n",
      "|[]                                                                                                                                                                                                                                                                                                                                                                                                                                                                              |\n",
      "|[Pope, Leo, XIV,, left,, is, flanked, by, Monsignor, Leonardo, Sapienza,, second, from, left,, after, his, meeting, with, the, College, of, Cardinals, in, the, New, Synod, Hall, at, the, Vatican,, Saturday,, May, 10,, 2025., (Vatican, Media, via, AP)]                                                                                                                                                                                                                     |\n",
      "|[Pope, Leo, XIV, meets, the, College, of, Cardinals, in, the, New, Synod, Hall, at, the, Vatican,, Saturday,, May, 10,, 2025., (Vatican, Media, via, AP)]                                                                                                                                                                                                                                                                                                                       |\n",
      "|[]                                                                                                                                                                                                                                                                                                                                                                                                                                                                              |\n",
      "|[Pope, Leo, XIV, meets, the, College, of, Cardinals, in, the, New, Synod, Hall, at, the, Vatican,, Saturday,, May, 10,, 2025., (Vatican, Media, via, AP)]                                                                                                                                                                                                                                                                                                                       |\n",
      "|[]                                                                                                                                                                                                                                                                                                                                                                                                                                                                              |\n",
      "|[After, praying, in, the, church,, Leo, greeted, the, townspeople, and, told, them, they, had, both, a, gift, and, a, responsibility, in, having, the, Madonna, in, their, midst., He, offered, a, blessing, and, then, got, back, into, the, passenger, seat, of, the, car,, a, black, Volkswagen., En, route, back, to, the, Vatican,, he, stopped, to, pray, at, Francis’, tomb, at, St., Mary, Major, Basilica.]                                                            |\n",
      "|[Related, Stories]                                                                                                                                                                                                                                                                                                                                                                                                                                                              |\n",
      "|[Conclave, elects, Robert, Prevost, to, be, Pope,, the, first, American, pontiff]                                                                                                                                                                                                                                                                                                                                                                                               |\n",
      "|[Conclave, elects, Robert, Prevost, to, be, Pope,, the, first, American, pontiff]                                                                                                                                                                                                                                                                                                                                                                                               |\n",
      "|[Pope, Leo, XIV, celebrates, first, Mass, as, Francis', successor]                                                                                                                                                                                                                                                                                                                                                                                                              |\n",
      "|[Pope, Leo, XIV, celebrates, first, Mass, as, Francis', successor]                                                                                                                                                                                                                                                                                                                                                                                                              |\n",
      "|[Pope, Leo, XIV, calls, for, end, of, war, in, Ukraine, and, Gaza]                                                                                                                                                                                                                                                                                                                                                                                                              |\n",
      "|[Pope, Leo, XIV, calls, for, end, of, war, in, Ukraine, and, Gaza]                                                                                                                                                                                                                                                                                                                                                                                                              |\n",
      "|[]                                                                                                                                                                                                                                                                                                                                                                                                                                                                              |\n",
      "|[The, after-lunch, outing, came, after, Leo, presided, over, his, first, formal, audience,, with, the, cardinals, who, elected, him, pope., In, it, Leo, repeatedly, cited, Francis, and, the, Argentine, pope’s, own, 2013, mission, statement,, making, clear, a, commitment, to, making, the, Catholic, Church, more, inclusive, and, attentive, to, the, faithful, and, a, church, that, looks, out, for, the, “least, and, rejected.”]                                     |\n",
      "|[]                                                                                                                                                                                                                                                                                                                                                                                                                                                                              |\n",
      "|[Leo,, the, first, American, pope,, told, the, cardinals, that, he, was, fully, committed, to, the, reforms, of, the, Second, Vatican, Council,, the, 1960s, meetings, that, modernized, the, church., He, identified, AI, as, one, of, the, main, issues, facing, humanity,, saying, it, poses, challenges, to, defending, human, dignity,, justice, and, labor.]                                                                                                              |\n",
      "|[Some, signs, about, the, future, emerge]                                                                                                                                                                                                                                                                                                                                                                                                                                       |\n",
      "|[]                                                                                                                                                                                                                                                                                                                                                                                                                                                                              |\n",
      "+--------------------------------------------------------------------------------------------------------------------------------------------------------------------------------------------------------------------------------------------------------------------------------------------------------------------------------------------------------------------------------------------------------------------------------------------------------------------------------+\n",
      "only showing top 30 rows\n",
      "\n"
     ]
    }
   ],
   "source": [
    "lines.show(5, truncate=False)"
   ]
  },
  {
   "cell_type": "code",
   "execution_count": 17,
   "id": "3bb9451c-289a-47c1-881a-57cef2be8a30",
   "metadata": {},
   "outputs": [
    {
     "data": {
      "text/plain": [
       "DataFrame[line: array<string>]"
      ]
     },
     "execution_count": 17,
     "metadata": {},
     "output_type": "execute_result"
    }
   ],
   "source": [
    "lines"
   ]
  },
  {
   "cell_type": "code",
   "execution_count": 18,
   "id": "6deae7ec-32d9-4321-84db-efc5ed076761",
   "metadata": {},
   "outputs": [],
   "source": [
    "from pyspark.sql.functions import explode\n",
    "\n",
    "words = lines.select(explode(col(\"line\")).alias('word'))"
   ]
  },
  {
   "cell_type": "code",
   "execution_count": 20,
   "id": "d0aee891-b24e-435d-965c-cf66ea07c178",
   "metadata": {},
   "outputs": [
    {
     "name": "stdout",
     "output_type": "stream",
     "text": [
      "root\n",
      " |-- word: string (nullable = false)\n",
      "\n"
     ]
    }
   ],
   "source": [
    "words.printSchema()"
   ]
  },
  {
   "cell_type": "code",
   "execution_count": 22,
   "id": "03ebf3c9-6bef-4b80-b5c7-c36a4b77b6d7",
   "metadata": {},
   "outputs": [],
   "source": [
    "from pyspark.sql.functions import lower\n",
    "\n",
    "words_lower = words.select(lower(col(\"word\")).alias('word_lower'))"
   ]
  },
  {
   "cell_type": "code",
   "execution_count": 23,
   "id": "43485d12-c5c1-4766-b457-1cd9c5f5059b",
   "metadata": {},
   "outputs": [
    {
     "name": "stdout",
     "output_type": "stream",
     "text": [
      "+----------+\n",
      "|word_lower|\n",
      "+----------+\n",
      "|      pope|\n",
      "|       leo|\n",
      "|       xiv|\n",
      "|      lays|\n",
      "|       out|\n",
      "|    vision|\n",
      "|        of|\n",
      "|    papacy|\n",
      "|       and|\n",
      "|identifies|\n",
      "+----------+\n",
      "only showing top 10 rows\n",
      "\n"
     ]
    }
   ],
   "source": [
    "words_lower.show(10)"
   ]
  },
  {
   "cell_type": "code",
   "execution_count": 24,
   "id": "5f118a54-45a8-44a4-b08d-731515fc6132",
   "metadata": {},
   "outputs": [],
   "source": [
    "from pyspark.sql.functions import regexp_extract\n",
    "\n",
    "words_clean = words_lower.select(\n",
    "    regexp_extract(col(\"word_lower\"), r\"(\\W+)?([a-z]+)\", 2).alias(\"word_clean\")\n",
    ")"
   ]
  },
  {
   "cell_type": "code",
   "execution_count": 25,
   "id": "8ffd47d8-cbc8-4b93-ac28-817196d41707",
   "metadata": {},
   "outputs": [
    {
     "name": "stdout",
     "output_type": "stream",
     "text": [
      "+----------+\n",
      "|word_clean|\n",
      "+----------+\n",
      "|      pope|\n",
      "|       leo|\n",
      "|       xiv|\n",
      "|      lays|\n",
      "|       out|\n",
      "|    vision|\n",
      "|        of|\n",
      "|    papacy|\n",
      "|       and|\n",
      "|identifies|\n",
      "+----------+\n",
      "only showing top 10 rows\n",
      "\n"
     ]
    }
   ],
   "source": [
    "words_clean.show(10)"
   ]
  },
  {
   "cell_type": "code",
   "execution_count": 26,
   "id": "6cb69c6b-d97d-4832-a8ed-4492a7314bb7",
   "metadata": {},
   "outputs": [
    {
     "name": "stdout",
     "output_type": "stream",
     "text": [
      "+------------+\n",
      "|  word_clean|\n",
      "+------------+\n",
      "|        pope|\n",
      "|         leo|\n",
      "|         xiv|\n",
      "|        lays|\n",
      "|         out|\n",
      "|      vision|\n",
      "|          of|\n",
      "|      papacy|\n",
      "|         and|\n",
      "|  identifies|\n",
      "|          ai|\n",
      "|          as|\n",
      "|           a|\n",
      "|        main|\n",
      "|   challenge|\n",
      "|         for|\n",
      "|    humanity|\n",
      "|          by|\n",
      "|      nicole|\n",
      "|    winfield|\n",
      "|     updated|\n",
      "|          pm|\n",
      "|         cdt|\n",
      "|         may|\n",
      "|     vatican|\n",
      "|        city|\n",
      "|          ap|\n",
      "|        pope|\n",
      "|         leo|\n",
      "|         xiv|\n",
      "|        laid|\n",
      "|         out|\n",
      "|         the|\n",
      "|      vision|\n",
      "|          of|\n",
      "|         his|\n",
      "|      papacy|\n",
      "|    saturday|\n",
      "| identifying|\n",
      "|  artificial|\n",
      "|intelligence|\n",
      "|          as|\n",
      "|         one|\n",
      "|          of|\n",
      "|         the|\n",
      "|        most|\n",
      "|    critical|\n",
      "|     matters|\n",
      "|      facing|\n",
      "|    humanity|\n",
      "|         and|\n",
      "|      vowing|\n",
      "|          to|\n",
      "|    continue|\n",
      "|        with|\n",
      "|        some|\n",
      "|          of|\n",
      "|         the|\n",
      "|        core|\n",
      "|  priorities|\n",
      "|          of|\n",
      "|        pope|\n",
      "|     francis|\n",
      "|         but|\n",
      "|          in|\n",
      "|           a|\n",
      "|        sign|\n",
      "|          he|\n",
      "|         was|\n",
      "|      making|\n",
      "|         the|\n",
      "|      papacy|\n",
      "|        very|\n",
      "|        much|\n",
      "|         his|\n",
      "|         own|\n",
      "|         leo|\n",
      "|        made|\n",
      "|         his|\n",
      "|       first|\n",
      "|      outing|\n",
      "|       since|\n",
      "|         his|\n",
      "|    election|\n",
      "|   traveling|\n",
      "|          to|\n",
      "|           a|\n",
      "|   sanctuary|\n",
      "|       south|\n",
      "|          of|\n",
      "|        rome|\n",
      "|        that|\n",
      "|          is|\n",
      "|   dedicated|\n",
      "|          to|\n",
      "|         the|\n",
      "|     madonna|\n",
      "|         and|\n",
      "|          is|\n",
      "|          of|\n",
      "+------------+\n",
      "only showing top 100 rows\n",
      "\n"
     ]
    }
   ],
   "source": [
    "words_nonull = words_clean.where(col(\"word_clean\") != \"\")\n",
    "\n",
    "words_nonull.show(100)"
   ]
  },
  {
   "cell_type": "code",
   "execution_count": 27,
   "id": "a4399196-59f8-420d-9f25-c4fc8ee6df03",
   "metadata": {},
   "outputs": [],
   "source": [
    "groups = words_nonull.groupBy(col(\"word_clean\"))"
   ]
  },
  {
   "cell_type": "code",
   "execution_count": 28,
   "id": "7cf384cb-4a47-404e-a9a9-96ae8f3b2992",
   "metadata": {},
   "outputs": [
    {
     "data": {
      "text/plain": [
       "GroupedData[grouping expressions: [word_clean], value: [word_clean: string], type: GroupBy]"
      ]
     },
     "execution_count": 28,
     "metadata": {},
     "output_type": "execute_result"
    }
   ],
   "source": [
    "groups"
   ]
  },
  {
   "cell_type": "code",
   "execution_count": 29,
   "id": "2c829827-d984-4bbf-8a7a-4c62952acdd2",
   "metadata": {},
   "outputs": [],
   "source": [
    "counts = groups.count()"
   ]
  },
  {
   "cell_type": "code",
   "execution_count": 32,
   "id": "a5ae9ab2-0e0f-4469-b73b-d78e4dbe2762",
   "metadata": {},
   "outputs": [
    {
     "name": "stdout",
     "output_type": "stream",
     "text": [
      "+----------+-----+\n",
      "|word_clean|count|\n",
      "+----------+-----+\n",
      "|       the|  138|\n",
      "|        of|   62|\n",
      "|        in|   57|\n",
      "|       and|   50|\n",
      "|        to|   42|\n",
      "|       leo|   36|\n",
      "|         a|   31|\n",
      "|      pope|   30|\n",
      "|   vatican|   26|\n",
      "|       his|   26|\n",
      "+----------+-----+\n",
      "only showing top 10 rows\n",
      "\n"
     ]
    }
   ],
   "source": [
    "counts.orderBy('count', ascending=False).show(10)"
   ]
  },
  {
   "cell_type": "code",
   "execution_count": 33,
   "id": "e58f10c8-e405-42ce-a75a-3b0b7c7cca41",
   "metadata": {},
   "outputs": [],
   "source": [
    "import pyspark.sql.functions as F\n",
    "\n",
    "counts = (\n",
    "    spark.read.text(file_path)\n",
    "     .select(F.split(F.col('value'), ' ').alias('line'))\n",
    "     .select(F.explode(F.col('line')).alias('word'))\n",
    "     .select(F.lower(F.col('word')).alias('word'))\n",
    "     .select(F.regexp_extract(F.col('word'), r\"(\\W+)?([a-z]+)\", 2).alias('word'))\n",
    "     .where(F.col('word') != \"\")\n",
    "     .groupby('word')\n",
    "     .count()\n",
    ")"
   ]
  },
  {
   "cell_type": "code",
   "execution_count": 34,
   "id": "4ec2ecf8-5f0b-468d-bc0a-54034755d14b",
   "metadata": {},
   "outputs": [
    {
     "name": "stdout",
     "output_type": "stream",
     "text": [
      "+------------+-----+\n",
      "|        word|count|\n",
      "+------------+-----+\n",
      "|        some|    2|\n",
      "|   traveling|    2|\n",
      "|         few|    1|\n",
      "|    medicare|    1|\n",
      "|       vocal|    1|\n",
      "|    received|    1|\n",
      "|    armangue|    2|\n",
      "|conversation|    1|\n",
      "|     explain|    1|\n",
      "|    hometown|    1|\n",
      "+------------+-----+\n",
      "only showing top 10 rows\n",
      "\n"
     ]
    }
   ],
   "source": [
    "counts.show(10)"
   ]
  },
  {
   "cell_type": "code",
   "execution_count": 35,
   "id": "5a02229d-20db-4597-b09d-e8b5bfc7c041",
   "metadata": {},
   "outputs": [],
   "source": [
    "cleaned = (\n",
    "    spark.read.text(file_path)\n",
    "     .select(F.split(F.col('value'), ' ').alias('line'))\n",
    "     .select(F.explode(F.col('line')).alias('word'))\n",
    "     .select(F.lower(F.col('word')).alias('word'))\n",
    "     .select(F.regexp_extract(F.col('word'), r\"(\\W+)?([a-z]+)\", 2).alias('word'))\n",
    "     .where(F.col('word') != \"\")\n",
    ")"
   ]
  },
  {
   "cell_type": "code",
   "execution_count": 47,
   "id": "cc1e40d6-2b06-4bd6-b6d6-d5bbb235ab4a",
   "metadata": {},
   "outputs": [
    {
     "name": "stdout",
     "output_type": "stream",
     "text": [
      "root\n",
      " |-- word: string (nullable = false)\n",
      "\n"
     ]
    }
   ],
   "source": [
    "cleaned.printSchema()"
   ]
  },
  {
   "cell_type": "code",
   "execution_count": 43,
   "id": "0608d5f9-c6b7-408e-a606-0e6c0f6be85e",
   "metadata": {},
   "outputs": [],
   "source": [
    "lengths = cleaned.select(\n",
    "    F.length(\n",
    "        F.col('word')\n",
    "    ).alias('length')\n",
    ")"
   ]
  },
  {
   "cell_type": "code",
   "execution_count": 48,
   "id": "622e77c2-a8b1-47da-a492-0f4fa8694e84",
   "metadata": {},
   "outputs": [
    {
     "name": "stdout",
     "output_type": "stream",
     "text": [
      "root\n",
      " |-- length: integer (nullable = false)\n",
      "\n"
     ]
    }
   ],
   "source": [
    "lengths.printSchema()"
   ]
  },
  {
   "cell_type": "code",
   "execution_count": 49,
   "id": "780b49e1-5506-446a-9e19-91c85810c7e3",
   "metadata": {},
   "outputs": [
    {
     "name": "stdout",
     "output_type": "stream",
     "text": [
      "+------+\n",
      "|length|\n",
      "+------+\n",
      "|     4|\n",
      "|     3|\n",
      "|     3|\n",
      "|     4|\n",
      "|     3|\n",
      "|     6|\n",
      "|     2|\n",
      "|     6|\n",
      "|     3|\n",
      "|    10|\n",
      "|     2|\n",
      "|     2|\n",
      "|     1|\n",
      "|     4|\n",
      "|     9|\n",
      "|     3|\n",
      "|     8|\n",
      "|     2|\n",
      "|     6|\n",
      "|     8|\n",
      "+------+\n",
      "only showing top 20 rows\n",
      "\n"
     ]
    }
   ],
   "source": [
    "lengths.show(20)"
   ]
  },
  {
   "cell_type": "code",
   "execution_count": 50,
   "id": "d7b35b44-e76c-4209-9b8b-c64a1510a9e5",
   "metadata": {},
   "outputs": [
    {
     "name": "stdout",
     "output_type": "stream",
     "text": [
      "+------+-----+\n",
      "|length|count|\n",
      "+------+-----+\n",
      "|     1|   35|\n",
      "|     2|  313|\n",
      "|     3|  392|\n",
      "|     4|  238|\n",
      "|     5|  157|\n",
      "|     6|  118|\n",
      "|     7|  167|\n",
      "|     8|  139|\n",
      "|     9|   82|\n",
      "|    10|   62|\n",
      "|    11|   26|\n",
      "|    12|   16|\n",
      "|    13|    8|\n",
      "|    14|    3|\n",
      "|    15|    1|\n",
      "+------+-----+\n",
      "\n"
     ]
    }
   ],
   "source": [
    "lengths.groupby('length').count().orderBy('length', ascending=True).show(30)"
   ]
  },
  {
   "cell_type": "code",
   "execution_count": 51,
   "id": "fcc664ec-cf8f-4740-b25d-cf2dbcdf8384",
   "metadata": {},
   "outputs": [
    {
     "name": "stdout",
     "output_type": "stream",
     "text": [
      "+----------+\n",
      "|      word|\n",
      "+----------+\n",
      "|      pope|\n",
      "|       leo|\n",
      "|       xiv|\n",
      "|      lays|\n",
      "|       out|\n",
      "|    vision|\n",
      "|        of|\n",
      "|    papacy|\n",
      "|       and|\n",
      "|identifies|\n",
      "+----------+\n",
      "only showing top 10 rows\n",
      "\n"
     ]
    }
   ],
   "source": [
    "cleaned.show(10)"
   ]
  },
  {
   "cell_type": "code",
   "execution_count": 55,
   "id": "801d5e41-eb17-4d70-b0b3-a094bf0de5bf",
   "metadata": {},
   "outputs": [],
   "source": [
    "letters = cleaned.select(\n",
    "    F.explode(F.split(F.col('word'), \"\"))\n",
    ")"
   ]
  },
  {
   "cell_type": "code",
   "execution_count": 61,
   "id": "4b7c9934-dfaa-40b4-a0c9-514a76f7972a",
   "metadata": {},
   "outputs": [
    {
     "name": "stdout",
     "output_type": "stream",
     "text": [
      "+---+-----+\n",
      "|col|count|\n",
      "+---+-----+\n",
      "|  a|  807|\n",
      "|  b|   72|\n",
      "|  c|  355|\n",
      "|  d|  338|\n",
      "|  e| 1005|\n",
      "|  f|  208|\n",
      "|  g|  157|\n",
      "|  h|  388|\n",
      "|  i|  706|\n",
      "|  j|   10|\n",
      "|  k|   32|\n",
      "|  l|  364|\n",
      "|  m|  215|\n",
      "|  n|  619|\n",
      "|  o|  657|\n",
      "|  p|  259|\n",
      "|  q|    3|\n",
      "|  r|  489|\n",
      "|  s|  527|\n",
      "|  t|  741|\n",
      "|  u|  188|\n",
      "|  v|  141|\n",
      "|  w|   97|\n",
      "|  x|   30|\n",
      "|  y|  137|\n",
      "|  z|   15|\n",
      "+---+-----+\n",
      "\n"
     ]
    }
   ],
   "source": [
    "letters.groupby('col').count().orderBy('col').show(26)"
   ]
  },
  {
   "cell_type": "code",
   "execution_count": null,
   "id": "d4098e90-0a18-4972-9ab1-ced591099fde",
   "metadata": {},
   "outputs": [],
   "source": []
  }
 ],
 "metadata": {
  "kernelspec": {
   "display_name": "Python 3 (ipykernel)",
   "language": "python",
   "name": "python3"
  },
  "language_info": {
   "codemirror_mode": {
    "name": "ipython",
    "version": 3
   },
   "file_extension": ".py",
   "mimetype": "text/x-python",
   "name": "python",
   "nbconvert_exporter": "python",
   "pygments_lexer": "ipython3",
   "version": "3.11.8"
  },
  "widgets": {
   "application/vnd.jupyter.widget-state+json": {
    "state": {},
    "version_major": 2,
    "version_minor": 0
   }
  }
 },
 "nbformat": 4,
 "nbformat_minor": 5
}
