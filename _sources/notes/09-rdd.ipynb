{
 "cells": [
  {
   "cell_type": "markdown",
   "id": "6674b1f0-c64b-4e59-9ae9-54c6c3596868",
   "metadata": {},
   "source": [
    "# Resilient distributed datasets\n",
    "Resilient distributed datasets, or *RDD*s, are the fundamental blocks in PySpark. \n",
    "The associated Colab notebook can be found [here](https://github.com/mosesyhc/de300-wn2024-notes/blob/main/examples/ex-rdd.ipynb)."
   ]
  },
  {
   "cell_type": "markdown",
   "id": "14e6e8da-925a-4410-a2d1-912950d83db8",
   "metadata": {},
   "source": [
    "## What is RDD?  \n",
    "RDD is essentially a collection of unordered objects,\n",
    "- or a mathematical *set*,\n",
    "- or a Python list of objects,\n",
    "- or similar to a JSON."
   ]
  },
  {
   "cell_type": "markdown",
   "id": "41e33fea-ea42-4eb5-afa1-183dfa9afec3",
   "metadata": {},
   "source": [
    "|<img src=\"../img/rdd-idea.png\" width=\"100%\"/>|<img src=\"../img/math-set.png\" width=\"60%\"/>|<img src=\"../img/json-ex.png\"/>|\n",
    "|-:|:-:|:-|\n",
    "| |Fig. Collection of objects| |"
   ]
  },
  {
   "cell_type": "code",
   "execution_count": 3,
   "id": "3d80b60d-935c-41a1-b28a-03ac73accf41",
   "metadata": {},
   "outputs": [
    {
     "name": "stdout",
     "output_type": "stream",
     "text": [
      "ParallelCollectionRDD[0] at readRDDFromFile at PythonRDD.scala:289\n"
     ]
    }
   ],
   "source": [
    "from pyspark.sql import SparkSession\n",
    " \n",
    "spark = SparkSession.builder.getOrCreate()\n",
    " \n",
    "collection = [1, \"two\", 3.0, (\"four\", 4), {\"five\": 5}]  # generic list\n",
    " \n",
    "sc = spark.sparkContext\n",
    " \n",
    "collection_rdd = sc.parallelize(collection)  # list promoted to RDD\n",
    "\n",
    "print(collection_rdd)"
   ]
  },
  {
   "cell_type": "code",
   "execution_count": 2,
   "id": "15b15654-cc32-4628-8183-885167a0f04e",
   "metadata": {},
   "outputs": [
    {
     "name": "stdout",
     "output_type": "stream",
     "text": [
      "Collecting pyspark\n",
      "  Downloading pyspark-3.5.5.tar.gz (317.2 MB)\n",
      "     ---------------------------------------- 0.0/317.2 MB ? eta -:--:--\n",
      "     --------------------------------------- 2.1/317.2 MB 11.8 MB/s eta 0:00:27\n",
      "      -------------------------------------- 4.7/317.2 MB 11.9 MB/s eta 0:00:27\n",
      "      -------------------------------------- 7.3/317.2 MB 11.9 MB/s eta 0:00:27\n",
      "     - ------------------------------------- 9.7/317.2 MB 11.8 MB/s eta 0:00:26\n",
      "     - ------------------------------------ 12.3/317.2 MB 11.9 MB/s eta 0:00:26\n",
      "     - ------------------------------------ 14.9/317.2 MB 11.9 MB/s eta 0:00:26\n",
      "     -- ----------------------------------- 17.3/317.2 MB 11.9 MB/s eta 0:00:26\n",
      "     -- ----------------------------------- 19.9/317.2 MB 11.9 MB/s eta 0:00:26\n",
      "     -- ----------------------------------- 22.5/317.2 MB 11.9 MB/s eta 0:00:25\n",
      "     -- ----------------------------------- 24.9/317.2 MB 11.9 MB/s eta 0:00:25\n",
      "     --- ---------------------------------- 27.5/317.2 MB 11.9 MB/s eta 0:00:25\n",
      "     --- ---------------------------------- 29.9/317.2 MB 11.8 MB/s eta 0:00:25\n",
      "     --- ---------------------------------- 32.5/317.2 MB 11.9 MB/s eta 0:00:25\n",
      "     ---- --------------------------------- 34.9/317.2 MB 11.8 MB/s eta 0:00:24\n",
      "     ---- --------------------------------- 37.5/317.2 MB 11.9 MB/s eta 0:00:24\n",
      "     ---- --------------------------------- 39.8/317.2 MB 11.8 MB/s eta 0:00:24\n",
      "     ----- -------------------------------- 42.5/317.2 MB 11.8 MB/s eta 0:00:24\n",
      "     ----- -------------------------------- 44.8/317.2 MB 11.8 MB/s eta 0:00:24\n",
      "     ----- -------------------------------- 47.4/317.2 MB 11.8 MB/s eta 0:00:23\n",
      "     ----- -------------------------------- 50.1/317.2 MB 11.9 MB/s eta 0:00:23\n",
      "     ------ ------------------------------- 52.4/317.2 MB 11.8 MB/s eta 0:00:23\n",
      "     ------ ------------------------------- 55.1/317.2 MB 11.8 MB/s eta 0:00:23\n",
      "     ------ ------------------------------- 57.4/317.2 MB 11.8 MB/s eta 0:00:22\n",
      "     ------- ------------------------------ 60.0/317.2 MB 11.8 MB/s eta 0:00:22\n",
      "     ------- ------------------------------ 62.4/317.2 MB 11.8 MB/s eta 0:00:22\n",
      "     ------- ------------------------------ 65.0/317.2 MB 11.8 MB/s eta 0:00:22\n",
      "     -------- ----------------------------- 67.4/317.2 MB 11.8 MB/s eta 0:00:22\n",
      "     -------- ----------------------------- 69.7/317.2 MB 11.8 MB/s eta 0:00:21\n",
      "     -------- ----------------------------- 72.1/317.2 MB 11.8 MB/s eta 0:00:21\n",
      "     -------- ----------------------------- 74.7/317.2 MB 11.8 MB/s eta 0:00:21\n",
      "     --------- ---------------------------- 77.1/317.2 MB 11.8 MB/s eta 0:00:21\n",
      "     --------- ---------------------------- 79.4/317.2 MB 11.8 MB/s eta 0:00:21\n",
      "     --------- ---------------------------- 81.8/317.2 MB 11.8 MB/s eta 0:00:20\n",
      "     ---------- --------------------------- 84.4/317.2 MB 11.8 MB/s eta 0:00:20\n",
      "     ---------- --------------------------- 86.8/317.2 MB 11.8 MB/s eta 0:00:20\n",
      "     ---------- --------------------------- 89.4/317.2 MB 11.8 MB/s eta 0:00:20\n",
      "     ---------- --------------------------- 91.8/317.2 MB 11.8 MB/s eta 0:00:20\n",
      "     ----------- -------------------------- 94.1/317.2 MB 11.8 MB/s eta 0:00:19\n",
      "     ----------- -------------------------- 96.5/317.2 MB 11.8 MB/s eta 0:00:19\n",
      "     ----------- -------------------------- 99.1/317.2 MB 11.8 MB/s eta 0:00:19\n",
      "     ----------- ------------------------- 101.4/317.2 MB 11.8 MB/s eta 0:00:19\n",
      "     ------------ ------------------------ 103.8/317.2 MB 11.8 MB/s eta 0:00:19\n",
      "     ------------ ------------------------ 106.2/317.2 MB 11.8 MB/s eta 0:00:18\n",
      "     ------------ ------------------------ 108.5/317.2 MB 11.8 MB/s eta 0:00:18\n",
      "     ------------ ------------------------ 111.1/317.2 MB 11.8 MB/s eta 0:00:18\n",
      "     ------------- ----------------------- 113.5/317.2 MB 11.8 MB/s eta 0:00:18\n",
      "     ------------- ----------------------- 115.9/317.2 MB 11.8 MB/s eta 0:00:18\n",
      "     ------------- ----------------------- 118.5/317.2 MB 11.8 MB/s eta 0:00:17\n",
      "     -------------- ---------------------- 120.8/317.2 MB 11.8 MB/s eta 0:00:17\n",
      "     -------------- ---------------------- 123.2/317.2 MB 11.8 MB/s eta 0:00:17\n",
      "     -------------- ---------------------- 125.6/317.2 MB 11.8 MB/s eta 0:00:17\n",
      "     -------------- ---------------------- 128.2/317.2 MB 11.8 MB/s eta 0:00:16\n",
      "     --------------- --------------------- 130.5/317.2 MB 11.8 MB/s eta 0:00:16\n",
      "     --------------- --------------------- 132.9/317.2 MB 11.8 MB/s eta 0:00:16\n",
      "     --------------- --------------------- 135.5/317.2 MB 11.8 MB/s eta 0:00:16\n",
      "     ---------------- -------------------- 137.9/317.2 MB 11.8 MB/s eta 0:00:16\n",
      "     ---------------- -------------------- 140.2/317.2 MB 11.8 MB/s eta 0:00:15\n",
      "     ---------------- -------------------- 142.6/317.2 MB 11.8 MB/s eta 0:00:15\n",
      "     ---------------- -------------------- 145.2/317.2 MB 11.8 MB/s eta 0:00:15\n",
      "     ----------------- ------------------- 147.6/317.2 MB 11.8 MB/s eta 0:00:15\n",
      "     ----------------- ------------------- 149.9/317.2 MB 11.8 MB/s eta 0:00:15\n",
      "     ----------------- ------------------- 152.6/317.2 MB 11.8 MB/s eta 0:00:14\n",
      "     ------------------ ------------------ 154.9/317.2 MB 11.8 MB/s eta 0:00:14\n",
      "     ------------------ ------------------ 157.3/317.2 MB 11.8 MB/s eta 0:00:14\n",
      "     ------------------ ------------------ 159.6/317.2 MB 11.8 MB/s eta 0:00:14\n",
      "     ------------------ ------------------ 162.0/317.2 MB 11.8 MB/s eta 0:00:14\n",
      "     ------------------- ----------------- 164.6/317.2 MB 11.8 MB/s eta 0:00:13\n",
      "     ------------------- ----------------- 167.0/317.2 MB 11.8 MB/s eta 0:00:13\n",
      "     ------------------- ----------------- 169.3/317.2 MB 11.8 MB/s eta 0:00:13\n",
      "     -------------------- ---------------- 171.7/317.2 MB 11.8 MB/s eta 0:00:13\n",
      "     -------------------- ---------------- 174.3/317.2 MB 11.8 MB/s eta 0:00:13\n",
      "     -------------------- ---------------- 176.7/317.2 MB 11.8 MB/s eta 0:00:12\n",
      "     -------------------- ---------------- 179.0/317.2 MB 11.8 MB/s eta 0:00:12\n",
      "     --------------------- --------------- 181.7/317.2 MB 11.8 MB/s eta 0:00:12\n",
      "     --------------------- --------------- 184.0/317.2 MB 11.8 MB/s eta 0:00:12\n",
      "     --------------------- --------------- 186.4/317.2 MB 11.8 MB/s eta 0:00:12\n",
      "     ---------------------- -------------- 188.7/317.2 MB 11.8 MB/s eta 0:00:11\n",
      "     ---------------------- -------------- 191.4/317.2 MB 11.8 MB/s eta 0:00:11\n",
      "     ---------------------- -------------- 193.7/317.2 MB 11.8 MB/s eta 0:00:11\n",
      "     ---------------------- -------------- 196.1/317.2 MB 11.8 MB/s eta 0:00:11\n",
      "     ----------------------- ------------- 198.4/317.2 MB 11.8 MB/s eta 0:00:11\n",
      "     ----------------------- ------------- 201.1/317.2 MB 11.8 MB/s eta 0:00:10\n",
      "     ----------------------- ------------- 203.4/317.2 MB 11.8 MB/s eta 0:00:10\n",
      "     ------------------------ ------------ 205.8/317.2 MB 11.8 MB/s eta 0:00:10\n",
      "     ------------------------ ------------ 208.4/317.2 MB 11.8 MB/s eta 0:00:10\n",
      "     ------------------------ ------------ 210.8/317.2 MB 11.8 MB/s eta 0:00:09\n",
      "     ------------------------ ------------ 213.1/317.2 MB 11.8 MB/s eta 0:00:09\n",
      "     ------------------------- ----------- 215.5/317.2 MB 11.8 MB/s eta 0:00:09\n",
      "     ------------------------- ----------- 218.1/317.2 MB 11.8 MB/s eta 0:00:09\n",
      "     ------------------------- ----------- 220.5/317.2 MB 11.8 MB/s eta 0:00:09\n",
      "     ------------------------- ----------- 222.8/317.2 MB 11.8 MB/s eta 0:00:08\n",
      "     -------------------------- ---------- 225.2/317.2 MB 11.8 MB/s eta 0:00:08\n",
      "     -------------------------- ---------- 227.8/317.2 MB 11.8 MB/s eta 0:00:08\n",
      "     -------------------------- ---------- 230.2/317.2 MB 11.8 MB/s eta 0:00:08\n",
      "     --------------------------- --------- 232.5/317.2 MB 11.8 MB/s eta 0:00:08\n",
      "     --------------------------- --------- 234.9/317.2 MB 11.8 MB/s eta 0:00:07\n",
      "     --------------------------- --------- 237.2/317.2 MB 11.8 MB/s eta 0:00:07\n",
      "     --------------------------- --------- 239.9/317.2 MB 11.8 MB/s eta 0:00:07\n",
      "     ---------------------------- -------- 242.2/317.2 MB 11.8 MB/s eta 0:00:07\n",
      "     ---------------------------- -------- 244.6/317.2 MB 11.8 MB/s eta 0:00:07\n",
      "     ---------------------------- -------- 246.9/317.2 MB 11.8 MB/s eta 0:00:06\n",
      "     ----------------------------- ------- 249.6/317.2 MB 11.8 MB/s eta 0:00:06\n",
      "     ----------------------------- ------- 251.9/317.2 MB 11.8 MB/s eta 0:00:06\n",
      "     ----------------------------- ------- 254.3/317.2 MB 11.8 MB/s eta 0:00:06\n",
      "     ----------------------------- ------- 256.9/317.2 MB 11.8 MB/s eta 0:00:06\n",
      "     ------------------------------ ------ 259.3/317.2 MB 11.8 MB/s eta 0:00:05\n",
      "     ------------------------------ ------ 261.6/317.2 MB 11.8 MB/s eta 0:00:05\n",
      "     ------------------------------ ------ 264.0/317.2 MB 11.8 MB/s eta 0:00:05\n",
      "     ------------------------------- ----- 266.3/317.2 MB 11.8 MB/s eta 0:00:05\n",
      "     ------------------------------- ----- 269.0/317.2 MB 11.8 MB/s eta 0:00:05\n",
      "     ------------------------------- ----- 271.3/317.2 MB 11.8 MB/s eta 0:00:04\n",
      "     ------------------------------- ----- 273.7/317.2 MB 11.8 MB/s eta 0:00:04\n",
      "     -------------------------------- ---- 276.3/317.2 MB 11.8 MB/s eta 0:00:04\n",
      "     -------------------------------- ---- 278.7/317.2 MB 11.8 MB/s eta 0:00:04\n",
      "     -------------------------------- ---- 281.0/317.2 MB 11.8 MB/s eta 0:00:04\n",
      "     --------------------------------- --- 283.4/317.2 MB 11.8 MB/s eta 0:00:03\n",
      "     --------------------------------- --- 286.0/317.2 MB 11.8 MB/s eta 0:00:03\n",
      "     --------------------------------- --- 288.4/317.2 MB 11.8 MB/s eta 0:00:03\n",
      "     --------------------------------- --- 290.7/317.2 MB 11.8 MB/s eta 0:00:03\n",
      "     ---------------------------------- -- 293.1/317.2 MB 11.8 MB/s eta 0:00:03\n",
      "     ---------------------------------- -- 295.7/317.2 MB 11.8 MB/s eta 0:00:02\n",
      "     ---------------------------------- -- 298.1/317.2 MB 11.8 MB/s eta 0:00:02\n",
      "     ----------------------------------- - 300.4/317.2 MB 11.8 MB/s eta 0:00:02\n",
      "     ----------------------------------- - 303.0/317.2 MB 11.8 MB/s eta 0:00:02\n",
      "     ----------------------------------- - 305.4/317.2 MB 11.8 MB/s eta 0:00:01\n",
      "     ----------------------------------- - 307.8/317.2 MB 11.8 MB/s eta 0:00:01\n",
      "     ------------------------------------  310.1/317.2 MB 11.8 MB/s eta 0:00:01\n",
      "     ------------------------------------  312.5/317.2 MB 11.8 MB/s eta 0:00:01\n",
      "     ------------------------------------  315.1/317.2 MB 11.8 MB/s eta 0:00:01\n",
      "     ------------------------------------  317.2/317.2 MB 11.8 MB/s eta 0:00:01\n",
      "     ------------------------------------  317.2/317.2 MB 11.8 MB/s eta 0:00:01\n",
      "     ------------------------------------- 317.2/317.2 MB 11.6 MB/s eta 0:00:00\n",
      "  Preparing metadata (setup.py): started\n",
      "  Preparing metadata (setup.py): finished with status 'done'\n",
      "Collecting py4j==0.10.9.7 (from pyspark)\n",
      "  Downloading py4j-0.10.9.7-py2.py3-none-any.whl.metadata (1.5 kB)\n",
      "Downloading py4j-0.10.9.7-py2.py3-none-any.whl (200 kB)\n",
      "Building wheels for collected packages: pyspark\n",
      "  Building wheel for pyspark (setup.py): started\n",
      "  Building wheel for pyspark (setup.py): finished with status 'done'\n",
      "  Created wheel for pyspark: filename=pyspark-3.5.5-py2.py3-none-any.whl size=317747904 sha256=ca411fbbfa26a751f4eba14fce482b1a7a6e6c6e0b406a73291dd92bcda624cc\n",
      "  Stored in directory: c:\\users\\yhc6909\\appdata\\local\\pip\\cache\\wheels\\0c\\7f\\b4\\0e68c6d8d89d2e582e5498ad88616c16d7c19028680e9d3840\n",
      "Successfully built pyspark\n",
      "Installing collected packages: py4j, pyspark\n",
      "\n",
      "   -------------------- ------------------- 1/2 [pyspark]\n",
      "   -------------------- ------------------- 1/2 [pyspark]\n",
      "   -------------------- ------------------- 1/2 [pyspark]\n",
      "   -------------------- ------------------- 1/2 [pyspark]\n",
      "   -------------------- ------------------- 1/2 [pyspark]\n",
      "   -------------------- ------------------- 1/2 [pyspark]\n",
      "   -------------------- ------------------- 1/2 [pyspark]\n",
      "   -------------------- ------------------- 1/2 [pyspark]\n",
      "   -------------------- ------------------- 1/2 [pyspark]\n",
      "   -------------------- ------------------- 1/2 [pyspark]\n",
      "   -------------------- ------------------- 1/2 [pyspark]\n",
      "   -------------------- ------------------- 1/2 [pyspark]\n",
      "   -------------------- ------------------- 1/2 [pyspark]\n",
      "   -------------------- ------------------- 1/2 [pyspark]\n",
      "   -------------------- ------------------- 1/2 [pyspark]\n",
      "   -------------------- ------------------- 1/2 [pyspark]\n",
      "   -------------------- ------------------- 1/2 [pyspark]\n",
      "   -------------------- ------------------- 1/2 [pyspark]\n",
      "   -------------------- ------------------- 1/2 [pyspark]\n",
      "   -------------------- ------------------- 1/2 [pyspark]\n",
      "   ---------------------------------------- 2/2 [pyspark]\n",
      "\n",
      "Successfully installed py4j-0.10.9.7 pyspark-3.5.5\n"
     ]
    },
    {
     "name": "stderr",
     "output_type": "stream",
     "text": [
      "  DEPRECATION: Building 'pyspark' using the legacy setup.py bdist_wheel mechanism, which will be removed in a future version. pip 25.3 will enforce this behaviour change. A possible replacement is to use the standardized build interface by setting the `--use-pep517` option, (possibly combined with `--no-build-isolation`), or adding a `pyproject.toml` file to the source tree of 'pyspark'. Discussion can be found at https://github.com/pypa/pip/issues/6334\n"
     ]
    }
   ],
   "source": [
    "!pip install pyspark"
   ]
  },
  {
   "cell_type": "code",
   "execution_count": 4,
   "id": "a9c2ade2-a513-4c43-9d22-c509b2be2093",
   "metadata": {},
   "outputs": [
    {
     "data": {
      "text/plain": [
       "[1, 'two', 3.0, ('four', 4), {'five': 5}]"
      ]
     },
     "execution_count": 4,
     "metadata": {},
     "output_type": "execute_result"
    }
   ],
   "source": [
    "collection_rdd.collect()"
   ]
  },
  {
   "cell_type": "markdown",
   "id": "a5292397-111c-41b0-92b6-afaacb3108de",
   "metadata": {},
   "source": [
    "## Why RDD if we have dataframes?\n",
    "- If the data at hand are more *freeformed*, using an RDD allows for storage of various types of objects.\n",
    "- Compared to dataframe, which will *attempt* (and fail) to find a common denominator to fit the data above."
   ]
  },
  {
   "cell_type": "markdown",
   "id": "dc6038c0-bce8-4e59-8681-2724a013aba8",
   "metadata": {},
   "source": [
    "## Main ingredients of RDD manipulation\n",
    "We cover three main building blocks for using RDDs, inheriting the concept of a MapReduce scheme."
   ]
  },
  {
   "cell_type": "markdown",
   "id": "54d1d4a5-2eea-4a7f-a114-3afe926615a5",
   "metadata": {},
   "source": [
    "Each of the following building blocks (*functions*) takes a functional input:\n",
    "- `map()`\n",
    "- `filter()`\n",
    "- `reduce()`"
   ]
  },
  {
   "cell_type": "markdown",
   "id": "d9ac1003-2657-4aa1-bebf-72cabddb87b7",
   "metadata": {},
   "source": [
    "### `map` through an example\n",
    "`map()` applies the given function to each element of the RDD."
   ]
  },
  {
   "cell_type": "code",
   "execution_count": 5,
   "id": "312efecc-4e1a-4291-8eba-003b9ac9062f",
   "metadata": {},
   "outputs": [],
   "source": [
    "from py4j.protocol import Py4JJavaError\n",
    "\n",
    "def add_one(value):\n",
    "    return value + 1\n",
    "\n",
    "collection_rdd_p1 = collection_rdd.map(add_one)"
   ]
  },
  {
   "cell_type": "code",
   "execution_count": null,
   "id": "59b073c6-1b0d-4ee2-a0b2-2e27ee90dfc6",
   "metadata": {},
   "outputs": [],
   "source": [
    "try: \n",
    "    print(collection_rdd_p1.collect())\n",
    "except Py4JJavaError as e:\n",
    "    print(e)\n",
    "\n",
    "# You'll get one of the following:\n",
    "# TypeError: can only concatenate str (not \"int\") to str\n",
    "# TypeError: unsupported operand type(s) for +: 'dict' and 'int'\n",
    "# TypeError: can only concatenate tuple (not \"int\") to tuple"
   ]
  },
  {
   "cell_type": "markdown",
   "id": "15ed71e1-744d-4b95-ae35-afec47d9c081",
   "metadata": {},
   "source": [
    "|![rdd-map](../img/rdd-map.png)|\n",
    "|:---:|\n",
    "|Applying `add_one()` to each element of RDD through `map()` (Fig 8.2 in Rioux, 2022).|"
   ]
  },
  {
   "cell_type": "markdown",
   "id": "aa3968b1-b0b9-4353-92aa-15a950b11d04",
   "metadata": {},
   "source": [
    "**Quick note:** \n",
    "- Why did the line throw an error?\n",
    "- When was the error thrown?"
   ]
  },
  {
   "cell_type": "markdown",
   "id": "2e0a97d4-1c2c-4b6b-99ee-0ee5ea465c41",
   "metadata": {},
   "source": [
    "**A potential fix:**"
   ]
  },
  {
   "cell_type": "code",
   "execution_count": null,
   "id": "69a233c8-6d1c-44d2-9412-e47fa06cfe64",
   "metadata": {},
   "outputs": [],
   "source": [
    "def safer_add_one(value):\n",
    "    try:\n",
    "        return value + 1\n",
    "    except TypeError:\n",
    "        return value\n",
    "\n",
    "# collection_rdd_p1_again = collection_rdd.map(safer_add_one)"
   ]
  },
  {
   "cell_type": "markdown",
   "id": "c8c8eb5c-f035-4a8e-9e07-48374357ea91",
   "metadata": {},
   "source": [
    "**Lesson here**:\n",
    "- PySpark does not warn you about the content of the RDD.\n",
    "- As the developer, we are responsible for how to deal with the data given to an RDD."
   ]
  },
  {
   "cell_type": "markdown",
   "id": "0c940566-96c8-4d69-bc5d-0eb606e04353",
   "metadata": {},
   "source": [
    "### `filter` through an example\n",
    "`filter()` takes a function that returns `True`/`False` based on any conditions."
   ]
  },
  {
   "cell_type": "code",
   "execution_count": null,
   "id": "dbfff441-752b-49a4-8654-e6e073be1495",
   "metadata": {},
   "outputs": [],
   "source": [
    "collection_rdd_filter = collection_rdd.filter(\n",
    "    lambda elem: isinstance(elem, (float, int))\n",
    ")"
   ]
  },
  {
   "cell_type": "code",
   "execution_count": null,
   "id": "371e7767-2713-40ec-9618-7212ca4496de",
   "metadata": {},
   "outputs": [],
   "source": [
    "# print(collection_rdd_filter.collect())"
   ]
  },
  {
   "cell_type": "markdown",
   "id": "edd0e174-e221-4742-a52b-a135ef0bd7aa",
   "metadata": {},
   "source": [
    "|![rdd-filter](../img/rdd-filter.png)|\n",
    "|:---:|\n",
    "|Applying `filter()` to the RDD (Fig 8.3 in Rioux, 2022).|"
   ]
  },
  {
   "cell_type": "markdown",
   "id": "a0ebe5b4-27f2-4920-885c-c7ede451be48",
   "metadata": {},
   "source": [
    "**A word about `lambda` function**"
   ]
  },
  {
   "cell_type": "markdown",
   "id": "2d864eef-7d7f-4b00-8c75-a32c5cee551b",
   "metadata": {},
   "source": [
    "|![rdd-lambda](../img/rdd-lambda.png)|\n",
    "|:---:|\n",
    "|The use of `lambda` function (Rioux, 2022).|"
   ]
  },
  {
   "cell_type": "markdown",
   "id": "b056d1f7-f27a-4cf6-ba9b-c56163658f2a",
   "metadata": {},
   "source": [
    "### `reduce` through an example\n",
    "`reduce()` summarizes the RDD by sequentially applying the given function.\n",
    "- similar to `groupby()` in a dataframe."
   ]
  },
  {
   "cell_type": "code",
   "execution_count": null,
   "id": "4d8b2328-9c01-4cb3-83a9-e5f076098071",
   "metadata": {},
   "outputs": [],
   "source": [
    "from operator import add\n",
    "\n",
    "collection_rdd2 = sc.parallelize([4, 7, 9.2, 5.6, -20])"
   ]
  },
  {
   "cell_type": "code",
   "execution_count": null,
   "id": "4ec95197-9069-4685-ad01-1320955448f5",
   "metadata": {},
   "outputs": [],
   "source": [
    "# collection_rdd2.reduce(add)"
   ]
  },
  {
   "cell_type": "code",
   "execution_count": null,
   "id": "38c173fb-a37c-4eea-b451-67cdc081adab",
   "metadata": {},
   "outputs": [],
   "source": [
    "# collection_rdd2.reduce(\n",
    "#     lambda a, b: a + b\n",
    "# )"
   ]
  },
  {
   "cell_type": "markdown",
   "id": "fb5db1cb-553e-433c-872f-0454445c9525",
   "metadata": {},
   "source": [
    "![rdd-reduce](../img/rdd-reduce.png)|\n",
    "|:---:|\n",
    "|Applying `add` through `reduce()` to the RDD (Fig 8.4 in Rioux, 2022).|\n"
   ]
  },
  {
   "cell_type": "markdown",
   "id": "e53c305e-3c86-498b-b059-356106643991",
   "metadata": {},
   "source": [
    "**Warnings about `reduce()`**\n",
    "- What functions are reasonable for `reduce()`?\n",
    "- *commutative operation*\n",
    "- *associative operation*"
   ]
  },
  {
   "cell_type": "markdown",
   "id": "7782ffc6-3584-4eb6-98cc-45e06433d46a",
   "metadata": {},
   "source": [
    "**Additional Note:**  \n",
    "\n",
    "A dataframe is actually an RDD, e.g.,"
   ]
  },
  {
   "cell_type": "code",
   "execution_count": null,
   "id": "801bee99-595f-4b1a-b6fa-2a8a89d10b8f",
   "metadata": {},
   "outputs": [],
   "source": [
    "# df = spark.createDataFrame([[1], [2], [3]], schema=[\"column\"])\n",
    " \n",
    "# print(df.rdd)\n",
    " \n",
    "# print(df.rdd.collect())"
   ]
  }
 ],
 "metadata": {
  "kernelspec": {
   "display_name": "Python 3 (ipykernel)",
   "language": "python",
   "name": "python3"
  },
  "language_info": {
   "codemirror_mode": {
    "name": "ipython",
    "version": 3
   },
   "file_extension": ".py",
   "mimetype": "text/x-python",
   "name": "python",
   "nbconvert_exporter": "python",
   "pygments_lexer": "ipython3",
   "version": "3.11.5"
  },
  "widgets": {
   "application/vnd.jupyter.widget-state+json": {
    "state": {},
    "version_major": 2,
    "version_minor": 0
   }
  }
 },
 "nbformat": 4,
 "nbformat_minor": 5
}
