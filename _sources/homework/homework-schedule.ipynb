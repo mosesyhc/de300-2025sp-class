{
 "cells": [
  {
   "cell_type": "markdown",
   "id": "67755054-79c0-4226-af25-5f16cd3f36d9",
   "metadata": {},
   "source": [
    "# Homework Schedule (as of April 25, 2025)\n",
    "\n",
    "| Homework                         | Release Date | Due Date  |\n",
    "|----------------------------------|:------------:|:---------:|\n",
    "| 1. Exploratory Data Analysis     | Apr 8        | Apr 17    |\n",
    "| 2. SQL/NoSQL, ETL                | Apr 29       | May 9     |\n",
    "| Proposal due                     |              | May 11    |\n",
    "| 3. ETL/ELT, Spark                | May 13       | May 23    |\n",
    "| 4. Automation of Data Pipelines  | May 27       | Jun 3     |\n",
    "| Project presentation/report due  |              | Jun 11    |\n"
   ]
  }
 ],
 "metadata": {
  "kernelspec": {
   "display_name": "Python 3 (ipykernel)",
   "language": "python",
   "name": "python3"
  },
  "language_info": {
   "codemirror_mode": {
    "name": "ipython",
    "version": 3
   },
   "file_extension": ".py",
   "mimetype": "text/x-python",
   "name": "python",
   "nbconvert_exporter": "python",
   "pygments_lexer": "ipython3",
   "version": "3.11.9"
  }
 },
 "nbformat": 4,
 "nbformat_minor": 5
}
