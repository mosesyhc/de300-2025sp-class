{
 "cells": [
  {
   "cell_type": "markdown",
   "id": "9961747e-c6e2-43dc-9456-9b160649d05e",
   "metadata": {},
   "source": [
    "# Setting up access to Keyspace in Jupyter notebook"
   ]
  },
  {
   "cell_type": "markdown",
   "id": "e09267f5-371b-4235-9f9c-92712b89a425",
   "metadata": {},
   "source": [
    "## Prerequisites\n",
    "Two files are required for accessing Keyspace in Jupyter notebook:  \n",
    "\n",
    "1. Starfield digital certificate\n",
    "2. AWS credentials for Keyspace\n",
    "\n",
    "More details about the setup can be found in [Using a Cassandra Python client](https://docs.aws.amazon.com/keyspaces/latest/devguide/using_python_driver.html#python_SigV4)."
   ]
  },
  {
   "cell_type": "markdown",
   "id": "7413c323-40ca-4ca7-afa3-5a43c039957a",
   "metadata": {},
   "source": [
    "### Starfield digital certificate\n",
    "The digital certificate can be downloaded by:"
   ]
  },
  {
   "cell_type": "code",
   "execution_count": null,
   "id": "e7cdbb8d-aec4-40a0-ab69-675aaa306530",
   "metadata": {},
   "outputs": [],
   "source": [
    "!curl https://certs.secureserver.net/repository/sf-class2-root.crt -O"
   ]
  },
  {
   "cell_type": "markdown",
   "id": "5d480e3c-032f-4f36-9df0-e0db2fe6cf47",
   "metadata": {},
   "source": [
    "### AWS credentials\n",
    "The AWS credentials file can be downloaded via Canvas.  Place this `credentials` file under `.aws/` folder on your local machine, or your EC2 instance, so that AWS knows where to look for the credentials.\n",
    "\n",
    "**MAJOR NOTE**: **Do not** store this credentials anywhere that is publicly accessible, github, public S3 bucket, etc.  That is the primary reason why this file is only available on Canvas."
   ]
  },
  {
   "cell_type": "markdown",
   "id": "8f40db07-49f7-4ac8-9e7d-73f04a112da3",
   "metadata": {},
   "source": [
    "## Sample code for connection"
   ]
  },
  {
   "cell_type": "markdown",
   "id": "8d18cd20-a091-49b7-b9a7-39521b0d0a9f",
   "metadata": {},
   "source": [
    "1. Install `cassandra-sigv4` via the following command:"
   ]
  },
  {
   "cell_type": "code",
   "execution_count": null,
   "id": "f080c3ed-b591-4a34-93ac-c949c9d6be3d",
   "metadata": {
    "scrolled": true
   },
   "outputs": [],
   "source": [
    "%pip install cassandra-sigv4"
   ]
  },
  {
   "cell_type": "markdown",
   "id": "3e6046e9-c3e3-43ab-8969-71b46196bcf5",
   "metadata": {},
   "source": [
    "2. Set up a `boto3` session and a Cassandra cluster (the Python way of interacting with AWS)."
   ]
  },
  {
   "cell_type": "code",
   "execution_count": null,
   "id": "a2291b01-a840-49a2-9089-31cb8f4a2f5b",
   "metadata": {},
   "outputs": [],
   "source": [
    "from cassandra.cluster import Cluster\n",
    "from ssl import SSLContext, PROTOCOL_TLSv1_2, CERT_REQUIRED\n",
    "from cassandra_sigv4.auth import SigV4AuthProvider\n",
    "import boto3\n",
    "\n",
    "# ssl setup\n",
    "ssl_context = SSLContext(PROTOCOL_TLSv1_2)\n",
    "ssl_context.load_verify_locations('sf-class2-root.crt')  # change your file path for locating the certificate\n",
    "ssl_context.verify_mode = CERT_REQUIRED\n",
    "\n",
    "# boto3 session setup\n",
    "boto_session = boto3.Session(region_name=\"us-east-2\")  # this AWS credentials is specific to `us-east-2` region"
   ]
  },
  {
   "cell_type": "code",
   "execution_count": null,
   "id": "b3696446-f8d2-4b6d-8e4e-af0bc5d6f8a4",
   "metadata": {},
   "outputs": [],
   "source": [
    "# authorization setup with SigV4\n",
    "auth_provider = SigV4AuthProvider(boto_session)"
   ]
  },
  {
   "cell_type": "code",
   "execution_count": null,
   "id": "24b6402e-dd4b-47c4-a5ad-f6608d8f079d",
   "metadata": {
    "scrolled": true
   },
   "outputs": [],
   "source": [
    "#cluster setup \n",
    "cluster = Cluster(['cassandra.us-east-2.amazonaws.com'], \n",
    "                  ssl_context=ssl_context, \n",
    "                  auth_provider=auth_provider, \n",
    "                  port=9142)  # TLS only communicates on port 9142"
   ]
  },
  {
   "cell_type": "markdown",
   "id": "1046db07-aba4-4136-8141-6ab5051a0578",
   "metadata": {},
   "source": [
    "## Working with Cassandra (AWS Keyspace)"
   ]
  },
  {
   "cell_type": "code",
   "execution_count": null,
   "id": "4ac8e07c-cba1-4148-82b8-c42258446fdd",
   "metadata": {},
   "outputs": [],
   "source": [
    "# establishing connection to Keyspace\n",
    "session = cluster.connect()"
   ]
  },
  {
   "cell_type": "code",
   "execution_count": null,
   "id": "76f120b7-3a30-4e2f-90ac-6d23d12aafa6",
   "metadata": {},
   "outputs": [],
   "source": [
    "# Insert any CQL queries between .connect() and .shutdown()\n",
    "\n",
    "# For example, show all keyspaces created\n",
    "r = session.execute('''\n",
    "    SELECT * FROM system_schema.keyspaces;\n",
    "    ''')\n",
    "print(r.current_rows)"
   ]
  },
  {
   "cell_type": "code",
   "execution_count": null,
   "id": "09b61adc-58bf-46a2-a1cd-f3f678d1ae92",
   "metadata": {},
   "outputs": [],
   "source": [
    "# For example, create a keyspace for HW2\n",
    "r = session.execute('''\n",
    "    CREATE KEYSPACE IF NOT EXISTS de300_demo \n",
    "    WITH replication = {'class': 'SingleRegionStrategy'};\n",
    "    ''')\n",
    "print(r.current_rows)"
   ]
  },
  {
   "cell_type": "markdown",
   "id": "f2934a1c-d898-4c2c-b947-bf6c2adfbc1b",
   "metadata": {},
   "source": [
    "## Exercises"
   ]
  },
  {
   "cell_type": "markdown",
   "id": "52330921-c5b8-4164-8d0c-8f60346c4b32",
   "metadata": {},
   "source": [
    "Let's first create a table within the keyspace 'de300-demo'. Note that when using Amazon Keyspaces, you must explicitly set an ExecutionProfile with LOCAL_QUORUM when creating your Cassandra Cluster in Python. Thus we set the credentials and reload the session"
   ]
  },
  {
   "cell_type": "code",
   "execution_count": null,
   "id": "2c6f1f59-9bb7-49f3-832c-d7a2e684a188",
   "metadata": {},
   "outputs": [],
   "source": [
    "from cassandra.cluster import ExecutionProfile, EXEC_PROFILE_DEFAULT\n",
    "from cassandra import ConsistencyLevel\n",
    "\n",
    "\n",
    "# Define execution profile with LOCAL_QUORUM\n",
    "execution_profile = ExecutionProfile(\n",
    "    consistency_level=ConsistencyLevel.LOCAL_QUORUM\n",
    ")\n",
    "\n",
    "# Cluster setup with correct profile\n",
    "cluster = Cluster(\n",
    "    ['cassandra.us-east-2.amazonaws.com'],\n",
    "    ssl_context=ssl_context,\n",
    "    auth_provider=auth_provider,\n",
    "    port=9142,\n",
    "    execution_profiles={EXEC_PROFILE_DEFAULT: execution_profile}\n",
    ")\n",
    "\n",
    "# establishing connection to Keyspace\n",
    "session = cluster.connect()\n",
    "session.set_keyspace('de300_demo')  # Replace with your keyspace"
   ]
  },
  {
   "cell_type": "markdown",
   "id": "1d6e3fb7-7af7-4b71-a476-085476dae6fa",
   "metadata": {},
   "source": [
    "Create a new table named 'github'"
   ]
  },
  {
   "cell_type": "code",
   "execution_count": null,
   "id": "e998ecf9-bdec-4f64-ba1a-e51684f2218c",
   "metadata": {},
   "outputs": [],
   "source": [
    "session.execute(\"\"\"\n",
    "CREATE TABLE IF NOT EXISTS github (\n",
    "    id UUID PRIMARY KEY,\n",
    "    name TEXT,\n",
    "    username TEXT\n",
    ")\n",
    "\"\"\")"
   ]
  },
  {
   "cell_type": "markdown",
   "id": "bb521db3-1e01-4d9c-911c-9a3f8af3e641",
   "metadata": {},
   "source": [
    "Insert data to the table (please replace the value below with your name and GitHub username)"
   ]
  },
  {
   "cell_type": "code",
   "execution_count": null,
   "id": "df7aec69-ab5e-41aa-a740-6ce5516e14f3",
   "metadata": {},
   "outputs": [],
   "source": [
    "import uuid\n",
    "\n",
    "session.execute(\"\"\"\n",
    "    INSERT INTO github (id, name, username)\n",
    "    VALUES (%s, %s, %s)\n",
    "\"\"\", (uuid.uuid4(), \"Your_Name\", \"Your_GitHub_Username\"))\n",
    "\n",
    "# Replace \"Your_Name\" with your name\n",
    "# Replace \"Your_GitHub_User_Name\" with your real GitHub User"
   ]
  },
  {
   "cell_type": "markdown",
   "id": "a9f74f80-ac8e-4a8e-85d0-8e78c0a65d1a",
   "metadata": {},
   "source": [
    "Export the table as a csv file"
   ]
  },
  {
   "cell_type": "code",
   "execution_count": null,
   "id": "1340998e-0025-4fef-8648-b7385c1fcb6d",
   "metadata": {},
   "outputs": [],
   "source": [
    "import csv\n",
    "\n",
    "rows = session.execute(\"SELECT * FROM GitHub\")\n",
    "with open(\"github.csv\", \"w\", newline=\"\") as f:\n",
    "    writer = csv.writer(f)\n",
    "    writer.writerow([\"id\", \"name\", \"username\"])\n",
    "    for row in rows:\n",
    "        writer.writerow([row.id, row.name, row.username])"
   ]
  },
  {
   "cell_type": "markdown",
   "id": "9e60ae9b-5cfa-4a3f-b88b-d82cd2ceb1d9",
   "metadata": {},
   "source": [
    "Create a folder named \"Lab4\" in your GitHub repository, and upload the csv file there."
   ]
  },
  {
   "cell_type": "markdown",
   "id": "3a0605c2-7709-4c06-b2a7-60e23c4e8f5e",
   "metadata": {},
   "source": [
    "## Shutdown your Cassandra connection"
   ]
  },
  {
   "cell_type": "code",
   "execution_count": null,
   "id": "61f262f0-697d-430d-ae96-f10bca1ec1b3",
   "metadata": {},
   "outputs": [],
   "source": [
    "session.shutdown()"
   ]
  }
 ],
 "metadata": {
  "kernelspec": {
   "display_name": "Python 3 (ipykernel)",
   "language": "python",
   "name": "python3"
  },
  "language_info": {
   "codemirror_mode": {
    "name": "ipython",
    "version": 3
   },
   "file_extension": ".py",
   "mimetype": "text/x-python",
   "name": "python",
   "nbconvert_exporter": "python",
   "pygments_lexer": "ipython3",
   "version": "3.8.8"
  },
  "widgets": {
   "application/vnd.jupyter.widget-state+json": {
    "state": {},
    "version_major": 2,
    "version_minor": 0
   }
  }
 },
 "nbformat": 4,
 "nbformat_minor": 5
}
